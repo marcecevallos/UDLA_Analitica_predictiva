{
 "cells": [
  {
   "cell_type": "markdown",
   "id": "e0c14972",
   "metadata": {},
   "source": [
    "# Modelos estacionarios univariados"
   ]
  },
  {
   "cell_type": "markdown",
   "id": "840324c4",
   "metadata": {},
   "source": [
    "# Modelos AR"
   ]
  },
  {
   "cell_type": "markdown",
   "id": "4f3f5aed",
   "metadata": {},
   "source": [
    "Los modelos autorregresivos, abreviados AR, predicen el comportamiento futuro utilizando el comportamiento pasado, tomando en cuenta la correlación entre los datos pasados y futuros. \n",
    "\n",
    "Es importante mencionar que en los modelos AR, la variable objetivo y la explicativa son la misma. La diferencia radica en que la variable independiente estará rezagada en uno o varios períodos con respecto a la variable dependiente. \n",
    "\n",
    "La idea detrás de este tipo de modelos es que si sabemos que el mercado de valores ha estado subiendo durante los últimos días, podemos esperar que siga subiendo en el futuro.\n",
    "\n",
    "La siguiente fórmula representa el modelo autorregresivo, la cual es una versión modificada de la fórmula de la pendiente en la que el valor objetivo se expresa como la suma de la intersección, el producto de un coeficiente y la salida anterior, y un término de corrección de errores.\n"
   ]
  },
  {
   "cell_type": "markdown",
   "id": "6daff4af",
   "metadata": {},
   "source": [
    "$$ Y_t=\\beta_0+ \\beta_1 * Y_{t-1}+\\epsilon_t $$"
   ]
  },
  {
   "cell_type": "markdown",
   "id": "b1347aa5",
   "metadata": {},
   "source": [
    "Donde:\n",
    "- 𝑌𝑡 es el precio o valor de la variable al momento presente\n",
    "- 𝛽0 es la tendencia temporal del precio 𝑌𝑡, también referido como \"drift\", \n",
    "- 𝑌𝑡−1 es nuestra variable objetivo rezagada un período y\n",
    "- 𝜖𝑡 es ruido blanco (número aleatorio de media cero)"
   ]
  },
  {
   "cell_type": "markdown",
   "id": "a9510d61",
   "metadata": {},
   "source": [
    "Existen ciertas tecnicidades al momento de predecir mediante un modelo AR, que incluyen el requerimiento de que la variable dependiente siempre esté como mínimo, un período de tiempo más avanzado que la variable independiente. Tras cámaras lo que sucede es que se corre un modelo de regresión lineal sobre si mismo, he aquí el por qué la palabra \"auto\" y regresivo.\n",
    "\n",
    "Los modelos AR se pueden usar para modelar cualquier serie que tenga algún grado de autocorrelación entre las observaciones en pasos de tiempo adyacentes. El caso de uso más común para este tipo de modelado es con los precios del mercado de valores donde el precio de hoy (t) está altamente correlacionado con el precio de hace un día (t-1).\n",
    "\n",
    "Estos modelos también se conocen como AR(p), donde p recibe la etiqueta de ‘orden’ y equivale al número de períodos los cuales vamos a retroceder para llevar a cabo el pronóstico de nuestra variable. Tenemos que tener en cuenta que cuantos más períodos retrocedamos o cuantos más órdenes adjudicamos al modelo, más información potencial figurará en nuestro pronóstico. \n",
    "\n",
    "El modelo AR de segundo orden, por lo tanto tendrá el valor de la variable de respuesta en un momento determinado dependiendo de los valores de los dos últimos rezagos. Así, el modelo AR (2) se definiría como:"
   ]
  },
  {
   "cell_type": "markdown",
   "id": "b7794bfd",
   "metadata": {},
   "source": [
    "$$ Y_t=\\beta_0 + \\beta_1 * Y_{t-1} + \\beta_2 * Y_{t-2} +\\epsilon_t $$"
   ]
  },
  {
   "cell_type": "markdown",
   "id": "7036fc22",
   "metadata": {},
   "source": [
    "Por lo que generalizando para mas rezagos obtendríamos:"
   ]
  },
  {
   "cell_type": "markdown",
   "id": "c1375559",
   "metadata": {},
   "source": [
    "$$ Y_t=\\beta_0 + \\beta_1 * Y_{t-1} + \\beta_2 * Y_{t-2} + .....+ \\beta_p * Y_{t-p} +\\epsilon_t $$"
   ]
  },
  {
   "cell_type": "markdown",
   "id": "af9be34e",
   "metadata": {},
   "source": [
    "# Modelos MA"
   ]
  },
  {
   "cell_type": "markdown",
   "id": "0d5960b9",
   "metadata": {},
   "source": [
    "Los modelos de media móvil, abreviados MA, son métodos estadísticos que toman la media de los valores para ayudar a reducir el ruido. Para ello, se toma el promedio durante un intervalo de tiempo específico y luego se encuentra el siguiente promedio eliminando el primer valor de los datos e incluyendo el siguiente valor de la serie, de esta forma:"
   ]
  },
  {
   "cell_type": "markdown",
   "id": "f3661389",
   "metadata": {},
   "source": [
    "![image.png](https://raw.githubusercontent.com/marcecevallos/UDLA_Analitica_predictiva/main/AR%2C%20MA%2C%20ARMA/moving_average.png)"
   ]
  },
  {
   "cell_type": "markdown",
   "id": "6df857e3",
   "metadata": {},
   "source": [
    "_Fuente:Geeksforgeeks: How to Calculate Moving Averages in Python?_"
   ]
  },
  {
   "cell_type": "markdown",
   "id": "51c31bf9",
   "metadata": {},
   "source": [
    "Un modelo de medias móviles es entonces un modelo donde el valor actual depende linealmente de los términos de error actuales y pasados. Nuevamente, se supone que los términos de error son mutuamente independientes y normalmente distribuidos, al igual que el ruido blanco.\n",
    "\n",
    "Un modelo de promedio móvil se denota como MA en función de (q) donde \"q\" es el orden, y calcula 𝑌𝑡 como una combinación lineal de la media de la serie, y los términos de error pasado. La magnitud del impacto de errores pasados en el valor presente se cuantifica utilizando los coeficientes de theta. Matemáticamente, expresamos un proceso de promedio móvil general de la siguiente manera:"
   ]
  },
  {
   "cell_type": "markdown",
   "id": "c52a347d",
   "metadata": {},
   "source": [
    "$$ Y_t= \\mu + \\epsilon_t + \\theta_1 * \\epsilon_{t-1} + \\theta_2 * \\epsilon_{t-2} +......+  \\theta_q * \\epsilon_{t-q} $$"
   ]
  },
  {
   "cell_type": "markdown",
   "id": "2f849c6f",
   "metadata": {},
   "source": [
    "Donde:\n",
    "- 𝑌𝑡 es el precio o valor de la variable al momento presente\n",
    "- 𝜇 es la media de la serie\n",
    "- 𝜖𝑡 es el termino de error presente y los demás epsilon son los términos de error pasado"
   ]
  },
  {
   "cell_type": "markdown",
   "id": "93112e58",
   "metadata": {},
   "source": [
    "Cuanto más grande sea \"q\", más términos de error pasados afectarán al valor presente, por lo que este parámetro se vuelve importante para determinar el orden del proceso de promedio móvil. De forma general, podemos seguir este procedimiento:"
   ]
  },
  {
   "cell_type": "markdown",
   "id": "be40c99c",
   "metadata": {},
   "source": [
    "![image.png](https://raw.githubusercontent.com/marcecevallos/UDLA_Analitica_predictiva/main/AR%2C%20MA%2C%20ARMA/ma_steps.png)"
   ]
  },
  {
   "cell_type": "markdown",
   "id": "1d583592",
   "metadata": {},
   "source": [
    "# Modelos ARMA"
   ]
  },
  {
   "cell_type": "markdown",
   "id": "aaf3f7a0",
   "metadata": {},
   "source": [
    "Finalmente los modelos de promedio móvil autorregresivo ARMA son una combinación de dos procesos de series de tiempo, el proceso autorregresivo (AR) y el proceso de promedio móvil (MA). \n",
    "\n",
    "Como los modelos ARMA provienen de la combinación de los modelos AR y MA que están en función de \"p\" y \"q\" respectivamente, estos modelos se denominan como ARMA(p,q) y tienen la forma:"
   ]
  },
  {
   "cell_type": "markdown",
   "id": "dbfd13a2",
   "metadata": {},
   "source": [
    "$$ Y_t= \\mu  + \\beta_0 + \\beta_1 * Y_{t-1} + \\beta_2 * Y_{t-2} + .....+ \\beta_p * Y_{t-p} + \\epsilon_t + \\theta_1 * \\epsilon_{t-1} + \\theta_2 * \\epsilon_{t-2} +......+  \\theta_q * \\epsilon_{t-q} $$"
   ]
  },
  {
   "cell_type": "markdown",
   "id": "0c882beb",
   "metadata": {},
   "source": [
    "A diferencia de los modelos AR, los modelos ARMA incluyen una cierta cantidad de términos de error rezagados en el componente MA, por lo que no se pueden estimar utilizando solo OLS. Los modelos ARMA se estiman más comúnmente utilizando la estimación de máxima verosimilitud-MLE."
   ]
  },
  {
   "cell_type": "markdown",
   "id": "ad1e1e06",
   "metadata": {},
   "source": [
    "Este tipo de modelos cuenta con dos supuestos:\n",
    "- La primera corresponde a la forma funcional, y asume que hemos seleccionado el correcto número de rezagos en \"p\" y \"q\" \n",
    "- La segunda, es que nuestra serie de tiempo es estacionaria"
   ]
  },
  {
   "cell_type": "markdown",
   "id": "f464ae9c",
   "metadata": {},
   "source": [
    "_Nota No.1: Los modelos ARMA solo se pueden estimar para series temporales univariadas. Si requerimos estimar un proceso de series de tiempo usando varias series de tiempo, debemos usar un modelo vectorial AR (VAR) o un modelo VARMA._"
   ]
  },
  {
   "cell_type": "markdown",
   "id": "27cd0b49",
   "metadata": {},
   "source": [
    "_Nota No.2: Si la serie de tiempo que se está tratando de estimar no parece ser estacionaria, entonces *no* podemos usar un modelo ARMA para estimar la serie. Para formas más simples de no estacionariedad, un modelo ARIMA puede ser útil, en donde mediante diferenciación de la serie, obtenemos una serie estacionaria y procedemos a modelar la serie.  El componente de diferenciación en este caso viene dado por \"i\"_"
   ]
  },
  {
   "cell_type": "markdown",
   "id": "36dd9762",
   "metadata": {},
   "source": [
    "### ACF y PCAF\n"
   ]
  },
  {
   "cell_type": "markdown",
   "id": "452b6a29",
   "metadata": {},
   "source": [
    "#### ACF"
   ]
  },
  {
   "cell_type": "markdown",
   "id": "2ee1f3cb",
   "metadata": {},
   "source": [
    "El gráfico de autocorrelación-ACF, se usa para indicar y ver qué tan similar será un valor dentro de una serie de tiempo dada, así como su valor pasado, por lo que también se considera una medida del grado de similitud entre diferentes series temporales y la versión rezagada en diferentes intervalos observados."
   ]
  },
  {
   "cell_type": "markdown",
   "id": "9732105b",
   "metadata": {},
   "source": [
    "#### PACF"
   ]
  },
  {
   "cell_type": "markdown",
   "id": "dad075e3",
   "metadata": {},
   "source": [
    "Similar a ACF, muestra la correlación de la secuencia con algún número de unidades por secuencia en la que sólo se muestran los efectos directos. (Los que tienen efectos intermedios se eliminan de la serie temporal)"
   ]
  },
  {
   "cell_type": "markdown",
   "id": "e6568db1",
   "metadata": {},
   "source": [
    "Dado que tenemos que estimar el número de \"p\" como de \"q\", en la práctica, los gráficos de autocorrelación ACF y la función de autocorrelación parcial PACF nos ayudan a determinar los componentes AR y MA de un modelo ARMA. Los componentes AR y MA estacionales y no estacionales se pueden determinar a partir de las gráficas ACF y PACF siguiendo estas características:"
   ]
  },
  {
   "cell_type": "markdown",
   "id": "8291cd21",
   "metadata": {},
   "source": [
    "![image.png](https://raw.githubusercontent.com/marcecevallos/UDLA_Analitica_predictiva/main/AR%2C%20MA%2C%20ARMA/acf_pcf_.png)"
   ]
  },
  {
   "cell_type": "markdown",
   "id": "f1fc8a02",
   "metadata": {},
   "source": [
    "_Fuente: Researchgate: Time-Series Regression Model for Prediction of Mean Daily Global Solar Radiation in Al-Ain, UAE_"
   ]
  },
  {
   "cell_type": "markdown",
   "id": "fb56c498",
   "metadata": {},
   "source": [
    "En síntesis debemos:\n",
    "- Identificar un patrón de cola en ACF o PACF.\n",
    "    - Si se reduce en ACF    → Modelo AR    → Corte en PACF proporcionará el orden p para AR(p)\n",
    "    - Si se reduce en PACF   → Modelo MA    → Corte en ACF proporcionará un orden q para MA(q)\n",
    "    - Cola de ACF y PACF     → modelo ARMA"
   ]
  },
  {
   "cell_type": "markdown",
   "id": "dc378c76",
   "metadata": {},
   "source": [
    "Si en los gráficos ACF y PACF, no está claro si se están reduciendo o cortando, entonces se recomienda modelar por ARMA. Con ARMA, los órdenes de \"p\" y \"q\" para AR y MA pueden ser más de uno. Por lo tanto, se recomienda probar algunas combinaciones \"p\" y \"q\" para obtener la mejor puntuación de AIC y BIC.\n",
    "\n",
    "Para obtener el valor \"p\" de AR para el modelo ARMA, veremos las gráficas PACF, para obtener el valor \"q\" en los modelos de MA, veremos el gráfico ACF."
   ]
  },
  {
   "cell_type": "markdown",
   "id": "43250a32",
   "metadata": {},
   "source": [
    "#### Ejemplos visuales:"
   ]
  },
  {
   "cell_type": "markdown",
   "id": "54cfffbe",
   "metadata": {},
   "source": [
    "![image.png](https://raw.githubusercontent.com/marcecevallos/UDLA_Analitica_predictiva/main/AR%2C%20MA%2C%20ARMA/acf_ar2.png)"
   ]
  },
  {
   "cell_type": "markdown",
   "id": "571ed8bd",
   "metadata": {},
   "source": [
    "<img![image.png](https://raw.githubusercontent.com/marcecevallos/UDLA_Analitica_predictiva/main/AR%2C%20MA%2C%20ARMA/pacf_ar2.png)"
   ]
  },
  {
   "cell_type": "markdown",
   "id": "1ad473ae",
   "metadata": {},
   "source": [
    "Como observamos una reducción de la cola en la gráfica ACF y oscilación, podemos decir que estamos frente a un modelo AR. Desde PACF, el último corte ocurre en el rezago 2. Por lo tanto, el orden es 2, por lo que concluimos que debería ser un modelo AR (2)."
   ]
  },
  {
   "cell_type": "markdown",
   "id": "8369fa27",
   "metadata": {},
   "source": [
    "![image.png](https://raw.githubusercontent.com/marcecevallos/UDLA_Analitica_predictiva/main/AR%2C%20MA%2C%20ARMA/acf_ma1.png)"
   ]
  },
  {
   "cell_type": "markdown",
   "id": "f7392c3a",
   "metadata": {},
   "source": [
    "![image.png](https://raw.githubusercontent.com/marcecevallos/UDLA_Analitica_predictiva/main/AR%2C%20MA%2C%20ARMA/pacf_ma1.png)"
   ]
  },
  {
   "cell_type": "markdown",
   "id": "3d2a3972",
   "metadata": {},
   "source": [
    "Como observamos en el en PACF, existe una reducción de la cola y oscilación, el corte está en el retraso 1 en ACF. Por lo tanto, es el modelo MA(1)."
   ]
  },
  {
   "cell_type": "markdown",
   "id": "d775c4c6",
   "metadata": {},
   "source": [
    "#### Diferenciación de una serie"
   ]
  },
  {
   "cell_type": "markdown",
   "id": "6e634853",
   "metadata": {},
   "source": [
    "La diferenciación puede ayudar a estabilizar la media de una serie temporal eliminando los cambios en el nivel de una serie  y, por lo tanto, eliminando (o reduciendo) la tendencia y la estacionalidad. Este procedimiento puede aplicarse consecutivamente más de una vez, dando lugar a las \"primeras diferencias\", \"segunda diferencias\", etc. "
   ]
  },
  {
   "cell_type": "markdown",
   "id": "c2949e6d",
   "metadata": {},
   "source": [
    "$$ d^1_t=Y_{t}-Y_{t-1} $$"
   ]
  },
  {
   "cell_type": "markdown",
   "id": "70c3b2f7",
   "metadata": {},
   "source": [
    "$$ d^2_t=d^1_t-d^1_{t-1} $$"
   ]
  },
  {
   "cell_type": "markdown",
   "id": "31e64414",
   "metadata": {},
   "source": [
    "$$...$$"
   ]
  },
  {
   "cell_type": "markdown",
   "id": "59257591",
   "metadata": {},
   "source": [
    "### Los datos"
   ]
  },
  {
   "cell_type": "markdown",
   "id": "93271436",
   "metadata": {},
   "source": [
    "En el presente script, continuaremos trabajando con acciones de Tesla por lo que importaremos la serie directamente de Yahoo Finance: https://finance.yahoo.com/quote/TSLA?p=TSLA&.tsrc=fin-srch"
   ]
  },
  {
   "cell_type": "code",
   "execution_count": 1,
   "id": "2fda4ed2",
   "metadata": {},
   "outputs": [],
   "source": [
    "#Llamemos al module\n",
    "import pandas_datareader as pdr"
   ]
  },
  {
   "cell_type": "markdown",
   "id": "9eafd0f6",
   "metadata": {},
   "source": [
    "#### Carguemos los datos"
   ]
  },
  {
   "cell_type": "code",
   "execution_count": 1,
   "id": "dd6758ed",
   "metadata": {},
   "outputs": [
    {
     "name": "stdout",
     "output_type": "stream",
     "text": [
      "[*********************100%***********************]  1 of 1 completed\n",
      "<class 'pandas.core.frame.DataFrame'>\n",
      "DatetimeIndex: 3240 entries, 2010-06-29 to 2023-05-11\n",
      "Data columns (total 6 columns):\n",
      " #   Column     Non-Null Count  Dtype  \n",
      "---  ------     --------------  -----  \n",
      " 0   Open       3240 non-null   float64\n",
      " 1   High       3240 non-null   float64\n",
      " 2   Low        3240 non-null   float64\n",
      " 3   Close      3240 non-null   float64\n",
      " 4   Adj Close  3240 non-null   float64\n",
      " 5   Volume     3240 non-null   int64  \n",
      "dtypes: float64(5), int64(1)\n",
      "memory usage: 177.2 KB\n",
      "None\n"
     ]
    }
   ],
   "source": [
    "import yfinance as yf\n",
    "\n",
    "# Set the ticker symbol\n",
    "ticker_symbol = 'TSLA'\n",
    "\n",
    "# Request the data from Yahoo Finance\n",
    "df = yf.download(ticker_symbol)\n",
    "\n",
    "# Print the data info\n",
    "print(df.info())"
   ]
  },
  {
   "cell_type": "markdown",
   "id": "97ff9d03",
   "metadata": {},
   "source": [
    "Perfecto hemos recopilado la data de las cotizaciones de las acciones de Tesla desde el año 2017 hasta el presente año y mes, por lo que tenemos un total de 1257 observaciones sin valores perdidos y tres columnas: el valor máximo de cotización en ese día, el valor mínimo de cotización en ese día, su valor a la apertura en la bolsa, su valor al cierre, el volumen de las acciones que se comercializaron en ese día y el valor ajustado al cierre que modifica el precio de cierre de una acción para reflejar el valor de esa acción después de contabilizar cualquier acción corporativa."
   ]
  },
  {
   "cell_type": "markdown",
   "id": "1df6875a",
   "metadata": {},
   "source": [
    "Como es habitual procedamos a reemplazar los nombres de las columnas a español:"
   ]
  },
  {
   "cell_type": "markdown",
   "id": "f7244a37",
   "metadata": {},
   "source": [
    "#### Recodificar el nombre de las columnas a español"
   ]
  },
  {
   "cell_type": "code",
   "execution_count": 2,
   "id": "017854a4",
   "metadata": {},
   "outputs": [],
   "source": [
    "df.rename({'Open':'precio_apertura', 'High':'precio_max', 'Low': 'precio_min',\n",
    "           'Close': 'precio_cierre', 'Adj Close':'precio_ajustado_cierre', 'Volume': 'Volumen'}, axis=1, inplace=True)"
   ]
  },
  {
   "cell_type": "code",
   "execution_count": 3,
   "id": "8eb7c11e",
   "metadata": {},
   "outputs": [
    {
     "data": {
      "text/html": [
       "<div>\n",
       "<style scoped>\n",
       "    .dataframe tbody tr th:only-of-type {\n",
       "        vertical-align: middle;\n",
       "    }\n",
       "\n",
       "    .dataframe tbody tr th {\n",
       "        vertical-align: top;\n",
       "    }\n",
       "\n",
       "    .dataframe thead th {\n",
       "        text-align: right;\n",
       "    }\n",
       "</style>\n",
       "<table border=\"1\" class=\"dataframe\">\n",
       "  <thead>\n",
       "    <tr style=\"text-align: right;\">\n",
       "      <th></th>\n",
       "      <th>precio_apertura</th>\n",
       "      <th>precio_max</th>\n",
       "      <th>precio_min</th>\n",
       "      <th>precio_cierre</th>\n",
       "      <th>precio_ajustado_cierre</th>\n",
       "      <th>Volumen</th>\n",
       "    </tr>\n",
       "    <tr>\n",
       "      <th>Date</th>\n",
       "      <th></th>\n",
       "      <th></th>\n",
       "      <th></th>\n",
       "      <th></th>\n",
       "      <th></th>\n",
       "      <th></th>\n",
       "    </tr>\n",
       "  </thead>\n",
       "  <tbody>\n",
       "    <tr>\n",
       "      <th>2010-06-29</th>\n",
       "      <td>1.266667</td>\n",
       "      <td>1.666667</td>\n",
       "      <td>1.169333</td>\n",
       "      <td>1.592667</td>\n",
       "      <td>1.592667</td>\n",
       "      <td>281494500</td>\n",
       "    </tr>\n",
       "    <tr>\n",
       "      <th>2010-06-30</th>\n",
       "      <td>1.719333</td>\n",
       "      <td>2.028000</td>\n",
       "      <td>1.553333</td>\n",
       "      <td>1.588667</td>\n",
       "      <td>1.588667</td>\n",
       "      <td>257806500</td>\n",
       "    </tr>\n",
       "    <tr>\n",
       "      <th>2010-07-01</th>\n",
       "      <td>1.666667</td>\n",
       "      <td>1.728000</td>\n",
       "      <td>1.351333</td>\n",
       "      <td>1.464000</td>\n",
       "      <td>1.464000</td>\n",
       "      <td>123282000</td>\n",
       "    </tr>\n",
       "    <tr>\n",
       "      <th>2010-07-02</th>\n",
       "      <td>1.533333</td>\n",
       "      <td>1.540000</td>\n",
       "      <td>1.247333</td>\n",
       "      <td>1.280000</td>\n",
       "      <td>1.280000</td>\n",
       "      <td>77097000</td>\n",
       "    </tr>\n",
       "    <tr>\n",
       "      <th>2010-07-06</th>\n",
       "      <td>1.333333</td>\n",
       "      <td>1.333333</td>\n",
       "      <td>1.055333</td>\n",
       "      <td>1.074000</td>\n",
       "      <td>1.074000</td>\n",
       "      <td>103003500</td>\n",
       "    </tr>\n",
       "    <tr>\n",
       "      <th>...</th>\n",
       "      <td>...</td>\n",
       "      <td>...</td>\n",
       "      <td>...</td>\n",
       "      <td>...</td>\n",
       "      <td>...</td>\n",
       "      <td>...</td>\n",
       "    </tr>\n",
       "    <tr>\n",
       "      <th>2023-05-05</th>\n",
       "      <td>163.970001</td>\n",
       "      <td>170.789993</td>\n",
       "      <td>163.509995</td>\n",
       "      <td>170.059998</td>\n",
       "      <td>170.059998</td>\n",
       "      <td>107440900</td>\n",
       "    </tr>\n",
       "    <tr>\n",
       "      <th>2023-05-08</th>\n",
       "      <td>173.720001</td>\n",
       "      <td>173.800003</td>\n",
       "      <td>169.190002</td>\n",
       "      <td>171.789993</td>\n",
       "      <td>171.789993</td>\n",
       "      <td>112249400</td>\n",
       "    </tr>\n",
       "    <tr>\n",
       "      <th>2023-05-09</th>\n",
       "      <td>168.949997</td>\n",
       "      <td>169.820007</td>\n",
       "      <td>166.559998</td>\n",
       "      <td>169.149994</td>\n",
       "      <td>169.149994</td>\n",
       "      <td>88965000</td>\n",
       "    </tr>\n",
       "    <tr>\n",
       "      <th>2023-05-10</th>\n",
       "      <td>172.550003</td>\n",
       "      <td>174.429993</td>\n",
       "      <td>166.679993</td>\n",
       "      <td>168.539993</td>\n",
       "      <td>168.539993</td>\n",
       "      <td>119840700</td>\n",
       "    </tr>\n",
       "    <tr>\n",
       "      <th>2023-05-11</th>\n",
       "      <td>168.699997</td>\n",
       "      <td>173.570007</td>\n",
       "      <td>166.789993</td>\n",
       "      <td>172.080002</td>\n",
       "      <td>172.080002</td>\n",
       "      <td>102533800</td>\n",
       "    </tr>\n",
       "  </tbody>\n",
       "</table>\n",
       "<p>3240 rows × 6 columns</p>\n",
       "</div>"
      ],
      "text/plain": [
       "            precio_apertura  precio_max  precio_min  precio_cierre  \\\n",
       "Date                                                                 \n",
       "2010-06-29         1.266667    1.666667    1.169333       1.592667   \n",
       "2010-06-30         1.719333    2.028000    1.553333       1.588667   \n",
       "2010-07-01         1.666667    1.728000    1.351333       1.464000   \n",
       "2010-07-02         1.533333    1.540000    1.247333       1.280000   \n",
       "2010-07-06         1.333333    1.333333    1.055333       1.074000   \n",
       "...                     ...         ...         ...            ...   \n",
       "2023-05-05       163.970001  170.789993  163.509995     170.059998   \n",
       "2023-05-08       173.720001  173.800003  169.190002     171.789993   \n",
       "2023-05-09       168.949997  169.820007  166.559998     169.149994   \n",
       "2023-05-10       172.550003  174.429993  166.679993     168.539993   \n",
       "2023-05-11       168.699997  173.570007  166.789993     172.080002   \n",
       "\n",
       "            precio_ajustado_cierre    Volumen  \n",
       "Date                                           \n",
       "2010-06-29                1.592667  281494500  \n",
       "2010-06-30                1.588667  257806500  \n",
       "2010-07-01                1.464000  123282000  \n",
       "2010-07-02                1.280000   77097000  \n",
       "2010-07-06                1.074000  103003500  \n",
       "...                            ...        ...  \n",
       "2023-05-05              170.059998  107440900  \n",
       "2023-05-08              171.789993  112249400  \n",
       "2023-05-09              169.149994   88965000  \n",
       "2023-05-10              168.539993  119840700  \n",
       "2023-05-11              172.080002  102533800  \n",
       "\n",
       "[3240 rows x 6 columns]"
      ]
     },
     "execution_count": 3,
     "metadata": {},
     "output_type": "execute_result"
    }
   ],
   "source": [
    "df"
   ]
  },
  {
   "cell_type": "markdown",
   "id": "b990469d",
   "metadata": {},
   "source": [
    "## Modelación de la serie de TESLA"
   ]
  },
  {
   "cell_type": "markdown",
   "id": "3f632ee0",
   "metadata": {},
   "source": [
    "#### Importemos las librerías necesarias"
   ]
  },
  {
   "cell_type": "code",
   "execution_count": 202,
   "id": "5d5e9dc1",
   "metadata": {},
   "outputs": [],
   "source": [
    "import numpy as np\n",
    "import pandas as pd\n",
    "import matplotlib.pyplot as plt\n",
    "import warnings\n",
    "warnings.filterwarnings(\"ignore\")"
   ]
  },
  {
   "cell_type": "markdown",
   "id": "269038ee",
   "metadata": {},
   "source": [
    "### 1. Verificar si la serie es estacionaria"
   ]
  },
  {
   "cell_type": "markdown",
   "id": "8aba2c69",
   "metadata": {},
   "source": [
    "Intuitivamente sabemos que la serie no es estacionaria ya que en el script anterior logramos estacionariedad al descomponerla en sus componentes, pero a manera de ejemplo en el presente script usaremos la prueba ADF para asegurarnos. \n",
    "\n",
    "Recordemos que, usamos la función adfuller de la biblioteca statsmodels y extraemos la estadística ADF y el valor p. Si el estadístico ADF es un número negativo grande y el valor p es menor que 0.05, entonces nuestra serie es estacionaria. De lo contrario, debemos aplicar transformaciones."
   ]
  },
  {
   "cell_type": "code",
   "execution_count": 203,
   "id": "10f3f5f2",
   "metadata": {},
   "outputs": [],
   "source": [
    "from statsmodels.tsa.stattools import adfuller"
   ]
  },
  {
   "cell_type": "code",
   "execution_count": 204,
   "id": "fc18c314",
   "metadata": {},
   "outputs": [
    {
     "name": "stdout",
     "output_type": "stream",
     "text": [
      "ADF Statistic: -2.132257\n",
      "p-value: 0.231743\n",
      "Critical Values:\n",
      "\t1%: -3.438\n",
      "\t5%: -2.865\n",
      "\t10%: -2.569\n"
     ]
    }
   ],
   "source": [
    "result_DF = adfuller(df.precio_cierre[df.index>\"2020\"])\n",
    "print('ADF Statistic: %f' % result_DF[0])\n",
    "print('p-value: %f' % result_DF[1])\n",
    "print('Critical Values:')\n",
    "for key, value in result_DF[4].items():\n",
    "    print('\\t%s: %.3f' % (key, value))"
   ]
  },
  {
   "cell_type": "markdown",
   "id": "b0c2611e",
   "metadata": {},
   "source": [
    "Nuestro estadístico de ADF de -1,11 y nuestro valor p es de 0.70. Aquí, la estadística ADF no es un número negativo grande y el valor \"p\" es mayor que 0,05. Por lo tanto, nuestra serie de tiempo no es estacionaria, y debemos aplicar transformaciones para hacerla estacionaria.\n",
    "\n",
    "Para que nuestra serie sea estacionaria, intentaremos estabilizar la tendencia aplicando una diferenciación de primer orden:"
   ]
  },
  {
   "cell_type": "markdown",
   "id": "e65c59e9",
   "metadata": {},
   "source": [
    "$$ d^1_t=Y_{t}-Y_{t-1} $$"
   ]
  },
  {
   "cell_type": "code",
   "execution_count": 205,
   "id": "180de610",
   "metadata": {},
   "outputs": [],
   "source": [
    "precio_cierre_diff = df.precio_cierre[df.index>\"2020\"].diff(1).dropna()"
   ]
  },
  {
   "cell_type": "code",
   "execution_count": 206,
   "id": "e951d566",
   "metadata": {},
   "outputs": [
    {
     "data": {
      "text/plain": [
       "Date\n",
       "2020-01-03    0.850000\n",
       "2020-01-06    0.568666\n",
       "2020-01-07    1.167999\n",
       "2020-01-08    1.538668\n",
       "2020-01-09   -0.720001\n",
       "                ...   \n",
       "2023-05-05    8.860001\n",
       "2023-05-08    1.729996\n",
       "2023-05-09   -2.639999\n",
       "2023-05-10   -0.610001\n",
       "2023-05-11    3.540009\n",
       "Name: precio_cierre, Length: 845, dtype: float64"
      ]
     },
     "execution_count": 206,
     "metadata": {},
     "output_type": "execute_result"
    }
   ],
   "source": [
    "precio_cierre_diff"
   ]
  },
  {
   "cell_type": "code",
   "execution_count": 207,
   "id": "5a73a86b",
   "metadata": {},
   "outputs": [
    {
     "data": {
      "text/plain": [
       "[<matplotlib.lines.Line2D at 0x1ef52d831c0>]"
      ]
     },
     "execution_count": 207,
     "metadata": {},
     "output_type": "execute_result"
    },
    {
     "data": {
      "image/png": "[encoded data removed]",
      "text/plain": [
       "<Figure size 576x360 with 1 Axes>"
      ]
     },
     "metadata": {
      "needs_background": "light"
     },
     "output_type": "display_data"
    }
   ],
   "source": [
    "plt.plot(precio_cierre_diff)"
   ]
  },
  {
   "cell_type": "markdown",
   "id": "a332b79d",
   "metadata": {},
   "source": [
    "Con una transformación aplicada a nuestra serie, podemos probar la estacionariedad nuevamente usando la prueba ADF:"
   ]
  },
  {
   "cell_type": "code",
   "execution_count": 208,
   "id": "97b9b2f7",
   "metadata": {},
   "outputs": [
    {
     "name": "stdout",
     "output_type": "stream",
     "text": [
      "ADF Statistic: -8.499745\n",
      "p-value: 0.000000\n",
      "Critical Values:\n",
      "\t1%: -3.438\n",
      "\t5%: -2.865\n",
      "\t10%: -2.569\n"
     ]
    }
   ],
   "source": [
    "result_DF_diff = adfuller(precio_cierre_diff)\n",
    "print('ADF Statistic: %f' % result_DF_diff[0])\n",
    "print('p-value: %f' % result_DF_diff[1])\n",
    "print('Critical Values:')\n",
    "for key, value in result_DF_diff[4].items():\n",
    "    print('\\t%s: %.3f' % (key, value))"
   ]
  },
  {
   "cell_type": "markdown",
   "id": "7587b955",
   "metadata": {},
   "source": [
    "Esto da una estadística ADF de -8.49 y un valor p de  0. Por lo tanto, con una estadística ADF negativa grande y un valor p mucho menor que 0,05, podemos decir que nuestra serie es estacionaria.\n",
    "\n",
    "Nuestro siguiente paso es trazar la función de autocorrelación y autocorrelación parcial. La biblioteca statsmodels incluye convenientemente la función plot_acf para nosotros. Simplemente pasamos nuestra serie diferenciada y especificamos el número de retrasos en el parámetro de retrasos."
   ]
  },
  {
   "cell_type": "markdown",
   "id": "f2619fb9",
   "metadata": {},
   "source": [
    "### 2. Graficar el ACF y el PACF"
   ]
  },
  {
   "cell_type": "code",
   "execution_count": 209,
   "id": "a98adaf9",
   "metadata": {},
   "outputs": [],
   "source": [
    "from statsmodels.graphics.tsaplots import plot_acf\n",
    "from statsmodels.graphics.tsaplots import plot_pacf\n",
    "plt.rcParams[\"figure.figsize\"] = (8,5)"
   ]
  },
  {
   "cell_type": "code",
   "execution_count": 210,
   "id": "5d2c91b6",
   "metadata": {},
   "outputs": [
    {
     "data": {
      "image/png": "[encoded data removed]",
      "text/plain": [
       "<Figure size 576x360 with 1 Axes>"
      ]
     },
     "metadata": {
      "needs_background": "light"
     },
     "output_type": "display_data"
    }
   ],
   "source": [
    "plot_acf(precio_cierre_diff, lags=30);\n",
    "plt.tight_layout()"
   ]
  },
  {
   "cell_type": "code",
   "execution_count": 211,
   "id": "c4c7e3ac",
   "metadata": {},
   "outputs": [
    {
     "data": {
      "image/png": "[encoded data removed]",
      "text/plain": [
       "<Figure size 576x360 with 1 Axes>"
      ]
     },
     "metadata": {
      "needs_background": "light"
     },
     "output_type": "display_data"
    }
   ],
   "source": [
    "plot_pacf(precio_cierre_diff, lags=30);\n",
    "plt.tight_layout()"
   ]
  },
  {
   "cell_type": "markdown",
   "id": "36d92f1a",
   "metadata": {},
   "source": [
    "Como podemos observar no existe un comportamiento claro en los gráficos de ACF y PACF, esto en gran medida, se debe a que estamos trabajando con una serie de tiempo diaria que recoge mucho ruido y variabilidad. Recuerden que en la primera tarea de esta semana se pidió trabajar o con una serie semanal o mensual, por lo que en este script ejemplificaremos que sucede con una serie mensual para disminuir las distorsiones excesivas diarias propias de las acciones e incrementar así, su poder predictivo."
   ]
  },
  {
   "cell_type": "markdown",
   "id": "376fd794",
   "metadata": {},
   "source": [
    "#### AR (p)"
   ]
  },
  {
   "cell_type": "markdown",
   "id": "3b243f98",
   "metadata": {},
   "source": [
    "Para el proceso autoregresivo y conforme a la tabla de la sección teórica, requerimos que el ACF decaiga hacia cero y que haya una posible oscilación, la cual existe por lo cual sabemos que esta serie de tiempo es autoregresiva."
   ]
  },
  {
   "cell_type": "markdown",
   "id": "774c1806",
   "metadata": {},
   "source": [
    "Para su orden, inspeccionamos el PACF, donde los rezagos en 4, 7 son significativos. Luego existe una sección en donde los rezagos 8, 11 y 15 son significativos. Tomemos inicialmente el último rezago significativo del primer grupo AR (4) que es el primer rezago del bloque donde los rezagos a seguir se vuelven no significantes."
   ]
  },
  {
   "cell_type": "markdown",
   "id": "ca5b574e",
   "metadata": {},
   "source": [
    "#### MA (q)"
   ]
  },
  {
   "cell_type": "markdown",
   "id": "909463f9",
   "metadata": {},
   "source": [
    "Para el proceso de medias móviles y conforme a la tabla de la sección teórica, requerimos que el PACF decaiga hacia cero y que haya una posible oscilación. Este componente es menos claro que en el proceso autoregresivo ya que existen varios rezagos que rompen los intervalos de confianza."
   ]
  },
  {
   "cell_type": "markdown",
   "id": "844db668",
   "metadata": {},
   "source": [
    "Como podemos ver en el ACF, los únicos rezagos significativos son el 4 y el 7. Probaremos inicialmente con MA(4)"
   ]
  },
  {
   "cell_type": "markdown",
   "id": "2b85d772",
   "metadata": {},
   "source": [
    "### 3. Determinar el modelo"
   ]
  },
  {
   "cell_type": "markdown",
   "id": "dc3bc1f1",
   "metadata": {},
   "source": [
    "Teniendo en cuenta que partimos de una serie diferenciada, nuestro modelo contará con el componente de integración 1, dado que alcanzó la estacionariedad aplicado las primeras diferencias. Además, en virtud que encontramos autocorrelaciones y aurocorrelaciones parciales significativas, probaremos un modelo ARIMA importando la función arima y especificando loc componentes \"p\", \"q\" y \"d\" que corresponde a la diferenciación."
   ]
  },
  {
   "cell_type": "code",
   "execution_count": 212,
   "id": "3c5154bf",
   "metadata": {},
   "outputs": [],
   "source": [
    "from statsmodels.tsa.arima.model import ARIMA"
   ]
  },
  {
   "cell_type": "markdown",
   "id": "5b64020e",
   "metadata": {},
   "source": [
    "Recordemos que AR está en función de (p) y MA en función de (q):"
   ]
  },
  {
   "cell_type": "code",
   "execution_count": 224,
   "id": "9e5067be",
   "metadata": {},
   "outputs": [],
   "source": [
    "#Definimos el orden de los componentes:\n",
    "p = 4\n",
    "d = 1\n",
    "q = 4"
   ]
  },
  {
   "cell_type": "code",
   "execution_count": 225,
   "id": "87adf064",
   "metadata": {},
   "outputs": [
    {
     "name": "stdout",
     "output_type": "stream",
     "text": [
      "                               SARIMAX Results                                \n",
      "==============================================================================\n",
      "Dep. Variable:          precio_cierre   No. Observations:                  846\n",
      "Model:                 ARIMA(4, 1, 4)   Log Likelihood               -3025.816\n",
      "Date:                Fri, 12 May 2023   AIC                           6069.631\n",
      "Time:                        06:53:27   BIC                           6112.285\n",
      "Sample:                             0   HQIC                          6085.974\n",
      "                                - 846                                         \n",
      "Covariance Type:                  opg                                         \n",
      "==============================================================================\n",
      "                 coef    std err          z      P>|z|      [0.025      0.975]\n",
      "------------------------------------------------------------------------------\n",
      "ar.L1         -0.1671      0.312     -0.535      0.593      -0.779       0.445\n",
      "ar.L2          0.9545      0.260      3.668      0.000       0.444       1.464\n",
      "ar.L3          0.3479      0.219      1.586      0.113      -0.082       0.778\n",
      "ar.L4         -0.6224      0.275     -2.265      0.024      -1.161      -0.084\n",
      "ma.L1          0.1282      0.298      0.430      0.667      -0.457       0.713\n",
      "ma.L2         -0.9368      0.249     -3.758      0.000      -1.425      -0.448\n",
      "ma.L3         -0.3277      0.204     -1.610      0.107      -0.727       0.071\n",
      "ma.L4          0.6625      0.262      2.531      0.011       0.149       1.176\n",
      "sigma2        75.4372      2.280     33.084      0.000      70.968      79.906\n",
      "===================================================================================\n",
      "Ljung-Box (L1) (Q):                   0.04   Jarque-Bera (JB):               494.68\n",
      "Prob(Q):                              0.85   Prob(JB):                         0.00\n",
      "Heteroskedasticity (H):               2.19   Skew:                            -0.14\n",
      "Prob(H) (two-sided):                  0.00   Kurtosis:                         6.74\n",
      "===================================================================================\n",
      "\n",
      "Warnings:\n",
      "[1] Covariance matrix calculated using the outer product of gradients (complex-step).\n"
     ]
    }
   ],
   "source": [
    "modelo1 = ARIMA(df.precio_cierre[df.index>\"2020\"], order=(p, d, q))\n",
    "resultado1 = modelo1.fit()\n",
    "print(resultado1.summary())"
   ]
  },
  {
   "cell_type": "markdown",
   "id": "ecabcf61",
   "metadata": {},
   "source": [
    "Como podemos observar, recibimos un mensaje en el que la optimización falla, y producto de ello, todos los coeficientes son no-significativos.\n",
    "\n",
    "He aquí donde tenemos que intentar varias combinaciones. Mi primera sugerencia sería eliminar el proceso de medias móviles ya que es aquel que es menos significativo y ver que nos devuelve el modelo:"
   ]
  },
  {
   "cell_type": "code",
   "execution_count": 215,
   "id": "0f433846",
   "metadata": {},
   "outputs": [],
   "source": [
    "#Definimos el orden de los componentes:\n",
    "p = 0\n",
    "d = 1\n",
    "q = 0 # eliminando el proceso MA"
   ]
  },
  {
   "cell_type": "code",
   "execution_count": 216,
   "id": "d3de981e",
   "metadata": {},
   "outputs": [
    {
     "name": "stdout",
     "output_type": "stream",
     "text": [
      "                               SARIMAX Results                                \n",
      "==============================================================================\n",
      "Dep. Variable:          precio_cierre   No. Observations:                  846\n",
      "Model:                 ARIMA(0, 1, 0)   Log Likelihood               -3033.298\n",
      "Date:                Fri, 12 May 2023   AIC                           6068.596\n",
      "Time:                        06:51:27   BIC                           6073.336\n",
      "Sample:                             0   HQIC                          6070.412\n",
      "                                - 846                                         \n",
      "Covariance Type:                  opg                                         \n",
      "==============================================================================\n",
      "                 coef    std err          z      P>|z|      [0.025      0.975]\n",
      "------------------------------------------------------------------------------\n",
      "sigma2        76.8267      2.206     34.820      0.000      72.502      81.151\n",
      "===================================================================================\n",
      "Ljung-Box (L1) (Q):                   1.51   Jarque-Bera (JB):               498.59\n",
      "Prob(Q):                              0.22   Prob(JB):                         0.00\n",
      "Heteroskedasticity (H):               2.30   Skew:                            -0.14\n",
      "Prob(H) (two-sided):                  0.00   Kurtosis:                         6.75\n",
      "===================================================================================\n",
      "\n",
      "Warnings:\n",
      "[1] Covariance matrix calculated using the outer product of gradients (complex-step).\n"
     ]
    }
   ],
   "source": [
    "modelo1 = ARIMA(df.precio_cierre[df.index>\"2020\"], order=(p, d, q))\n",
    "resultado1 = modelo1.fit()\n",
    "print(resultado1.summary())"
   ]
  },
  {
   "cell_type": "markdown",
   "id": "a38cc890",
   "metadata": {},
   "source": [
    "#### verificando a priori nuestro guess con: Autoarima!!!"
   ]
  },
  {
   "cell_type": "code",
   "execution_count": 223,
   "id": "e089b500",
   "metadata": {},
   "outputs": [
    {
     "name": "stdout",
     "output_type": "stream",
     "text": [
      "                               SARIMAX Results                                \n",
      "==============================================================================\n",
      "Dep. Variable:                      y   No. Observations:                  846\n",
      "Model:               SARIMAX(0, 1, 0)   Log Likelihood               -3033.298\n",
      "Date:                Fri, 12 May 2023   AIC                           6068.596\n",
      "Time:                        06:52:53   BIC                           6073.336\n",
      "Sample:                             0   HQIC                          6070.412\n",
      "                                - 846                                         \n",
      "Covariance Type:                  opg                                         \n",
      "==============================================================================\n",
      "                 coef    std err          z      P>|z|      [0.025      0.975]\n",
      "------------------------------------------------------------------------------\n",
      "sigma2        76.8267      2.206     34.820      0.000      72.502      81.151\n",
      "===================================================================================\n",
      "Ljung-Box (L1) (Q):                   1.51   Jarque-Bera (JB):               498.59\n",
      "Prob(Q):                              0.22   Prob(JB):                         0.00\n",
      "Heteroskedasticity (H):               2.30   Skew:                            -0.14\n",
      "Prob(H) (two-sided):                  0.00   Kurtosis:                         6.75\n",
      "===================================================================================\n",
      "\n",
      "Warnings:\n",
      "[1] Covariance matrix calculated using the outer product of gradients (complex-step).\n"
     ]
    }
   ],
   "source": [
    "from pmdarima.arima import auto_arima\n",
    "\n",
    "# Create an auto ARIMA model\n",
    "model = auto_arima(df.precio_cierre[df.index>\"2020\"], seasonal=False, suppress_warnings=True, error_action=\"ignore\")\n",
    "\n",
    "# Print the model summary\n",
    "print(model.summary())\n"
   ]
  },
  {
   "cell_type": "markdown",
   "id": "6aac49a9",
   "metadata": {},
   "source": [
    "Muchísimo mejor.\n",
    "\n",
    "El resumen del modelo proporciona varias medidas estadísticas para evaluar el rendimiento de nuestro modelo, por ejemplo: los parámetros de los coeficientes son altamente significativos ya que todos tienen un valor p inferior a 0,05. por lo que, nos quedaremos con este modelo, y pronosticaremos los valores con esta definición matemática."
   ]
  },
  {
   "cell_type": "markdown",
   "id": "93848ebc",
   "metadata": {},
   "source": [
    "### 4. Predicciones modelo AR"
   ]
  },
  {
   "cell_type": "code",
   "execution_count": 217,
   "id": "a24f7848",
   "metadata": {},
   "outputs": [],
   "source": [
    "from statsmodels.graphics.tsaplots import plot_predict"
   ]
  },
  {
   "cell_type": "code",
   "execution_count": 218,
   "id": "b9c26aa2",
   "metadata": {},
   "outputs": [
    {
     "data": {
      "image/png": "[encoded data removed]",
      "text/plain": [
       "<Figure size 576x360 with 1 Axes>"
      ]
     },
     "metadata": {
      "needs_background": "light"
     },
     "output_type": "display_data"
    }
   ],
   "source": [
    "plot_predict(resultado1, dynamic=False)\n",
    "plt.show()"
   ]
  },
  {
   "cell_type": "markdown",
   "id": "6ff060f2",
   "metadata": {},
   "source": [
    "## Generar las predicciones en datos que el modelo nunca ha visto separando la base de datos en 70% y 30%"
   ]
  },
  {
   "cell_type": "code",
   "execution_count": 219,
   "id": "e36df5d8",
   "metadata": {},
   "outputs": [],
   "source": [
    "train_data=tesla_mensual[0:int(len(tesla_mensual)*0.7)]\n",
    "test_data=tesla_mensual[int(len(tesla_mensual)*0.7):]"
   ]
  },
  {
   "cell_type": "markdown",
   "id": "e8fa2d00",
   "metadata": {},
   "source": [
    "### For loop para generar cada predicción"
   ]
  },
  {
   "cell_type": "code",
   "execution_count": 220,
   "id": "3f67b449",
   "metadata": {},
   "outputs": [],
   "source": [
    "historico = train_data.tolist()\n",
    "predicciones = []\n",
    "n = len(test_data)\n",
    "for time_point in range(n):\n",
    "    model = ARIMA(historico, order=(p,d,q))\n",
    "    model_fit = model.fit()\n",
    "    output = model_fit.forecast()\n",
    "    yhat = output[0]\n",
    "    predicciones.append(yhat)\n",
    "    true_test_value = test_data[time_point]\n",
    "    historico.append(true_test_value)"
   ]
  },
  {
   "cell_type": "markdown",
   "id": "6690bfdd",
   "metadata": {},
   "source": [
    "### Gráfico comparativo de las predicciones punto a punto"
   ]
  },
  {
   "cell_type": "code",
   "execution_count": 221,
   "id": "c17fc39d",
   "metadata": {},
   "outputs": [
    {
     "data": {
      "image/png": "[encoded data removed]",
      "text/plain": [
       "<Figure size 576x360 with 1 Axes>"
      ]
     },
     "metadata": {
      "needs_background": "light"
     },
     "output_type": "display_data"
    }
   ],
   "source": [
    "rango = tesla_mensual[int(len(tesla_mensual)*0.7):].index\n",
    "plt.plot(rango, predicciones, color='blue', marker='o', linestyle='dashed', label='predicciones')\n",
    "plt.plot(rango, test_data, color='red', label='valores observados')\n",
    "plt.title('TESLA precios')\n",
    "plt.xlabel('Fecha')\n",
    "plt.ylabel('precios')\n",
    "\n",
    "plt.legend()\n",
    "plt.show()"
   ]
  },
  {
   "cell_type": "markdown",
   "id": "1e7068e7",
   "metadata": {},
   "source": [
    "El ARIMA(4,2,0) parece predecir decentemente a una frecuencia mensual, ya que los valores reales se encuentran fluctuando alrededor de los valores pronosticados. Para ajustar más las predicciones podríamos aplicar un modelo SARIMAX, lastimosamente el modelo se escapa a la cobertura de este curso, pero pueden investigarlo online y aplicarlo a nuestra serie."
   ]
  },
  {
   "cell_type": "markdown",
   "id": "2a1b4e89",
   "metadata": {},
   "source": [
    "Grafiquemos los residuos para asegurarnos de que no haya patrones, intentando identificar la media y la varianza constantes:"
   ]
  },
  {
   "cell_type": "code",
   "execution_count": 222,
   "id": "c125e867",
   "metadata": {},
   "outputs": [
    {
     "data": {
      "image/png": "[encoded data removed]",
      "text/plain": [
       "<Figure size 1080x288 with 2 Axes>"
      ]
     },
     "metadata": {
      "needs_background": "light"
     },
     "output_type": "display_data"
    }
   ],
   "source": [
    "residuos = pd.DataFrame(resultado1.resid)  \n",
    "fig, ax = plt.subplots(1,2, figsize=(15,4))  \n",
    "residuos.plot(title = \"Residuos\", ax = ax[0])  \n",
    "residuos.plot(kind = 'kde', title = 'Densidad', ax = ax[1])  \n",
    "plt.show()  "
   ]
  },
  {
   "cell_type": "markdown",
   "id": "1bd4032d",
   "metadata": {},
   "source": [
    "En el ejemplo anterior, hemos trazado los errores residuales y los gráficos de densidad. Podemos observar que los errores residuales parecen oscilar al alrededor de cero aunque no exctamente y una varianza uniforme en los años posteriores."
   ]
  }
 ],
 "metadata": {
  "kernelspec": {
   "display_name": "Python 3 (ipykernel)",
   "language": "python",
   "name": "python3"
  },
  "language_info": {
   "codemirror_mode": {
    "name": "ipython",
    "version": 3
   },
   "file_extension": ".py",
   "mimetype": "text/x-python",
   "name": "python",
   "nbconvert_exporter": "python",
   "pygments_lexer": "ipython3",
   "version": "3.9.7"
  }
 },
 "nbformat": 4,
 "nbformat_minor": 5
}
