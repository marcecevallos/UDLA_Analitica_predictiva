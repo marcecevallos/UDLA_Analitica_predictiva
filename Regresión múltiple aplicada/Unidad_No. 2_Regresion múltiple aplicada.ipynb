{
 "cells": [
  {
   "cell_type": "markdown",
   "id": "3b325fd0",
   "metadata": {},
   "source": [
    "El script de la Unidad_No.1_Regresion Linear simple_aplicada, cubrió desde los componentes de la Regresión Lineal, al método de MCO y los supuestos del modelo.\n",
    "En el script de hoy, trabajaremos con la base de los bienes inmuebles y mejoraremos la variabilidad explicada introduciendo nuevas variables al modelo, sin discriminar si son de tipo numérica o categórica.\n",
    "\n",
    "Manos a la obra!"
   ]
  },
  {
   "cell_type": "markdown",
   "id": "840324c4",
   "metadata": {},
   "source": [
    "# La Regresión Lineal Múltiple"
   ]
  },
  {
   "cell_type": "markdown",
   "id": "4f3f5aed",
   "metadata": {},
   "source": [
    "A diferencia de lo que hemos aprendido hasta el día de hoy, la regresión lineal múltiple se utiliza para estimar la relación entre *dos o más variables independientes* y una variable dependiente. \n"
   ]
  },
  {
   "cell_type": "markdown",
   "id": "6a2bf9d3",
   "metadata": {},
   "source": [
    "$$\\hat Y=\\underbrace{\\hat \\beta_0+\\hat \\beta_1X+\\hat \\beta_2X+...\\hat \\beta_nX}_{modelo}+\\underbrace{\\epsilon}_{error} $$"
   ]
  },
  {
   "cell_type": "markdown",
   "id": "4e7919e6",
   "metadata": {},
   "source": [
    "Al igual que la Regresión Lineal simple, su versión extendida recoge en el lado izquierdo de la estimación de nuestra variable dependiente \"Y\" por el método de Mínimos Cuadrados Ordinarios-MCO y los términos de la mano derecha representan a nuestra línea recta más un error de estimación que es la diferencia entre el valor observado o real de \"Y\" y el valor estimado de \"Y\" por la fórmula precedente.\n",
    "\n",
    "Específicamente, se utiliza para evaluar la relación entre dos variables teniendo en cuenta el efecto de otras variables, lo que permite cancelar el efecto de estas otras variables para aislar y medir la relación entre las dos variables de interés. Este punto es la principal diferencia con la regresión lineal simple.\n",
    "\n",
    "Recordemos que el error, recogía la influencia de variables explicativas no incluídas en el modelo y seguía una distribución conjunta normal, con media cero y de desviación estándar desconocida. \n",
    "\n",
    "Es así que típicamente en este script esperaríamos que los errores generados en nuestros modelos de regresión contengan errores menores a los de la regresión simple.\n",
    "\n",
    "    "
   ]
  },
  {
   "cell_type": "markdown",
   "id": "16f487aa",
   "metadata": {},
   "source": [
    "_Nota No. 1: Es importante mencionar la estimación de los parámetros por el método de los mínimos cuadrados se basa en el mismo principio que el de la regresión lineal simple, pero aplicado a \"p\" dimensiones. Por lo tanto, ya no se trata de encontrar la mejor línea (la que pasa más cerca de los pares de puntos) sino de encontrar el plano p-dimensional que pasa más cerca de los puntos. Para ello, se aplica el método MCO y se minimiza la suma de los cuadrados de las desviaciones de los puntos en el plano:_"
   ]
  },
  {
   "attachments": {
    "image-2.png": {
     "image/png": "[encoded data removed]"
    }
   },
   "cell_type": "markdown",
   "id": "75294a70",
   "metadata": {},
   "source": [
    "![image-2.png](attachment:image-2.png)"
   ]
  },
  {
   "cell_type": "markdown",
   "id": "05b67934",
   "metadata": {},
   "source": [
    "_Fuente: Stackoverflow:scatterplot3d regression plane with residuals_"
   ]
  },
  {
   "cell_type": "markdown",
   "id": "4c937b97",
   "metadata": {},
   "source": [
    "Para la interpretación de los coeficientes de nuestros estimadores, tenemos que terner en cuenta que se trata de una estimación ajustada de los coeficientes, lo que significa que es: \"después de tener en cuenta los efectos lineales de las otras variables independientes sobre la variable dependiente, pero también sobre la variable predictora\", lo que se traduce a que β1 corresponde a la pendiente de la relación entre \"Y\" y \"X1\"  cuando los efectos lineales de las otras variables explicativas (X2, … , Xn), han sido eliminados, tanto a nivel de la variable dependiente \"Y\"  como también a nivel de X1 ."
   ]
  },
  {
   "cell_type": "markdown",
   "id": "846182b2",
   "metadata": {},
   "source": [
    "### Prueba de hipótesis de los coeficientes de la Regresión Lineal Múltiple\n"
   ]
  },
  {
   "cell_type": "markdown",
   "id": "a7579852",
   "metadata": {},
   "source": [
    "La regresión simple como la múltiple trabaja bajo el supuesto que los coeficientes son significativos. Para determinar si lo son, la regresión tanto simple como múltiple trabaja con un contraste de hipótesis donde se evalúa si  el modelo es o no explicativo. Para ello buscamos que la pendiente de los estimadores sea diferente de cero, dado que si fuera nula, no existiría una línea de regresión y por lo tanto no habría la relación entre la variable independiente y la dependiente.\n"
   ]
  },
  {
   "cell_type": "markdown",
   "id": "909fb5b8",
   "metadata": {},
   "source": [
    "Para ello, utilizando las pruebas _t_ y sus niveles críticos se busca contrastar que:\n",
    "- H0 : β1 = β2 = . . . = βn = 0\n",
    "- H1 : β1 = β2 = . . . = βn ≠ 0\n",
    "\n"
   ]
  },
  {
   "cell_type": "markdown",
   "id": "9df560a4",
   "metadata": {},
   "source": [
    "La prueba de los betas es equivalente a contrastar la hipótesis: ¿es la variable dependiente asociada a la variable independiente estudiada, en igualdad de condiciones (ceteris paribus)?\n",
    "\n",
    "Observando los valores críticos de la prueba _t_, se puede determinar si los betas son estadísticamente significativos y por lo tanto si contribuyen significativamente a explicar lo que ocurre en la variable dependiente \"Y\", por lo que tenemos evidencia para incluirlas o descartarlas del modelo analizado."
   ]
  },
  {
   "cell_type": "markdown",
   "id": "211e6f23",
   "metadata": {},
   "source": [
    "Finalmente, en este script también cubriremos la temática de ajuste del modelo en el que analizaremos los valores de R^2 y R^2 ajustado, el cual controla por el número de variables independientes introducidas en el modelo.\n",
    "\n",
    "Comencemos!"
   ]
  },
  {
   "cell_type": "markdown",
   "id": "e30dade7",
   "metadata": {},
   "source": [
    "Para iniciar, por favor corran o copien todos los tratamientos realizados a las variables de la base de datos de inmuebles conteida en el script anterior."
   ]
  },
  {
   "cell_type": "markdown",
   "id": "3bd41ead",
   "metadata": {},
   "source": [
    "### Importar los modules requeridos"
   ]
  },
  {
   "cell_type": "code",
   "execution_count": 1,
   "id": "978809fa",
   "metadata": {},
   "outputs": [],
   "source": [
    "import numpy as np\n",
    "import pandas as pd\n",
    "import matplotlib.pyplot as plt\n",
    "import seaborn as sns\n",
    "\n",
    "import warnings\n",
    "warnings.filterwarnings(\"ignore\")"
   ]
  },
  {
   "cell_type": "markdown",
   "id": "61e024ee",
   "metadata": {},
   "source": [
    "Para la regresión y validación de supuestos llamamos a statsmodel, el módulo encargado de la notación de fórmula y al módulo para las pruebas de hipótesis."
   ]
  },
  {
   "cell_type": "code",
   "execution_count": 2,
   "id": "c4f53659",
   "metadata": {},
   "outputs": [],
   "source": [
    "import statsmodels.stats.api as sms\n",
    "import statsmodels.api as sm\n",
    "from statsmodels.formula.api import ols\n",
    "from statsmodels.compat import lzip"
   ]
  },
  {
   "cell_type": "markdown",
   "id": "e10607d3",
   "metadata": {},
   "source": [
    "Ahora, llamemos a nuestra base de datos a nuestro espacio en el Jupyer Notebook:"
   ]
  },
  {
   "cell_type": "code",
   "execution_count": 3,
   "id": "4e7ce49c",
   "metadata": {},
   "outputs": [
    {
     "data": {
      "text/html": [
       "<div>\n",
       "<style scoped>\n",
       "    .dataframe tbody tr th:only-of-type {\n",
       "        vertical-align: middle;\n",
       "    }\n",
       "\n",
       "    .dataframe tbody tr th {\n",
       "        vertical-align: top;\n",
       "    }\n",
       "\n",
       "    .dataframe thead th {\n",
       "        text-align: right;\n",
       "    }\n",
       "</style>\n",
       "<table border=\"1\" class=\"dataframe\">\n",
       "  <thead>\n",
       "    <tr style=\"text-align: right;\">\n",
       "      <th></th>\n",
       "      <th>price</th>\n",
       "      <th>area</th>\n",
       "      <th>bedrooms</th>\n",
       "      <th>bathrooms</th>\n",
       "      <th>stories</th>\n",
       "      <th>mainroad</th>\n",
       "      <th>guestroom</th>\n",
       "      <th>basement</th>\n",
       "      <th>hotwaterheating</th>\n",
       "      <th>airconditioning</th>\n",
       "      <th>parking</th>\n",
       "      <th>prefarea</th>\n",
       "      <th>furnishingstatus</th>\n",
       "    </tr>\n",
       "  </thead>\n",
       "  <tbody>\n",
       "    <tr>\n",
       "      <th>0</th>\n",
       "      <td>13300000</td>\n",
       "      <td>7420</td>\n",
       "      <td>4</td>\n",
       "      <td>2</td>\n",
       "      <td>3</td>\n",
       "      <td>yes</td>\n",
       "      <td>no</td>\n",
       "      <td>no</td>\n",
       "      <td>no</td>\n",
       "      <td>yes</td>\n",
       "      <td>2</td>\n",
       "      <td>yes</td>\n",
       "      <td>furnished</td>\n",
       "    </tr>\n",
       "    <tr>\n",
       "      <th>1</th>\n",
       "      <td>12250000</td>\n",
       "      <td>8960</td>\n",
       "      <td>4</td>\n",
       "      <td>4</td>\n",
       "      <td>4</td>\n",
       "      <td>yes</td>\n",
       "      <td>no</td>\n",
       "      <td>no</td>\n",
       "      <td>no</td>\n",
       "      <td>yes</td>\n",
       "      <td>3</td>\n",
       "      <td>no</td>\n",
       "      <td>furnished</td>\n",
       "    </tr>\n",
       "    <tr>\n",
       "      <th>2</th>\n",
       "      <td>12250000</td>\n",
       "      <td>9960</td>\n",
       "      <td>3</td>\n",
       "      <td>2</td>\n",
       "      <td>2</td>\n",
       "      <td>yes</td>\n",
       "      <td>no</td>\n",
       "      <td>yes</td>\n",
       "      <td>no</td>\n",
       "      <td>no</td>\n",
       "      <td>2</td>\n",
       "      <td>yes</td>\n",
       "      <td>semi-furnished</td>\n",
       "    </tr>\n",
       "    <tr>\n",
       "      <th>3</th>\n",
       "      <td>12215000</td>\n",
       "      <td>7500</td>\n",
       "      <td>4</td>\n",
       "      <td>2</td>\n",
       "      <td>2</td>\n",
       "      <td>yes</td>\n",
       "      <td>no</td>\n",
       "      <td>yes</td>\n",
       "      <td>no</td>\n",
       "      <td>yes</td>\n",
       "      <td>3</td>\n",
       "      <td>yes</td>\n",
       "      <td>furnished</td>\n",
       "    </tr>\n",
       "    <tr>\n",
       "      <th>4</th>\n",
       "      <td>11410000</td>\n",
       "      <td>7420</td>\n",
       "      <td>4</td>\n",
       "      <td>1</td>\n",
       "      <td>2</td>\n",
       "      <td>yes</td>\n",
       "      <td>yes</td>\n",
       "      <td>yes</td>\n",
       "      <td>no</td>\n",
       "      <td>yes</td>\n",
       "      <td>2</td>\n",
       "      <td>no</td>\n",
       "      <td>furnished</td>\n",
       "    </tr>\n",
       "    <tr>\n",
       "      <th>...</th>\n",
       "      <td>...</td>\n",
       "      <td>...</td>\n",
       "      <td>...</td>\n",
       "      <td>...</td>\n",
       "      <td>...</td>\n",
       "      <td>...</td>\n",
       "      <td>...</td>\n",
       "      <td>...</td>\n",
       "      <td>...</td>\n",
       "      <td>...</td>\n",
       "      <td>...</td>\n",
       "      <td>...</td>\n",
       "      <td>...</td>\n",
       "    </tr>\n",
       "    <tr>\n",
       "      <th>540</th>\n",
       "      <td>1820000</td>\n",
       "      <td>3000</td>\n",
       "      <td>2</td>\n",
       "      <td>1</td>\n",
       "      <td>1</td>\n",
       "      <td>yes</td>\n",
       "      <td>no</td>\n",
       "      <td>yes</td>\n",
       "      <td>no</td>\n",
       "      <td>no</td>\n",
       "      <td>2</td>\n",
       "      <td>no</td>\n",
       "      <td>unfurnished</td>\n",
       "    </tr>\n",
       "    <tr>\n",
       "      <th>541</th>\n",
       "      <td>1767150</td>\n",
       "      <td>2400</td>\n",
       "      <td>3</td>\n",
       "      <td>1</td>\n",
       "      <td>1</td>\n",
       "      <td>no</td>\n",
       "      <td>no</td>\n",
       "      <td>no</td>\n",
       "      <td>no</td>\n",
       "      <td>no</td>\n",
       "      <td>0</td>\n",
       "      <td>no</td>\n",
       "      <td>semi-furnished</td>\n",
       "    </tr>\n",
       "    <tr>\n",
       "      <th>542</th>\n",
       "      <td>1750000</td>\n",
       "      <td>3620</td>\n",
       "      <td>2</td>\n",
       "      <td>1</td>\n",
       "      <td>1</td>\n",
       "      <td>yes</td>\n",
       "      <td>no</td>\n",
       "      <td>no</td>\n",
       "      <td>no</td>\n",
       "      <td>no</td>\n",
       "      <td>0</td>\n",
       "      <td>no</td>\n",
       "      <td>unfurnished</td>\n",
       "    </tr>\n",
       "    <tr>\n",
       "      <th>543</th>\n",
       "      <td>1750000</td>\n",
       "      <td>2910</td>\n",
       "      <td>3</td>\n",
       "      <td>1</td>\n",
       "      <td>1</td>\n",
       "      <td>no</td>\n",
       "      <td>no</td>\n",
       "      <td>no</td>\n",
       "      <td>no</td>\n",
       "      <td>no</td>\n",
       "      <td>0</td>\n",
       "      <td>no</td>\n",
       "      <td>furnished</td>\n",
       "    </tr>\n",
       "    <tr>\n",
       "      <th>544</th>\n",
       "      <td>1750000</td>\n",
       "      <td>3850</td>\n",
       "      <td>3</td>\n",
       "      <td>1</td>\n",
       "      <td>2</td>\n",
       "      <td>yes</td>\n",
       "      <td>no</td>\n",
       "      <td>no</td>\n",
       "      <td>no</td>\n",
       "      <td>no</td>\n",
       "      <td>0</td>\n",
       "      <td>no</td>\n",
       "      <td>unfurnished</td>\n",
       "    </tr>\n",
       "  </tbody>\n",
       "</table>\n",
       "<p>545 rows × 13 columns</p>\n",
       "</div>"
      ],
      "text/plain": [
       "        price  area  bedrooms  bathrooms  stories mainroad guestroom basement  \\\n",
       "0    13300000  7420         4          2        3      yes        no       no   \n",
       "1    12250000  8960         4          4        4      yes        no       no   \n",
       "2    12250000  9960         3          2        2      yes        no      yes   \n",
       "3    12215000  7500         4          2        2      yes        no      yes   \n",
       "4    11410000  7420         4          1        2      yes       yes      yes   \n",
       "..        ...   ...       ...        ...      ...      ...       ...      ...   \n",
       "540   1820000  3000         2          1        1      yes        no      yes   \n",
       "541   1767150  2400         3          1        1       no        no       no   \n",
       "542   1750000  3620         2          1        1      yes        no       no   \n",
       "543   1750000  2910         3          1        1       no        no       no   \n",
       "544   1750000  3850         3          1        2      yes        no       no   \n",
       "\n",
       "    hotwaterheating airconditioning  parking prefarea furnishingstatus  \n",
       "0                no             yes        2      yes        furnished  \n",
       "1                no             yes        3       no        furnished  \n",
       "2                no              no        2      yes   semi-furnished  \n",
       "3                no             yes        3      yes        furnished  \n",
       "4                no             yes        2       no        furnished  \n",
       "..              ...             ...      ...      ...              ...  \n",
       "540              no              no        2       no      unfurnished  \n",
       "541              no              no        0       no   semi-furnished  \n",
       "542              no              no        0       no      unfurnished  \n",
       "543              no              no        0       no        furnished  \n",
       "544              no              no        0       no      unfurnished  \n",
       "\n",
       "[545 rows x 13 columns]"
      ]
     },
     "execution_count": 3,
     "metadata": {},
     "output_type": "execute_result"
    }
   ],
   "source": [
    "df=pd.read_csv(\"house_dataset.csv\")\n",
    "df"
   ]
  },
  {
   "cell_type": "markdown",
   "id": "fd06103d",
   "metadata": {},
   "source": [
    "#### Recodificar el nombre de las columnas a español"
   ]
  },
  {
   "cell_type": "code",
   "execution_count": 4,
   "id": "3ac2663a",
   "metadata": {},
   "outputs": [],
   "source": [
    "df.rename({'price':'precio', 'bedrooms': 'cuartos', 'bathrooms':'banios', 'stories': 'pisos', 'mainroad':'carretera',\n",
    "          'guestroom':'cuarto_huespedes', 'basement': 'sotano', 'hotwaterheating':'calefaccion', 'airconditioning':'AC', \n",
    "           'parking':'parqueadero', 'prefarea':'periferia', 'furnishingstatus':'amoblado' }, axis=1, inplace=True)"
   ]
  },
  {
   "cell_type": "markdown",
   "id": "94fd3d98",
   "metadata": {},
   "source": [
    "### Análisis de valores extremos\n"
   ]
  },
  {
   "cell_type": "code",
   "execution_count": 5,
   "id": "9df13545",
   "metadata": {},
   "outputs": [
    {
     "data": {
      "image/png": "[encoded data removed]",
      "text/plain": [
       "<Figure size 720x360 with 6 Axes>"
      ]
     },
     "metadata": {
      "needs_background": "light"
     },
     "output_type": "display_data"
    }
   ],
   "source": [
    "# Box plots\n",
    "fig, axs = plt.subplots(2,3, figsize = (10,5))\n",
    "plt1 = sns.boxplot(df['precio'], ax = axs[0,0])\n",
    "plt2 = sns.boxplot(df['area'], ax = axs[0,1])\n",
    "plt3 = sns.boxplot(df['cuartos'], ax = axs[0,2])\n",
    "plt1 = sns.boxplot(df['banios'], ax = axs[1,0])\n",
    "plt2 = sns.boxplot(df['pisos'], ax = axs[1,1])\n",
    "plt3 = sns.boxplot(df['parqueadero'], ax = axs[1,2])\n",
    "\n",
    "plt.tight_layout()"
   ]
  },
  {
   "cell_type": "markdown",
   "id": "9407f007",
   "metadata": {},
   "source": [
    "De la gráfica de boxplot, podemos ver que las variables donde se requiere el tratamiento de valores extremos es en el precio, y en el área. \n",
    "\n",
    "Para el número de baños, el número de cuartos, el número de pisos y el número de parqueaderos no se tiene suficientes datos extremos y su distancia de la media no es tan extrema como en el de las dos variables anteriores."
   ]
  },
  {
   "cell_type": "code",
   "execution_count": 6,
   "id": "f06788f3",
   "metadata": {},
   "outputs": [
    {
     "data": {
      "text/html": [
       "<div>\n",
       "<style scoped>\n",
       "    .dataframe tbody tr th:only-of-type {\n",
       "        vertical-align: middle;\n",
       "    }\n",
       "\n",
       "    .dataframe tbody tr th {\n",
       "        vertical-align: top;\n",
       "    }\n",
       "\n",
       "    .dataframe thead th {\n",
       "        text-align: right;\n",
       "    }\n",
       "</style>\n",
       "<table border=\"1\" class=\"dataframe\">\n",
       "  <thead>\n",
       "    <tr style=\"text-align: right;\">\n",
       "      <th></th>\n",
       "      <th>precio</th>\n",
       "      <th>area</th>\n",
       "      <th>cuartos</th>\n",
       "      <th>banios</th>\n",
       "      <th>pisos</th>\n",
       "      <th>parqueadero</th>\n",
       "    </tr>\n",
       "  </thead>\n",
       "  <tbody>\n",
       "    <tr>\n",
       "      <th>count</th>\n",
       "      <td>5.450000e+02</td>\n",
       "      <td>545.000000</td>\n",
       "      <td>545.000000</td>\n",
       "      <td>545.000000</td>\n",
       "      <td>545.000000</td>\n",
       "      <td>545.000000</td>\n",
       "    </tr>\n",
       "    <tr>\n",
       "      <th>mean</th>\n",
       "      <td>4.766729e+06</td>\n",
       "      <td>5150.541284</td>\n",
       "      <td>2.965138</td>\n",
       "      <td>1.286239</td>\n",
       "      <td>1.805505</td>\n",
       "      <td>0.693578</td>\n",
       "    </tr>\n",
       "    <tr>\n",
       "      <th>std</th>\n",
       "      <td>1.870440e+06</td>\n",
       "      <td>2170.141023</td>\n",
       "      <td>0.738064</td>\n",
       "      <td>0.502470</td>\n",
       "      <td>0.867492</td>\n",
       "      <td>0.861586</td>\n",
       "    </tr>\n",
       "    <tr>\n",
       "      <th>min</th>\n",
       "      <td>1.750000e+06</td>\n",
       "      <td>1650.000000</td>\n",
       "      <td>1.000000</td>\n",
       "      <td>1.000000</td>\n",
       "      <td>1.000000</td>\n",
       "      <td>0.000000</td>\n",
       "    </tr>\n",
       "    <tr>\n",
       "      <th>25%</th>\n",
       "      <td>3.430000e+06</td>\n",
       "      <td>3600.000000</td>\n",
       "      <td>2.000000</td>\n",
       "      <td>1.000000</td>\n",
       "      <td>1.000000</td>\n",
       "      <td>0.000000</td>\n",
       "    </tr>\n",
       "    <tr>\n",
       "      <th>50%</th>\n",
       "      <td>4.340000e+06</td>\n",
       "      <td>4600.000000</td>\n",
       "      <td>3.000000</td>\n",
       "      <td>1.000000</td>\n",
       "      <td>2.000000</td>\n",
       "      <td>0.000000</td>\n",
       "    </tr>\n",
       "    <tr>\n",
       "      <th>75%</th>\n",
       "      <td>5.740000e+06</td>\n",
       "      <td>6360.000000</td>\n",
       "      <td>3.000000</td>\n",
       "      <td>2.000000</td>\n",
       "      <td>2.000000</td>\n",
       "      <td>1.000000</td>\n",
       "    </tr>\n",
       "    <tr>\n",
       "      <th>max</th>\n",
       "      <td>1.330000e+07</td>\n",
       "      <td>16200.000000</td>\n",
       "      <td>6.000000</td>\n",
       "      <td>4.000000</td>\n",
       "      <td>4.000000</td>\n",
       "      <td>3.000000</td>\n",
       "    </tr>\n",
       "  </tbody>\n",
       "</table>\n",
       "</div>"
      ],
      "text/plain": [
       "             precio          area     cuartos      banios       pisos  \\\n",
       "count  5.450000e+02    545.000000  545.000000  545.000000  545.000000   \n",
       "mean   4.766729e+06   5150.541284    2.965138    1.286239    1.805505   \n",
       "std    1.870440e+06   2170.141023    0.738064    0.502470    0.867492   \n",
       "min    1.750000e+06   1650.000000    1.000000    1.000000    1.000000   \n",
       "25%    3.430000e+06   3600.000000    2.000000    1.000000    1.000000   \n",
       "50%    4.340000e+06   4600.000000    3.000000    1.000000    2.000000   \n",
       "75%    5.740000e+06   6360.000000    3.000000    2.000000    2.000000   \n",
       "max    1.330000e+07  16200.000000    6.000000    4.000000    4.000000   \n",
       "\n",
       "       parqueadero  \n",
       "count   545.000000  \n",
       "mean      0.693578  \n",
       "std       0.861586  \n",
       "min       0.000000  \n",
       "25%       0.000000  \n",
       "50%       0.000000  \n",
       "75%       1.000000  \n",
       "max       3.000000  "
      ]
     },
     "execution_count": 6,
     "metadata": {},
     "output_type": "execute_result"
    }
   ],
   "source": [
    "df.describe()"
   ]
  },
  {
   "cell_type": "markdown",
   "id": "0739ebbc",
   "metadata": {},
   "source": [
    "#### 1. Variable dependiente \"Y\"\n"
   ]
  },
  {
   "cell_type": "code",
   "execution_count": 7,
   "id": "e56b7b20",
   "metadata": {},
   "outputs": [
    {
     "name": "stdout",
     "output_type": "stream",
     "text": [
      "2310000.0\n"
     ]
    }
   ],
   "source": [
    "# Calculamos el Quartil 1 y Quartil 3 que son aquellos que nos permiten estimar los límites de los datos atípicos\n",
    "Q1 = df.precio.quantile(0.25)\n",
    "Q3 = df.precio.quantile(0.75)\n",
    "IQR = Q3 - Q1  #rango intercuartil\n",
    "print(IQR)"
   ]
  },
  {
   "cell_type": "code",
   "execution_count": 8,
   "id": "0c06ccce",
   "metadata": {},
   "outputs": [
    {
     "data": {
      "text/plain": [
       "(530, 13)"
      ]
     },
     "execution_count": 8,
     "metadata": {},
     "output_type": "execute_result"
    }
   ],
   "source": [
    "# Ahora removemos aquellas observaciones que se encuentran por fuera del rango: 1.5 x IOR\n",
    "df = df[~((df['precio'] < (Q1 - 1.5 * IQR)) |(df['precio'] > (Q3 + 1.5 * IQR)))]\n",
    "df.shape"
   ]
  },
  {
   "cell_type": "code",
   "execution_count": 9,
   "id": "be9c7bf2",
   "metadata": {},
   "outputs": [
    {
     "data": {
      "text/plain": [
       "<AxesSubplot:xlabel='precio', ylabel='Density'>"
      ]
     },
     "execution_count": 9,
     "metadata": {},
     "output_type": "execute_result"
    },
    {
     "data": {
      "image/png": "[encoded data removed]",
      "text/plain": [
       "<Figure size 432x288 with 1 Axes>"
      ]
     },
     "metadata": {
      "needs_background": "light"
     },
     "output_type": "display_data"
    }
   ],
   "source": [
    "sns.distplot(df['precio'],color=\"blue\")"
   ]
  },
  {
   "cell_type": "markdown",
   "id": "db3971a6",
   "metadata": {},
   "source": [
    "#### 2. Variable dependiente X1: área\n"
   ]
  },
  {
   "cell_type": "code",
   "execution_count": 10,
   "id": "4c9a8f49",
   "metadata": {},
   "outputs": [
    {
     "name": "stdout",
     "output_type": "stream",
     "text": [
      "2768.25\n"
     ]
    }
   ],
   "source": [
    "# Calculamos el Quartil 1 y Quartil 3 que son aquellos que nos permiten estimar los límites de los datos atípicos\n",
    "Q1_area = df.area.quantile(0.25)\n",
    "Q3_area = df.area.quantile(0.75)\n",
    "IQR_area = Q3_area - Q1_area  #rango intercuartil\n",
    "print(IQR_area)"
   ]
  },
  {
   "cell_type": "code",
   "execution_count": 11,
   "id": "24193ba0",
   "metadata": {},
   "outputs": [
    {
     "data": {
      "text/plain": [
       "(517, 13)"
      ]
     },
     "execution_count": 11,
     "metadata": {},
     "output_type": "execute_result"
    }
   ],
   "source": [
    "# Ahora removemos aquellas observaciones que se encuentran por fuera del rango: 1.5 x IOR\n",
    "df = df[~((df['area'] < (Q1_area - 1.5 * IQR_area)) |(df['area'] > (Q3_area + 1.5 * IQR_area)))]\n",
    "df.shape"
   ]
  },
  {
   "cell_type": "code",
   "execution_count": 12,
   "id": "c8cbc5ef",
   "metadata": {},
   "outputs": [
    {
     "data": {
      "text/plain": [
       "<AxesSubplot:xlabel='area', ylabel='Density'>"
      ]
     },
     "execution_count": 12,
     "metadata": {},
     "output_type": "execute_result"
    },
    {
     "data": {
      "image/png": "[encoded data removed]",
      "text/plain": [
       "<Figure size 432x288 with 1 Axes>"
      ]
     },
     "metadata": {
      "needs_background": "light"
     },
     "output_type": "display_data"
    }
   ],
   "source": [
    "sns.distplot(df['area'],color=\"blue\")"
   ]
  },
  {
   "cell_type": "markdown",
   "id": "9ad25fe4",
   "metadata": {},
   "source": [
    "Listo, recordemos las correlaciones de las variables dado que vamos a introducir nuevas variables independiente:"
   ]
  },
  {
   "cell_type": "markdown",
   "id": "7759c515",
   "metadata": {},
   "source": [
    "#### Correlaciones entre las variables"
   ]
  },
  {
   "cell_type": "code",
   "execution_count": 13,
   "id": "c535e34e",
   "metadata": {},
   "outputs": [
    {
     "data": {
      "text/html": [
       "<style type=\"text/css\">\n",
       "#T_b7eea_row0_col0, #T_b7eea_row1_col1, #T_b7eea_row2_col2, #T_b7eea_row3_col3, #T_b7eea_row4_col4, #T_b7eea_row5_col5 {\n",
       "  background-color: #b40426;\n",
       "  color: #f1f1f1;\n",
       "}\n",
       "#T_b7eea_row0_col1 {\n",
       "  background-color: #d6dce4;\n",
       "  color: #000000;\n",
       "}\n",
       "#T_b7eea_row0_col2 {\n",
       "  background-color: #8fb1fe;\n",
       "  color: #000000;\n",
       "}\n",
       "#T_b7eea_row0_col3 {\n",
       "  background-color: #bcd2f7;\n",
       "  color: #000000;\n",
       "}\n",
       "#T_b7eea_row0_col4 {\n",
       "  background-color: #cbd8ee;\n",
       "  color: #000000;\n",
       "}\n",
       "#T_b7eea_row0_col5 {\n",
       "  background-color: #a1c0ff;\n",
       "  color: #000000;\n",
       "}\n",
       "#T_b7eea_row1_col0 {\n",
       "  background-color: #a2c1ff;\n",
       "  color: #000000;\n",
       "}\n",
       "#T_b7eea_row1_col2 {\n",
       "  background-color: #4257c9;\n",
       "  color: #f1f1f1;\n",
       "}\n",
       "#T_b7eea_row1_col3 {\n",
       "  background-color: #4a63d3;\n",
       "  color: #f1f1f1;\n",
       "}\n",
       "#T_b7eea_row1_col4 {\n",
       "  background-color: #5572df;\n",
       "  color: #f1f1f1;\n",
       "}\n",
       "#T_b7eea_row1_col5 {\n",
       "  background-color: #adc9fd;\n",
       "  color: #000000;\n",
       "}\n",
       "#T_b7eea_row2_col0, #T_b7eea_row2_col1 {\n",
       "  background-color: #4055c8;\n",
       "  color: #f1f1f1;\n",
       "}\n",
       "#T_b7eea_row2_col3 {\n",
       "  background-color: #8db0fe;\n",
       "  color: #000000;\n",
       "}\n",
       "#T_b7eea_row2_col4 {\n",
       "  background-color: #bed2f6;\n",
       "  color: #000000;\n",
       "}\n",
       "#T_b7eea_row2_col5 {\n",
       "  background-color: #5470de;\n",
       "  color: #f1f1f1;\n",
       "}\n",
       "#T_b7eea_row3_col0, #T_b7eea_row4_col3 {\n",
       "  background-color: #80a3fa;\n",
       "  color: #f1f1f1;\n",
       "}\n",
       "#T_b7eea_row3_col1 {\n",
       "  background-color: #4f69d9;\n",
       "  color: #f1f1f1;\n",
       "}\n",
       "#T_b7eea_row3_col2 {\n",
       "  background-color: #93b5fe;\n",
       "  color: #000000;\n",
       "}\n",
       "#T_b7eea_row3_col4 {\n",
       "  background-color: #9dbdff;\n",
       "  color: #000000;\n",
       "}\n",
       "#T_b7eea_row3_col5 {\n",
       "  background-color: #5b7ae5;\n",
       "  color: #f1f1f1;\n",
       "}\n",
       "#T_b7eea_row4_col0 {\n",
       "  background-color: #7699f6;\n",
       "  color: #f1f1f1;\n",
       "}\n",
       "#T_b7eea_row4_col1, #T_b7eea_row4_col5, #T_b7eea_row5_col0, #T_b7eea_row5_col2, #T_b7eea_row5_col3, #T_b7eea_row5_col4 {\n",
       "  background-color: #3b4cc0;\n",
       "  color: #f1f1f1;\n",
       "}\n",
       "#T_b7eea_row4_col2 {\n",
       "  background-color: #abc8fd;\n",
       "  color: #000000;\n",
       "}\n",
       "#T_b7eea_row5_col1 {\n",
       "  background-color: #97b8ff;\n",
       "  color: #000000;\n",
       "}\n",
       "</style>\n",
       "<table id=\"T_b7eea_\">\n",
       "  <thead>\n",
       "    <tr>\n",
       "      <th class=\"blank level0\" >&nbsp;</th>\n",
       "      <th class=\"col_heading level0 col0\" >precio</th>\n",
       "      <th class=\"col_heading level0 col1\" >area</th>\n",
       "      <th class=\"col_heading level0 col2\" >cuartos</th>\n",
       "      <th class=\"col_heading level0 col3\" >banios</th>\n",
       "      <th class=\"col_heading level0 col4\" >pisos</th>\n",
       "      <th class=\"col_heading level0 col5\" >parqueadero</th>\n",
       "    </tr>\n",
       "  </thead>\n",
       "  <tbody>\n",
       "    <tr>\n",
       "      <th id=\"T_b7eea_level0_row0\" class=\"row_heading level0 row0\" >precio</th>\n",
       "      <td id=\"T_b7eea_row0_col0\" class=\"data row0 col0\" >1.000000</td>\n",
       "      <td id=\"T_b7eea_row0_col1\" class=\"data row0 col1\" >0.533186</td>\n",
       "      <td id=\"T_b7eea_row0_col2\" class=\"data row0 col2\" >0.335328</td>\n",
       "      <td id=\"T_b7eea_row0_col3\" class=\"data row0 col3\" >0.466483</td>\n",
       "      <td id=\"T_b7eea_row0_col4\" class=\"data row0 col4\" >0.446839</td>\n",
       "      <td id=\"T_b7eea_row0_col5\" class=\"data row0 col5\" >0.321058</td>\n",
       "    </tr>\n",
       "    <tr>\n",
       "      <th id=\"T_b7eea_level0_row1\" class=\"row_heading level0 row1\" >area</th>\n",
       "      <td id=\"T_b7eea_row1_col0\" class=\"data row1 col0\" >0.533186</td>\n",
       "      <td id=\"T_b7eea_row1_col1\" class=\"data row1 col1\" >1.000000</td>\n",
       "      <td id=\"T_b7eea_row1_col2\" class=\"data row1 col2\" >0.127745</td>\n",
       "      <td id=\"T_b7eea_row1_col3\" class=\"data row1 col3\" >0.171528</td>\n",
       "      <td id=\"T_b7eea_row1_col4\" class=\"data row1 col4\" >0.109877</td>\n",
       "      <td id=\"T_b7eea_row1_col5\" class=\"data row1 col5\" >0.357276</td>\n",
       "    </tr>\n",
       "    <tr>\n",
       "      <th id=\"T_b7eea_level0_row2\" class=\"row_heading level0 row2\" >cuartos</th>\n",
       "      <td id=\"T_b7eea_row2_col0\" class=\"data row2 col0\" >0.335328</td>\n",
       "      <td id=\"T_b7eea_row2_col1\" class=\"data row2 col1\" >0.127745</td>\n",
       "      <td id=\"T_b7eea_row2_col2\" class=\"data row2 col2\" >1.000000</td>\n",
       "      <td id=\"T_b7eea_row2_col3\" class=\"data row2 col3\" >0.346230</td>\n",
       "      <td id=\"T_b7eea_row2_col4\" class=\"data row2 col4\" >0.406684</td>\n",
       "      <td id=\"T_b7eea_row2_col5\" class=\"data row2 col5\" >0.105561</td>\n",
       "    </tr>\n",
       "    <tr>\n",
       "      <th id=\"T_b7eea_level0_row3\" class=\"row_heading level0 row3\" >banios</th>\n",
       "      <td id=\"T_b7eea_row3_col0\" class=\"data row3 col0\" >0.466483</td>\n",
       "      <td id=\"T_b7eea_row3_col1\" class=\"data row3 col1\" >0.171528</td>\n",
       "      <td id=\"T_b7eea_row3_col2\" class=\"data row3 col2\" >0.346230</td>\n",
       "      <td id=\"T_b7eea_row3_col3\" class=\"data row3 col3\" >1.000000</td>\n",
       "      <td id=\"T_b7eea_row3_col4\" class=\"data row3 col4\" >0.311314</td>\n",
       "      <td id=\"T_b7eea_row3_col5\" class=\"data row3 col5\" >0.127102</td>\n",
       "    </tr>\n",
       "    <tr>\n",
       "      <th id=\"T_b7eea_level0_row4\" class=\"row_heading level0 row4\" >pisos</th>\n",
       "      <td id=\"T_b7eea_row4_col0\" class=\"data row4 col0\" >0.446839</td>\n",
       "      <td id=\"T_b7eea_row4_col1\" class=\"data row4 col1\" >0.109877</td>\n",
       "      <td id=\"T_b7eea_row4_col2\" class=\"data row4 col2\" >0.406684</td>\n",
       "      <td id=\"T_b7eea_row4_col3\" class=\"data row4 col3\" >0.311314</td>\n",
       "      <td id=\"T_b7eea_row4_col4\" class=\"data row4 col4\" >1.000000</td>\n",
       "      <td id=\"T_b7eea_row4_col5\" class=\"data row4 col5\" >0.022043</td>\n",
       "    </tr>\n",
       "    <tr>\n",
       "      <th id=\"T_b7eea_level0_row5\" class=\"row_heading level0 row5\" >parqueadero</th>\n",
       "      <td id=\"T_b7eea_row5_col0\" class=\"data row5 col0\" >0.321058</td>\n",
       "      <td id=\"T_b7eea_row5_col1\" class=\"data row5 col1\" >0.357276</td>\n",
       "      <td id=\"T_b7eea_row5_col2\" class=\"data row5 col2\" >0.105561</td>\n",
       "      <td id=\"T_b7eea_row5_col3\" class=\"data row5 col3\" >0.127102</td>\n",
       "      <td id=\"T_b7eea_row5_col4\" class=\"data row5 col4\" >0.022043</td>\n",
       "      <td id=\"T_b7eea_row5_col5\" class=\"data row5 col5\" >1.000000</td>\n",
       "    </tr>\n",
       "  </tbody>\n",
       "</table>\n"
      ],
      "text/plain": [
       "<pandas.io.formats.style.Styler at 0x13a9b7bd9a0>"
      ]
     },
     "execution_count": 13,
     "metadata": {},
     "output_type": "execute_result"
    }
   ],
   "source": [
    "df.corr().style.background_gradient(cmap='coolwarm')"
   ]
  },
  {
   "cell_type": "markdown",
   "id": "c8e7d13d",
   "metadata": {},
   "source": [
    "Ahora comparemos esta información con la gráfica de las variables cuantitativas:"
   ]
  },
  {
   "cell_type": "code",
   "execution_count": 14,
   "id": "7034636c",
   "metadata": {},
   "outputs": [
    {
     "data": {
      "image/png": "[encoded data removed]",
      "text/plain": [
       "<Figure size 864x864 with 5 Axes>"
      ]
     },
     "metadata": {
      "needs_background": "light"
     },
     "output_type": "display_data"
    }
   ],
   "source": [
    "# Número de las variables\n",
    "n = 6\n",
    "fig = plt.figure(figsize=(12,12))\n",
    "# Correlaciones en pares\n",
    "corr = df.corr()\n",
    "#\n",
    "cols = corr.nlargest(6, \"precio\")[\"precio\"].index\n",
    "# Calculate correlation\n",
    "for i in np.arange(1,6):\n",
    "    regline = df[cols[i]]\n",
    "    ax = fig.add_subplot(3,2,i)\n",
    "    sns.regplot(x=regline, y=df['precio'], scatter_kws={\"color\": \"royalblue\", \"s\": 3},\n",
    "                line_kws={\"color\": \"turquoise\"})\n",
    "plt.tight_layout()\n",
    "plt.show()"
   ]
  },
  {
   "cell_type": "markdown",
   "id": "4726d32e",
   "metadata": {},
   "source": [
    "No nos olvidemos de aplicar logaritmos a nuestra variable dependiente:"
   ]
  },
  {
   "cell_type": "code",
   "execution_count": 15,
   "id": "b39905fc",
   "metadata": {},
   "outputs": [],
   "source": [
    "log_precio=np.log(df.precio)\n",
    "df['log_precio']=log_precio"
   ]
  },
  {
   "cell_type": "markdown",
   "id": "c368dc20",
   "metadata": {},
   "source": [
    "Perfecto, como vamos a manera de ejercicio, incluir todas las variables para evaluar si son significativas o no, lo que vamos a realizar a continuación es recodificar las variables cualitativas de forma numérica para que el modelo de regresión pueda cuantificar su incidencia en la variable dependiente de mejor manera.\n",
    "Para ello, vamos a seguir un proceso para dumificar las variables categóricas con la ayuda del module de pandas. "
   ]
  },
  {
   "cell_type": "code",
   "execution_count": 16,
   "id": "9a119cca",
   "metadata": {},
   "outputs": [],
   "source": [
    "var_cuantitativas = df.select_dtypes('number').columns\n",
    "var_cualitativas  =df.select_dtypes('object').columns"
   ]
  },
  {
   "cell_type": "markdown",
   "id": "358f4184",
   "metadata": {},
   "source": [
    "Una vez que hemos separado a las variables cualitativas podemos operar de tres maneras:\n",
    "- La primera implica codificar como 0 y 1s a las variables que tengan dos niveles\n",
    "- La segunda se puede llevar a cabo aplicando la función de pandas pd.get_dummies() que crea una columna por cada nivel\n",
    "- La tercera es usando OneHotEncoder"
   ]
  },
  {
   "cell_type": "markdown",
   "id": "410d777c",
   "metadata": {},
   "source": [
    "Para evitar crear más columnas de las necesarias, vamos a dumificar sólo aquellas que tengan más de dos niveles."
   ]
  },
  {
   "cell_type": "code",
   "execution_count": 17,
   "id": "1f940970",
   "metadata": {},
   "outputs": [
    {
     "data": {
      "text/html": [
       "<div>\n",
       "<style scoped>\n",
       "    .dataframe tbody tr th:only-of-type {\n",
       "        vertical-align: middle;\n",
       "    }\n",
       "\n",
       "    .dataframe tbody tr th {\n",
       "        vertical-align: top;\n",
       "    }\n",
       "\n",
       "    .dataframe thead th {\n",
       "        text-align: right;\n",
       "    }\n",
       "</style>\n",
       "<table border=\"1\" class=\"dataframe\">\n",
       "  <thead>\n",
       "    <tr style=\"text-align: right;\">\n",
       "      <th></th>\n",
       "      <th>carretera</th>\n",
       "      <th>cuarto_huespedes</th>\n",
       "      <th>sotano</th>\n",
       "      <th>calefaccion</th>\n",
       "      <th>AC</th>\n",
       "      <th>periferia</th>\n",
       "      <th>amoblado</th>\n",
       "    </tr>\n",
       "  </thead>\n",
       "  <tbody>\n",
       "    <tr>\n",
       "      <th>15</th>\n",
       "      <td>yes</td>\n",
       "      <td>no</td>\n",
       "      <td>yes</td>\n",
       "      <td>no</td>\n",
       "      <td>no</td>\n",
       "      <td>no</td>\n",
       "      <td>semi-furnished</td>\n",
       "    </tr>\n",
       "    <tr>\n",
       "      <th>16</th>\n",
       "      <td>yes</td>\n",
       "      <td>yes</td>\n",
       "      <td>yes</td>\n",
       "      <td>no</td>\n",
       "      <td>yes</td>\n",
       "      <td>yes</td>\n",
       "      <td>unfurnished</td>\n",
       "    </tr>\n",
       "    <tr>\n",
       "      <th>17</th>\n",
       "      <td>yes</td>\n",
       "      <td>no</td>\n",
       "      <td>no</td>\n",
       "      <td>no</td>\n",
       "      <td>yes</td>\n",
       "      <td>no</td>\n",
       "      <td>furnished</td>\n",
       "    </tr>\n",
       "    <tr>\n",
       "      <th>18</th>\n",
       "      <td>yes</td>\n",
       "      <td>yes</td>\n",
       "      <td>no</td>\n",
       "      <td>no</td>\n",
       "      <td>yes</td>\n",
       "      <td>no</td>\n",
       "      <td>furnished</td>\n",
       "    </tr>\n",
       "    <tr>\n",
       "      <th>19</th>\n",
       "      <td>yes</td>\n",
       "      <td>no</td>\n",
       "      <td>no</td>\n",
       "      <td>no</td>\n",
       "      <td>yes</td>\n",
       "      <td>yes</td>\n",
       "      <td>semi-furnished</td>\n",
       "    </tr>\n",
       "    <tr>\n",
       "      <th>...</th>\n",
       "      <td>...</td>\n",
       "      <td>...</td>\n",
       "      <td>...</td>\n",
       "      <td>...</td>\n",
       "      <td>...</td>\n",
       "      <td>...</td>\n",
       "      <td>...</td>\n",
       "    </tr>\n",
       "    <tr>\n",
       "      <th>540</th>\n",
       "      <td>yes</td>\n",
       "      <td>no</td>\n",
       "      <td>yes</td>\n",
       "      <td>no</td>\n",
       "      <td>no</td>\n",
       "      <td>no</td>\n",
       "      <td>unfurnished</td>\n",
       "    </tr>\n",
       "    <tr>\n",
       "      <th>541</th>\n",
       "      <td>no</td>\n",
       "      <td>no</td>\n",
       "      <td>no</td>\n",
       "      <td>no</td>\n",
       "      <td>no</td>\n",
       "      <td>no</td>\n",
       "      <td>semi-furnished</td>\n",
       "    </tr>\n",
       "    <tr>\n",
       "      <th>542</th>\n",
       "      <td>yes</td>\n",
       "      <td>no</td>\n",
       "      <td>no</td>\n",
       "      <td>no</td>\n",
       "      <td>no</td>\n",
       "      <td>no</td>\n",
       "      <td>unfurnished</td>\n",
       "    </tr>\n",
       "    <tr>\n",
       "      <th>543</th>\n",
       "      <td>no</td>\n",
       "      <td>no</td>\n",
       "      <td>no</td>\n",
       "      <td>no</td>\n",
       "      <td>no</td>\n",
       "      <td>no</td>\n",
       "      <td>furnished</td>\n",
       "    </tr>\n",
       "    <tr>\n",
       "      <th>544</th>\n",
       "      <td>yes</td>\n",
       "      <td>no</td>\n",
       "      <td>no</td>\n",
       "      <td>no</td>\n",
       "      <td>no</td>\n",
       "      <td>no</td>\n",
       "      <td>unfurnished</td>\n",
       "    </tr>\n",
       "  </tbody>\n",
       "</table>\n",
       "<p>517 rows × 7 columns</p>\n",
       "</div>"
      ],
      "text/plain": [
       "    carretera cuarto_huespedes sotano calefaccion   AC periferia  \\\n",
       "15        yes               no    yes          no   no        no   \n",
       "16        yes              yes    yes          no  yes       yes   \n",
       "17        yes               no     no          no  yes        no   \n",
       "18        yes              yes     no          no  yes        no   \n",
       "19        yes               no     no          no  yes       yes   \n",
       "..        ...              ...    ...         ...  ...       ...   \n",
       "540       yes               no    yes          no   no        no   \n",
       "541        no               no     no          no   no        no   \n",
       "542       yes               no     no          no   no        no   \n",
       "543        no               no     no          no   no        no   \n",
       "544       yes               no     no          no   no        no   \n",
       "\n",
       "           amoblado  \n",
       "15   semi-furnished  \n",
       "16      unfurnished  \n",
       "17        furnished  \n",
       "18        furnished  \n",
       "19   semi-furnished  \n",
       "..              ...  \n",
       "540     unfurnished  \n",
       "541  semi-furnished  \n",
       "542     unfurnished  \n",
       "543       furnished  \n",
       "544     unfurnished  \n",
       "\n",
       "[517 rows x 7 columns]"
      ]
     },
     "execution_count": 17,
     "metadata": {},
     "output_type": "execute_result"
    }
   ],
   "source": [
    "df[var_cualitativas]"
   ]
  },
  {
   "cell_type": "code",
   "execution_count": 18,
   "id": "a57b2fde",
   "metadata": {},
   "outputs": [],
   "source": [
    "df.loc[:,var_cualitativas]=df[var_cualitativas].replace(to_replace = ['yes','no'],value = ['1','0'])"
   ]
  },
  {
   "cell_type": "code",
   "execution_count": 19,
   "id": "f89e9043",
   "metadata": {},
   "outputs": [
    {
     "data": {
      "text/html": [
       "<div>\n",
       "<style scoped>\n",
       "    .dataframe tbody tr th:only-of-type {\n",
       "        vertical-align: middle;\n",
       "    }\n",
       "\n",
       "    .dataframe tbody tr th {\n",
       "        vertical-align: top;\n",
       "    }\n",
       "\n",
       "    .dataframe thead th {\n",
       "        text-align: right;\n",
       "    }\n",
       "</style>\n",
       "<table border=\"1\" class=\"dataframe\">\n",
       "  <thead>\n",
       "    <tr style=\"text-align: right;\">\n",
       "      <th></th>\n",
       "      <th>precio</th>\n",
       "      <th>area</th>\n",
       "      <th>cuartos</th>\n",
       "      <th>banios</th>\n",
       "      <th>pisos</th>\n",
       "      <th>carretera</th>\n",
       "      <th>cuarto_huespedes</th>\n",
       "      <th>sotano</th>\n",
       "      <th>calefaccion</th>\n",
       "      <th>AC</th>\n",
       "      <th>parqueadero</th>\n",
       "      <th>periferia</th>\n",
       "      <th>amoblado</th>\n",
       "      <th>log_precio</th>\n",
       "    </tr>\n",
       "  </thead>\n",
       "  <tbody>\n",
       "    <tr>\n",
       "      <th>15</th>\n",
       "      <td>9100000</td>\n",
       "      <td>6000</td>\n",
       "      <td>4</td>\n",
       "      <td>1</td>\n",
       "      <td>2</td>\n",
       "      <td>1</td>\n",
       "      <td>0</td>\n",
       "      <td>1</td>\n",
       "      <td>0</td>\n",
       "      <td>0</td>\n",
       "      <td>2</td>\n",
       "      <td>0</td>\n",
       "      <td>semi-furnished</td>\n",
       "      <td>16.023785</td>\n",
       "    </tr>\n",
       "    <tr>\n",
       "      <th>16</th>\n",
       "      <td>9100000</td>\n",
       "      <td>6600</td>\n",
       "      <td>4</td>\n",
       "      <td>2</td>\n",
       "      <td>2</td>\n",
       "      <td>1</td>\n",
       "      <td>1</td>\n",
       "      <td>1</td>\n",
       "      <td>0</td>\n",
       "      <td>1</td>\n",
       "      <td>1</td>\n",
       "      <td>1</td>\n",
       "      <td>unfurnished</td>\n",
       "      <td>16.023785</td>\n",
       "    </tr>\n",
       "    <tr>\n",
       "      <th>17</th>\n",
       "      <td>8960000</td>\n",
       "      <td>8500</td>\n",
       "      <td>3</td>\n",
       "      <td>2</td>\n",
       "      <td>4</td>\n",
       "      <td>1</td>\n",
       "      <td>0</td>\n",
       "      <td>0</td>\n",
       "      <td>0</td>\n",
       "      <td>1</td>\n",
       "      <td>2</td>\n",
       "      <td>0</td>\n",
       "      <td>furnished</td>\n",
       "      <td>16.008281</td>\n",
       "    </tr>\n",
       "    <tr>\n",
       "      <th>18</th>\n",
       "      <td>8890000</td>\n",
       "      <td>4600</td>\n",
       "      <td>3</td>\n",
       "      <td>2</td>\n",
       "      <td>2</td>\n",
       "      <td>1</td>\n",
       "      <td>1</td>\n",
       "      <td>0</td>\n",
       "      <td>0</td>\n",
       "      <td>1</td>\n",
       "      <td>2</td>\n",
       "      <td>0</td>\n",
       "      <td>furnished</td>\n",
       "      <td>16.000438</td>\n",
       "    </tr>\n",
       "    <tr>\n",
       "      <th>19</th>\n",
       "      <td>8855000</td>\n",
       "      <td>6420</td>\n",
       "      <td>3</td>\n",
       "      <td>2</td>\n",
       "      <td>2</td>\n",
       "      <td>1</td>\n",
       "      <td>0</td>\n",
       "      <td>0</td>\n",
       "      <td>0</td>\n",
       "      <td>1</td>\n",
       "      <td>1</td>\n",
       "      <td>1</td>\n",
       "      <td>semi-furnished</td>\n",
       "      <td>15.996493</td>\n",
       "    </tr>\n",
       "    <tr>\n",
       "      <th>...</th>\n",
       "      <td>...</td>\n",
       "      <td>...</td>\n",
       "      <td>...</td>\n",
       "      <td>...</td>\n",
       "      <td>...</td>\n",
       "      <td>...</td>\n",
       "      <td>...</td>\n",
       "      <td>...</td>\n",
       "      <td>...</td>\n",
       "      <td>...</td>\n",
       "      <td>...</td>\n",
       "      <td>...</td>\n",
       "      <td>...</td>\n",
       "      <td>...</td>\n",
       "    </tr>\n",
       "    <tr>\n",
       "      <th>540</th>\n",
       "      <td>1820000</td>\n",
       "      <td>3000</td>\n",
       "      <td>2</td>\n",
       "      <td>1</td>\n",
       "      <td>1</td>\n",
       "      <td>1</td>\n",
       "      <td>0</td>\n",
       "      <td>1</td>\n",
       "      <td>0</td>\n",
       "      <td>0</td>\n",
       "      <td>2</td>\n",
       "      <td>0</td>\n",
       "      <td>unfurnished</td>\n",
       "      <td>14.414347</td>\n",
       "    </tr>\n",
       "    <tr>\n",
       "      <th>541</th>\n",
       "      <td>1767150</td>\n",
       "      <td>2400</td>\n",
       "      <td>3</td>\n",
       "      <td>1</td>\n",
       "      <td>1</td>\n",
       "      <td>0</td>\n",
       "      <td>0</td>\n",
       "      <td>0</td>\n",
       "      <td>0</td>\n",
       "      <td>0</td>\n",
       "      <td>0</td>\n",
       "      <td>0</td>\n",
       "      <td>semi-furnished</td>\n",
       "      <td>14.384879</td>\n",
       "    </tr>\n",
       "    <tr>\n",
       "      <th>542</th>\n",
       "      <td>1750000</td>\n",
       "      <td>3620</td>\n",
       "      <td>2</td>\n",
       "      <td>1</td>\n",
       "      <td>1</td>\n",
       "      <td>1</td>\n",
       "      <td>0</td>\n",
       "      <td>0</td>\n",
       "      <td>0</td>\n",
       "      <td>0</td>\n",
       "      <td>0</td>\n",
       "      <td>0</td>\n",
       "      <td>unfurnished</td>\n",
       "      <td>14.375126</td>\n",
       "    </tr>\n",
       "    <tr>\n",
       "      <th>543</th>\n",
       "      <td>1750000</td>\n",
       "      <td>2910</td>\n",
       "      <td>3</td>\n",
       "      <td>1</td>\n",
       "      <td>1</td>\n",
       "      <td>0</td>\n",
       "      <td>0</td>\n",
       "      <td>0</td>\n",
       "      <td>0</td>\n",
       "      <td>0</td>\n",
       "      <td>0</td>\n",
       "      <td>0</td>\n",
       "      <td>furnished</td>\n",
       "      <td>14.375126</td>\n",
       "    </tr>\n",
       "    <tr>\n",
       "      <th>544</th>\n",
       "      <td>1750000</td>\n",
       "      <td>3850</td>\n",
       "      <td>3</td>\n",
       "      <td>1</td>\n",
       "      <td>2</td>\n",
       "      <td>1</td>\n",
       "      <td>0</td>\n",
       "      <td>0</td>\n",
       "      <td>0</td>\n",
       "      <td>0</td>\n",
       "      <td>0</td>\n",
       "      <td>0</td>\n",
       "      <td>unfurnished</td>\n",
       "      <td>14.375126</td>\n",
       "    </tr>\n",
       "  </tbody>\n",
       "</table>\n",
       "<p>517 rows × 14 columns</p>\n",
       "</div>"
      ],
      "text/plain": [
       "      precio  area  cuartos  banios  pisos carretera cuarto_huespedes sotano  \\\n",
       "15   9100000  6000        4       1      2         1                0      1   \n",
       "16   9100000  6600        4       2      2         1                1      1   \n",
       "17   8960000  8500        3       2      4         1                0      0   \n",
       "18   8890000  4600        3       2      2         1                1      0   \n",
       "19   8855000  6420        3       2      2         1                0      0   \n",
       "..       ...   ...      ...     ...    ...       ...              ...    ...   \n",
       "540  1820000  3000        2       1      1         1                0      1   \n",
       "541  1767150  2400        3       1      1         0                0      0   \n",
       "542  1750000  3620        2       1      1         1                0      0   \n",
       "543  1750000  2910        3       1      1         0                0      0   \n",
       "544  1750000  3850        3       1      2         1                0      0   \n",
       "\n",
       "    calefaccion AC  parqueadero periferia        amoblado  log_precio  \n",
       "15            0  0            2         0  semi-furnished   16.023785  \n",
       "16            0  1            1         1     unfurnished   16.023785  \n",
       "17            0  1            2         0       furnished   16.008281  \n",
       "18            0  1            2         0       furnished   16.000438  \n",
       "19            0  1            1         1  semi-furnished   15.996493  \n",
       "..          ... ..          ...       ...             ...         ...  \n",
       "540           0  0            2         0     unfurnished   14.414347  \n",
       "541           0  0            0         0  semi-furnished   14.384879  \n",
       "542           0  0            0         0     unfurnished   14.375126  \n",
       "543           0  0            0         0       furnished   14.375126  \n",
       "544           0  0            0         0     unfurnished   14.375126  \n",
       "\n",
       "[517 rows x 14 columns]"
      ]
     },
     "execution_count": 19,
     "metadata": {},
     "output_type": "execute_result"
    }
   ],
   "source": [
    "df"
   ]
  },
  {
   "cell_type": "markdown",
   "id": "8341f049",
   "metadata": {},
   "source": [
    "Perfecto, ahora nos queda dumificar la variable amoblado utilizando labelEncoder:"
   ]
  },
  {
   "cell_type": "code",
   "execution_count": 20,
   "id": "d6d472c5",
   "metadata": {},
   "outputs": [],
   "source": [
    "from sklearn.preprocessing import LabelEncoder"
   ]
  },
  {
   "cell_type": "code",
   "execution_count": 21,
   "id": "ad1a6307",
   "metadata": {},
   "outputs": [],
   "source": [
    "# creating instance of labelencoder\n",
    "labelencoder = LabelEncoder()"
   ]
  },
  {
   "cell_type": "code",
   "execution_count": 22,
   "id": "f304d3c8",
   "metadata": {},
   "outputs": [
    {
     "data": {
      "text/html": [
       "<div>\n",
       "<style scoped>\n",
       "    .dataframe tbody tr th:only-of-type {\n",
       "        vertical-align: middle;\n",
       "    }\n",
       "\n",
       "    .dataframe tbody tr th {\n",
       "        vertical-align: top;\n",
       "    }\n",
       "\n",
       "    .dataframe thead th {\n",
       "        text-align: right;\n",
       "    }\n",
       "</style>\n",
       "<table border=\"1\" class=\"dataframe\">\n",
       "  <thead>\n",
       "    <tr style=\"text-align: right;\">\n",
       "      <th></th>\n",
       "      <th>precio</th>\n",
       "      <th>area</th>\n",
       "      <th>cuartos</th>\n",
       "      <th>banios</th>\n",
       "      <th>pisos</th>\n",
       "      <th>carretera</th>\n",
       "      <th>cuarto_huespedes</th>\n",
       "      <th>sotano</th>\n",
       "      <th>calefaccion</th>\n",
       "      <th>AC</th>\n",
       "      <th>parqueadero</th>\n",
       "      <th>periferia</th>\n",
       "      <th>amoblado</th>\n",
       "      <th>log_precio</th>\n",
       "    </tr>\n",
       "  </thead>\n",
       "  <tbody>\n",
       "    <tr>\n",
       "      <th>15</th>\n",
       "      <td>9100000</td>\n",
       "      <td>6000</td>\n",
       "      <td>4</td>\n",
       "      <td>1</td>\n",
       "      <td>2</td>\n",
       "      <td>1</td>\n",
       "      <td>0</td>\n",
       "      <td>1</td>\n",
       "      <td>0</td>\n",
       "      <td>0</td>\n",
       "      <td>2</td>\n",
       "      <td>0</td>\n",
       "      <td>1</td>\n",
       "      <td>16.023785</td>\n",
       "    </tr>\n",
       "    <tr>\n",
       "      <th>16</th>\n",
       "      <td>9100000</td>\n",
       "      <td>6600</td>\n",
       "      <td>4</td>\n",
       "      <td>2</td>\n",
       "      <td>2</td>\n",
       "      <td>1</td>\n",
       "      <td>1</td>\n",
       "      <td>1</td>\n",
       "      <td>0</td>\n",
       "      <td>1</td>\n",
       "      <td>1</td>\n",
       "      <td>1</td>\n",
       "      <td>2</td>\n",
       "      <td>16.023785</td>\n",
       "    </tr>\n",
       "    <tr>\n",
       "      <th>17</th>\n",
       "      <td>8960000</td>\n",
       "      <td>8500</td>\n",
       "      <td>3</td>\n",
       "      <td>2</td>\n",
       "      <td>4</td>\n",
       "      <td>1</td>\n",
       "      <td>0</td>\n",
       "      <td>0</td>\n",
       "      <td>0</td>\n",
       "      <td>1</td>\n",
       "      <td>2</td>\n",
       "      <td>0</td>\n",
       "      <td>0</td>\n",
       "      <td>16.008281</td>\n",
       "    </tr>\n",
       "    <tr>\n",
       "      <th>18</th>\n",
       "      <td>8890000</td>\n",
       "      <td>4600</td>\n",
       "      <td>3</td>\n",
       "      <td>2</td>\n",
       "      <td>2</td>\n",
       "      <td>1</td>\n",
       "      <td>1</td>\n",
       "      <td>0</td>\n",
       "      <td>0</td>\n",
       "      <td>1</td>\n",
       "      <td>2</td>\n",
       "      <td>0</td>\n",
       "      <td>0</td>\n",
       "      <td>16.000438</td>\n",
       "    </tr>\n",
       "    <tr>\n",
       "      <th>19</th>\n",
       "      <td>8855000</td>\n",
       "      <td>6420</td>\n",
       "      <td>3</td>\n",
       "      <td>2</td>\n",
       "      <td>2</td>\n",
       "      <td>1</td>\n",
       "      <td>0</td>\n",
       "      <td>0</td>\n",
       "      <td>0</td>\n",
       "      <td>1</td>\n",
       "      <td>1</td>\n",
       "      <td>1</td>\n",
       "      <td>1</td>\n",
       "      <td>15.996493</td>\n",
       "    </tr>\n",
       "    <tr>\n",
       "      <th>...</th>\n",
       "      <td>...</td>\n",
       "      <td>...</td>\n",
       "      <td>...</td>\n",
       "      <td>...</td>\n",
       "      <td>...</td>\n",
       "      <td>...</td>\n",
       "      <td>...</td>\n",
       "      <td>...</td>\n",
       "      <td>...</td>\n",
       "      <td>...</td>\n",
       "      <td>...</td>\n",
       "      <td>...</td>\n",
       "      <td>...</td>\n",
       "      <td>...</td>\n",
       "    </tr>\n",
       "    <tr>\n",
       "      <th>540</th>\n",
       "      <td>1820000</td>\n",
       "      <td>3000</td>\n",
       "      <td>2</td>\n",
       "      <td>1</td>\n",
       "      <td>1</td>\n",
       "      <td>1</td>\n",
       "      <td>0</td>\n",
       "      <td>1</td>\n",
       "      <td>0</td>\n",
       "      <td>0</td>\n",
       "      <td>2</td>\n",
       "      <td>0</td>\n",
       "      <td>2</td>\n",
       "      <td>14.414347</td>\n",
       "    </tr>\n",
       "    <tr>\n",
       "      <th>541</th>\n",
       "      <td>1767150</td>\n",
       "      <td>2400</td>\n",
       "      <td>3</td>\n",
       "      <td>1</td>\n",
       "      <td>1</td>\n",
       "      <td>0</td>\n",
       "      <td>0</td>\n",
       "      <td>0</td>\n",
       "      <td>0</td>\n",
       "      <td>0</td>\n",
       "      <td>0</td>\n",
       "      <td>0</td>\n",
       "      <td>1</td>\n",
       "      <td>14.384879</td>\n",
       "    </tr>\n",
       "    <tr>\n",
       "      <th>542</th>\n",
       "      <td>1750000</td>\n",
       "      <td>3620</td>\n",
       "      <td>2</td>\n",
       "      <td>1</td>\n",
       "      <td>1</td>\n",
       "      <td>1</td>\n",
       "      <td>0</td>\n",
       "      <td>0</td>\n",
       "      <td>0</td>\n",
       "      <td>0</td>\n",
       "      <td>0</td>\n",
       "      <td>0</td>\n",
       "      <td>2</td>\n",
       "      <td>14.375126</td>\n",
       "    </tr>\n",
       "    <tr>\n",
       "      <th>543</th>\n",
       "      <td>1750000</td>\n",
       "      <td>2910</td>\n",
       "      <td>3</td>\n",
       "      <td>1</td>\n",
       "      <td>1</td>\n",
       "      <td>0</td>\n",
       "      <td>0</td>\n",
       "      <td>0</td>\n",
       "      <td>0</td>\n",
       "      <td>0</td>\n",
       "      <td>0</td>\n",
       "      <td>0</td>\n",
       "      <td>0</td>\n",
       "      <td>14.375126</td>\n",
       "    </tr>\n",
       "    <tr>\n",
       "      <th>544</th>\n",
       "      <td>1750000</td>\n",
       "      <td>3850</td>\n",
       "      <td>3</td>\n",
       "      <td>1</td>\n",
       "      <td>2</td>\n",
       "      <td>1</td>\n",
       "      <td>0</td>\n",
       "      <td>0</td>\n",
       "      <td>0</td>\n",
       "      <td>0</td>\n",
       "      <td>0</td>\n",
       "      <td>0</td>\n",
       "      <td>2</td>\n",
       "      <td>14.375126</td>\n",
       "    </tr>\n",
       "  </tbody>\n",
       "</table>\n",
       "<p>517 rows × 14 columns</p>\n",
       "</div>"
      ],
      "text/plain": [
       "      precio  area  cuartos  banios  pisos carretera cuarto_huespedes sotano  \\\n",
       "15   9100000  6000        4       1      2         1                0      1   \n",
       "16   9100000  6600        4       2      2         1                1      1   \n",
       "17   8960000  8500        3       2      4         1                0      0   \n",
       "18   8890000  4600        3       2      2         1                1      0   \n",
       "19   8855000  6420        3       2      2         1                0      0   \n",
       "..       ...   ...      ...     ...    ...       ...              ...    ...   \n",
       "540  1820000  3000        2       1      1         1                0      1   \n",
       "541  1767150  2400        3       1      1         0                0      0   \n",
       "542  1750000  3620        2       1      1         1                0      0   \n",
       "543  1750000  2910        3       1      1         0                0      0   \n",
       "544  1750000  3850        3       1      2         1                0      0   \n",
       "\n",
       "    calefaccion AC  parqueadero periferia  amoblado  log_precio  \n",
       "15            0  0            2         0         1   16.023785  \n",
       "16            0  1            1         1         2   16.023785  \n",
       "17            0  1            2         0         0   16.008281  \n",
       "18            0  1            2         0         0   16.000438  \n",
       "19            0  1            1         1         1   15.996493  \n",
       "..          ... ..          ...       ...       ...         ...  \n",
       "540           0  0            2         0         2   14.414347  \n",
       "541           0  0            0         0         1   14.384879  \n",
       "542           0  0            0         0         2   14.375126  \n",
       "543           0  0            0         0         0   14.375126  \n",
       "544           0  0            0         0         2   14.375126  \n",
       "\n",
       "[517 rows x 14 columns]"
      ]
     },
     "execution_count": 22,
     "metadata": {},
     "output_type": "execute_result"
    }
   ],
   "source": [
    "df.amoblado = labelencoder.fit_transform(df.amoblado)\n",
    "df"
   ]
  },
  {
   "cell_type": "markdown",
   "id": "1433690f",
   "metadata": {},
   "source": [
    "Y listo!, pueden utilizar cualquiera de los tres métodos para lograr el objetivo."
   ]
  },
  {
   "cell_type": "markdown",
   "id": "c6b559fa",
   "metadata": {},
   "source": [
    "Una vez que tenemos nuestra base de datos en el estado deseado para la modelación, procedemos por fines explicativos a incluir todas las variables. En la práctica se debería incluir aquellas que tengan mayor asociación lineal."
   ]
  },
  {
   "cell_type": "code",
   "execution_count": 23,
   "id": "6fc6bb45",
   "metadata": {},
   "outputs": [],
   "source": [
    "regresion = ols(\"log_precio ~ area + cuartos + banios + pisos + carretera + cuarto_huespedes + sotano + calefaccion +\\\n",
    "                AC + parqueadero + periferia + amoblado\", data=df)\n",
    "results = regresion.fit()"
   ]
  },
  {
   "cell_type": "code",
   "execution_count": 24,
   "id": "9e443df0",
   "metadata": {},
   "outputs": [
    {
     "name": "stdout",
     "output_type": "stream",
     "text": [
      "                            OLS Regression Results                            \n",
      "==============================================================================\n",
      "Dep. Variable:             log_precio   R-squared:                       0.656\n",
      "Model:                            OLS   Adj. R-squared:                  0.648\n",
      "Method:                 Least Squares   F-statistic:                     80.06\n",
      "Date:                Wed, 26 Oct 2022   Prob (F-statistic):          1.92e-108\n",
      "Time:                        07:33:21   Log-Likelihood:                 90.366\n",
      "No. Observations:                 517   AIC:                            -154.7\n",
      "Df Residuals:                     504   BIC:                            -99.51\n",
      "Df Model:                          12                                         \n",
      "Covariance Type:            nonrobust                                         \n",
      "=========================================================================================\n",
      "                            coef    std err          t      P>|t|      [0.025      0.975]\n",
      "-----------------------------------------------------------------------------------------\n",
      "Intercept                14.3954      0.053    269.504      0.000      14.290      14.500\n",
      "carretera[T.1]            0.1140      0.028      4.128      0.000       0.060       0.168\n",
      "cuarto_huespedes[T.1]     0.0647      0.026      2.444      0.015       0.013       0.117\n",
      "sotano[T.1]               0.0950      0.022      4.350      0.000       0.052       0.138\n",
      "calefaccion[T.1]          0.1503      0.045      3.306      0.001       0.061       0.240\n",
      "AC[T.1]                   0.1631      0.022      7.565      0.000       0.121       0.205\n",
      "periferia[T.1]            0.1077      0.023      4.605      0.000       0.062       0.154\n",
      "area                   5.466e-05   5.98e-06      9.141      0.000    4.29e-05    6.64e-05\n",
      "cuartos                   0.0275      0.014      1.916      0.056      -0.001       0.056\n",
      "banios                    0.1471      0.022      6.748      0.000       0.104       0.190\n",
      "pisos                     0.0912      0.013      7.184      0.000       0.066       0.116\n",
      "parqueadero               0.0376      0.012      3.205      0.001       0.015       0.061\n",
      "amoblado                 -0.0579      0.012     -4.667      0.000      -0.082      -0.034\n",
      "==============================================================================\n",
      "Omnibus:                        9.092   Durbin-Watson:                   1.227\n",
      "Prob(Omnibus):                  0.011   Jarque-Bera (JB):               10.406\n",
      "Skew:                          -0.225   Prob(JB):                      0.00550\n",
      "Kurtosis:                       3.529   Cond. No.                     3.21e+04\n",
      "==============================================================================\n",
      "\n",
      "Notes:\n",
      "[1] Standard Errors assume that the covariance matrix of the errors is correctly specified.\n",
      "[2] The condition number is large, 3.21e+04. This might indicate that there are\n",
      "strong multicollinearity or other numerical problems.\n"
     ]
    }
   ],
   "source": [
    "print(results.summary())"
   ]
  },
  {
   "cell_type": "markdown",
   "id": "51c45495",
   "metadata": {},
   "source": [
    "A priori que diferencia, verdad?\n",
    "\n",
    "Lo primero que debemos hacer antes de celebrar por el R^2, es analizar el R^2 ajustado, dado que este penaliza la variabilidad explicada por el número de variables.\n",
    "En esta línea sabemos que este modelo alcanza a explicar en un 65% la variabilidad de nuestra variable dependiente por medio de la inclusión de 12 variables!"
   ]
  },
  {
   "cell_type": "markdown",
   "id": "f9976ed4",
   "metadata": {},
   "source": [
    "El siguiente paso es analizar cúales de las variables son estadísticamente significativas mediante el contraste de hipótesis"
   ]
  },
  {
   "cell_type": "markdown",
   "id": "557faf51",
   "metadata": {},
   "source": [
    "- H0 : β1 = β2 = . . . = βn = 0\n",
    "- H1 : β1 = β2 = . . . = βn ≠ 0\n",
    "\n"
   ]
  },
  {
   "cell_type": "markdown",
   "id": "ebf6d25c",
   "metadata": {},
   "source": [
    "Como todas las variables icluídas pasan la prueba al 95% de confianza el siguiente paso es la validación de los supuestos de Regresión Lineal. En este caso ya no sólo verificaremos los tres cubiertos en el script anterior, sino también multicolinearidad mediante el VIF."
   ]
  },
  {
   "cell_type": "markdown",
   "id": "5baa0984",
   "metadata": {},
   "source": [
    "## Verificación de los supuestos de la Regresión Lineal"
   ]
  },
  {
   "cell_type": "markdown",
   "id": "7f1f4d22",
   "metadata": {},
   "source": [
    "Dado que contamos con una sola variable explicativa en este modelo de Regresión Lineal, los supuestos a verificar se centrarán en:\n",
    "\n",
    "- Multicolinearidad perfecta y multicolinearidad no perfecta\n",
    "\n",
    "- Linealidad en los parámetros\n",
    "    \n",
    "- Normalidad en los residuos\n",
    "    \n",
    "- Homocedasticidad en los residuos"
   ]
  },
  {
   "cell_type": "markdown",
   "id": "45d47ed4",
   "metadata": {},
   "source": [
    "### 1. Multicolinearidad"
   ]
  },
  {
   "cell_type": "markdown",
   "id": "2b800206",
   "metadata": {},
   "source": [
    "Para el primer supuesto y dado que contamos con 12 variables, vamos a importar de la librería statsmodel el VIF:"
   ]
  },
  {
   "cell_type": "code",
   "execution_count": 25,
   "id": "cb46664d",
   "metadata": {},
   "outputs": [],
   "source": [
    "from statsmodels.stats.outliers_influence import variance_inflation_factor"
   ]
  },
  {
   "cell_type": "code",
   "execution_count": 26,
   "id": "3e1929a6",
   "metadata": {},
   "outputs": [
    {
     "data": {
      "text/html": [
       "<div>\n",
       "<style scoped>\n",
       "    .dataframe tbody tr th:only-of-type {\n",
       "        vertical-align: middle;\n",
       "    }\n",
       "\n",
       "    .dataframe tbody tr th {\n",
       "        vertical-align: top;\n",
       "    }\n",
       "\n",
       "    .dataframe thead th {\n",
       "        text-align: right;\n",
       "    }\n",
       "</style>\n",
       "<table border=\"1\" class=\"dataframe\">\n",
       "  <thead>\n",
       "    <tr style=\"text-align: right;\">\n",
       "      <th></th>\n",
       "      <th>AC</th>\n",
       "      <th>amoblado</th>\n",
       "      <th>area</th>\n",
       "      <th>banios</th>\n",
       "      <th>calefaccion</th>\n",
       "      <th>carretera</th>\n",
       "      <th>cuarto_huespedes</th>\n",
       "      <th>cuartos</th>\n",
       "      <th>parqueadero</th>\n",
       "      <th>periferia</th>\n",
       "      <th>pisos</th>\n",
       "      <th>sotano</th>\n",
       "    </tr>\n",
       "  </thead>\n",
       "  <tbody>\n",
       "    <tr>\n",
       "      <th>15</th>\n",
       "      <td>0</td>\n",
       "      <td>1</td>\n",
       "      <td>6000</td>\n",
       "      <td>1</td>\n",
       "      <td>0</td>\n",
       "      <td>1</td>\n",
       "      <td>0</td>\n",
       "      <td>4</td>\n",
       "      <td>2</td>\n",
       "      <td>0</td>\n",
       "      <td>2</td>\n",
       "      <td>1</td>\n",
       "    </tr>\n",
       "    <tr>\n",
       "      <th>16</th>\n",
       "      <td>1</td>\n",
       "      <td>2</td>\n",
       "      <td>6600</td>\n",
       "      <td>2</td>\n",
       "      <td>0</td>\n",
       "      <td>1</td>\n",
       "      <td>1</td>\n",
       "      <td>4</td>\n",
       "      <td>1</td>\n",
       "      <td>1</td>\n",
       "      <td>2</td>\n",
       "      <td>1</td>\n",
       "    </tr>\n",
       "    <tr>\n",
       "      <th>17</th>\n",
       "      <td>1</td>\n",
       "      <td>0</td>\n",
       "      <td>8500</td>\n",
       "      <td>2</td>\n",
       "      <td>0</td>\n",
       "      <td>1</td>\n",
       "      <td>0</td>\n",
       "      <td>3</td>\n",
       "      <td>2</td>\n",
       "      <td>0</td>\n",
       "      <td>4</td>\n",
       "      <td>0</td>\n",
       "    </tr>\n",
       "    <tr>\n",
       "      <th>18</th>\n",
       "      <td>1</td>\n",
       "      <td>0</td>\n",
       "      <td>4600</td>\n",
       "      <td>2</td>\n",
       "      <td>0</td>\n",
       "      <td>1</td>\n",
       "      <td>1</td>\n",
       "      <td>3</td>\n",
       "      <td>2</td>\n",
       "      <td>0</td>\n",
       "      <td>2</td>\n",
       "      <td>0</td>\n",
       "    </tr>\n",
       "    <tr>\n",
       "      <th>19</th>\n",
       "      <td>1</td>\n",
       "      <td>1</td>\n",
       "      <td>6420</td>\n",
       "      <td>2</td>\n",
       "      <td>0</td>\n",
       "      <td>1</td>\n",
       "      <td>0</td>\n",
       "      <td>3</td>\n",
       "      <td>1</td>\n",
       "      <td>1</td>\n",
       "      <td>2</td>\n",
       "      <td>0</td>\n",
       "    </tr>\n",
       "    <tr>\n",
       "      <th>...</th>\n",
       "      <td>...</td>\n",
       "      <td>...</td>\n",
       "      <td>...</td>\n",
       "      <td>...</td>\n",
       "      <td>...</td>\n",
       "      <td>...</td>\n",
       "      <td>...</td>\n",
       "      <td>...</td>\n",
       "      <td>...</td>\n",
       "      <td>...</td>\n",
       "      <td>...</td>\n",
       "      <td>...</td>\n",
       "    </tr>\n",
       "    <tr>\n",
       "      <th>540</th>\n",
       "      <td>0</td>\n",
       "      <td>2</td>\n",
       "      <td>3000</td>\n",
       "      <td>1</td>\n",
       "      <td>0</td>\n",
       "      <td>1</td>\n",
       "      <td>0</td>\n",
       "      <td>2</td>\n",
       "      <td>2</td>\n",
       "      <td>0</td>\n",
       "      <td>1</td>\n",
       "      <td>1</td>\n",
       "    </tr>\n",
       "    <tr>\n",
       "      <th>541</th>\n",
       "      <td>0</td>\n",
       "      <td>1</td>\n",
       "      <td>2400</td>\n",
       "      <td>1</td>\n",
       "      <td>0</td>\n",
       "      <td>0</td>\n",
       "      <td>0</td>\n",
       "      <td>3</td>\n",
       "      <td>0</td>\n",
       "      <td>0</td>\n",
       "      <td>1</td>\n",
       "      <td>0</td>\n",
       "    </tr>\n",
       "    <tr>\n",
       "      <th>542</th>\n",
       "      <td>0</td>\n",
       "      <td>2</td>\n",
       "      <td>3620</td>\n",
       "      <td>1</td>\n",
       "      <td>0</td>\n",
       "      <td>1</td>\n",
       "      <td>0</td>\n",
       "      <td>2</td>\n",
       "      <td>0</td>\n",
       "      <td>0</td>\n",
       "      <td>1</td>\n",
       "      <td>0</td>\n",
       "    </tr>\n",
       "    <tr>\n",
       "      <th>543</th>\n",
       "      <td>0</td>\n",
       "      <td>0</td>\n",
       "      <td>2910</td>\n",
       "      <td>1</td>\n",
       "      <td>0</td>\n",
       "      <td>0</td>\n",
       "      <td>0</td>\n",
       "      <td>3</td>\n",
       "      <td>0</td>\n",
       "      <td>0</td>\n",
       "      <td>1</td>\n",
       "      <td>0</td>\n",
       "    </tr>\n",
       "    <tr>\n",
       "      <th>544</th>\n",
       "      <td>0</td>\n",
       "      <td>2</td>\n",
       "      <td>3850</td>\n",
       "      <td>1</td>\n",
       "      <td>0</td>\n",
       "      <td>1</td>\n",
       "      <td>0</td>\n",
       "      <td>3</td>\n",
       "      <td>0</td>\n",
       "      <td>0</td>\n",
       "      <td>2</td>\n",
       "      <td>0</td>\n",
       "    </tr>\n",
       "  </tbody>\n",
       "</table>\n",
       "<p>517 rows × 12 columns</p>\n",
       "</div>"
      ],
      "text/plain": [
       "    AC  amoblado  area  banios calefaccion carretera cuarto_huespedes  \\\n",
       "15   0         1  6000       1           0         1                0   \n",
       "16   1         2  6600       2           0         1                1   \n",
       "17   1         0  8500       2           0         1                0   \n",
       "18   1         0  4600       2           0         1                1   \n",
       "19   1         1  6420       2           0         1                0   \n",
       "..  ..       ...   ...     ...         ...       ...              ...   \n",
       "540  0         2  3000       1           0         1                0   \n",
       "541  0         1  2400       1           0         0                0   \n",
       "542  0         2  3620       1           0         1                0   \n",
       "543  0         0  2910       1           0         0                0   \n",
       "544  0         2  3850       1           0         1                0   \n",
       "\n",
       "     cuartos  parqueadero periferia  pisos sotano  \n",
       "15         4            2         0      2      1  \n",
       "16         4            1         1      2      1  \n",
       "17         3            2         0      4      0  \n",
       "18         3            2         0      2      0  \n",
       "19         3            1         1      2      0  \n",
       "..       ...          ...       ...    ...    ...  \n",
       "540        2            2         0      1      1  \n",
       "541        3            0         0      1      0  \n",
       "542        2            0         0      1      0  \n",
       "543        3            0         0      1      0  \n",
       "544        3            0         0      2      0  \n",
       "\n",
       "[517 rows x 12 columns]"
      ]
     },
     "execution_count": 26,
     "metadata": {},
     "output_type": "execute_result"
    }
   ],
   "source": [
    "df2=df[df.columns.difference(['precio', 'log_precio'])]\n",
    "df2"
   ]
  },
  {
   "cell_type": "code",
   "execution_count": 27,
   "id": "7f9d8dd4",
   "metadata": {},
   "outputs": [
    {
     "data": {
      "text/plain": [
       "AC                  object\n",
       "amoblado             int32\n",
       "area                 int64\n",
       "banios               int64\n",
       "calefaccion         object\n",
       "carretera           object\n",
       "cuarto_huespedes    object\n",
       "cuartos              int64\n",
       "parqueadero          int64\n",
       "periferia           object\n",
       "pisos                int64\n",
       "sotano              object\n",
       "dtype: object"
      ]
     },
     "execution_count": 27,
     "metadata": {},
     "output_type": "execute_result"
    }
   ],
   "source": [
    "df2.dtypes"
   ]
  },
  {
   "cell_type": "markdown",
   "id": "8c11f1f1",
   "metadata": {},
   "source": [
    "Como podemos ver, hay algunos tipos de datos que siguen como variables categóricas por lo que vamos a tener que coercionarlos a numéricos, caso contrario el VIF no funcionará:"
   ]
  },
  {
   "cell_type": "code",
   "execution_count": 28,
   "id": "07e7ac67",
   "metadata": {},
   "outputs": [],
   "source": [
    "df2=df2.apply(pd.to_numeric)"
   ]
  },
  {
   "cell_type": "code",
   "execution_count": 29,
   "id": "c66a7a7e",
   "metadata": {},
   "outputs": [
    {
     "data": {
      "text/plain": [
       "AC                  int64\n",
       "amoblado            int32\n",
       "area                int64\n",
       "banios              int64\n",
       "calefaccion         int64\n",
       "carretera           int64\n",
       "cuarto_huespedes    int64\n",
       "cuartos             int64\n",
       "parqueadero         int64\n",
       "periferia           int64\n",
       "pisos               int64\n",
       "sotano              int64\n",
       "dtype: object"
      ]
     },
     "execution_count": 29,
     "metadata": {},
     "output_type": "execute_result"
    }
   ],
   "source": [
    "df2.dtypes"
   ]
  },
  {
   "cell_type": "markdown",
   "id": "0ccdd886",
   "metadata": {},
   "source": [
    "Ahora si, calculemos el VIF de nuestras vaibales para ver que tan correlacionadas están entre sí:"
   ]
  },
  {
   "cell_type": "code",
   "execution_count": 30,
   "id": "fd094cec",
   "metadata": {},
   "outputs": [
    {
     "name": "stdout",
     "output_type": "stream",
     "text": [
      "             feature        VIF\n",
      "0                 AC   1.734858\n",
      "1           amoblado   2.732948\n",
      "2               area  10.680511\n",
      "3             banios   9.928675\n",
      "4        calefaccion   1.074393\n",
      "5          carretera   6.782547\n",
      "6   cuarto_huespedes   1.514215\n",
      "7            cuartos  16.425891\n",
      "8        parqueadero   1.895498\n",
      "9          periferia   1.441689\n",
      "10             pisos   7.800318\n",
      "11            sotano   2.001389\n"
     ]
    }
   ],
   "source": [
    "# Creamos el dataframe del VIF\n",
    "vif_data = pd.DataFrame()\n",
    "vif_data[\"feature\"] = df2.columns\n",
    "  \n",
    "# Calculamos el VIF por c/variable\n",
    "vif_data[\"VIF\"] = [variance_inflation_factor(df2.values, i) for i in range(len(df2.columns))]\n",
    "\n",
    "print(vif_data)\n",
    "  "
   ]
  },
  {
   "cell_type": "markdown",
   "id": "1a9b4fad",
   "metadata": {},
   "source": [
    "Recordemos los rangos del VIF:"
   ]
  },
  {
   "cell_type": "markdown",
   "id": "8b7c104b",
   "metadata": {},
   "source": [
    "- Si el VIF es 1, no existe entre las variables analizadas\n",
    "\n",
    "- Si el VIF es >1 y <5, la correlación es moderada entre entre las variables analizadas, pero no constituye a menudo una transgresión grave para requerir atención\n",
    "\n",
    "- Si el VIF es >5, la correlación es potencialmente severa entre entre entre las variables analizadasuna por lo que las estimaciones de los coeficientes y los valores p en el resultado de la regresión probablemente no sean confiables"
   ]
  },
  {
   "cell_type": "markdown",
   "id": "ef95529e",
   "metadata": {},
   "source": [
    "Por lo tanto, tenemos 5 variables que potencialmente serían un problema.\n",
    "La forma de corregir al VIF es eliminar una por una las variables que muestran multicolinearidad hasta permanecer en los rangos aceptados (comenzando desde el mayor VIF)"
   ]
  },
  {
   "cell_type": "markdown",
   "id": "c7e59aba",
   "metadata": {},
   "source": [
    "Aplicamos nuevamente el VIF habiendo removido la variable de cuartos."
   ]
  },
  {
   "cell_type": "code",
   "execution_count": 31,
   "id": "a4419f08",
   "metadata": {},
   "outputs": [],
   "source": [
    "regresion_2 = ols(\"log_precio ~ cuartos + banios + pisos + carretera + cuarto_huespedes + sotano + calefaccion +\\\n",
    "                AC + parqueadero + periferia + amoblado\", data=df2)\n",
    "results_2 = regresion_2.fit()"
   ]
  },
  {
   "cell_type": "code",
   "execution_count": 32,
   "id": "db13919a",
   "metadata": {},
   "outputs": [
    {
     "name": "stdout",
     "output_type": "stream",
     "text": [
      "                            OLS Regression Results                            \n",
      "==============================================================================\n",
      "Dep. Variable:             log_precio   R-squared:                       0.599\n",
      "Model:                            OLS   Adj. R-squared:                  0.590\n",
      "Method:                 Least Squares   F-statistic:                     68.54\n",
      "Date:                Wed, 26 Oct 2022   Prob (F-statistic):           8.86e-93\n",
      "Time:                        07:33:21   Log-Likelihood:                 50.710\n",
      "No. Observations:                 517   AIC:                            -77.42\n",
      "Df Residuals:                     505   BIC:                            -26.44\n",
      "Df Model:                          11                                         \n",
      "Covariance Type:            nonrobust                                         \n",
      "====================================================================================\n",
      "                       coef    std err          t      P>|t|      [0.025      0.975]\n",
      "------------------------------------------------------------------------------------\n",
      "Intercept           14.5470      0.055    265.603      0.000      14.439      14.655\n",
      "cuartos              0.0351      0.015      2.270      0.024       0.005       0.065\n",
      "banios               0.1635      0.023      6.979      0.000       0.118       0.210\n",
      "pisos                0.0864      0.014      6.320      0.000       0.060       0.113\n",
      "carretera            0.1682      0.029      5.781      0.000       0.111       0.225\n",
      "cuarto_huespedes     0.1039      0.028      3.690      0.000       0.049       0.159\n",
      "sotano               0.0758      0.023      3.235      0.001       0.030       0.122\n",
      "calefaccion          0.1463      0.049      2.982      0.003       0.050       0.243\n",
      "AC                   0.1981      0.023      8.658      0.000       0.153       0.243\n",
      "parqueadero          0.0687      0.012      5.673      0.000       0.045       0.093\n",
      "periferia            0.1376      0.025      5.506      0.000       0.088       0.187\n",
      "amoblado            -0.0604      0.013     -4.514      0.000      -0.087      -0.034\n",
      "==============================================================================\n",
      "Omnibus:                       12.145   Durbin-Watson:                   1.110\n",
      "Prob(Omnibus):                  0.002   Jarque-Bera (JB):               16.332\n",
      "Skew:                          -0.224   Prob(JB):                     0.000284\n",
      "Kurtosis:                       3.746   Cond. No.                         25.2\n",
      "==============================================================================\n",
      "\n",
      "Notes:\n",
      "[1] Standard Errors assume that the covariance matrix of the errors is correctly specified.\n"
     ]
    }
   ],
   "source": [
    "print(results_2.summary())"
   ]
  },
  {
   "cell_type": "code",
   "execution_count": 33,
   "id": "350440a6",
   "metadata": {},
   "outputs": [
    {
     "name": "stdout",
     "output_type": "stream",
     "text": [
      "             feature       VIF\n",
      "0                 AC  1.727920\n",
      "1           amoblado  2.569279\n",
      "2               area  9.843391\n",
      "3             banios  8.361942\n",
      "4        calefaccion  1.073286\n",
      "5          carretera  6.714683\n",
      "6   cuarto_huespedes  1.504878\n",
      "7        parqueadero  1.894673\n",
      "8          periferia  1.441597\n",
      "9              pisos  6.309331\n",
      "10            sotano  1.902233\n"
     ]
    }
   ],
   "source": [
    "# Creamos el dataframe del VIF\n",
    "vif_data = pd.DataFrame()\n",
    "vif_data[\"feature\"] = df2.columns.difference(['cuartos'])\n",
    "  \n",
    "# Calculamos el VIF por c/variable\n",
    "vif_data[\"VIF\"] = [variance_inflation_factor(df2[df2.columns.difference(['cuartos'])].values, i) \\\n",
    "                   for i in range(len(df2[df2.columns.difference(['cuartos'])].columns))]\n",
    "\n",
    "print(vif_data)\n",
    "  "
   ]
  },
  {
   "cell_type": "markdown",
   "id": "176db15d",
   "metadata": {},
   "source": [
    "Continuemos con el area"
   ]
  },
  {
   "cell_type": "code",
   "execution_count": 34,
   "id": "1a90c569",
   "metadata": {},
   "outputs": [
    {
     "name": "stdout",
     "output_type": "stream",
     "text": [
      "            feature       VIF\n",
      "0                AC  1.688295\n",
      "1          amoblado  2.456704\n",
      "2            banios  7.532418\n",
      "3       calefaccion  1.073282\n",
      "4         carretera  5.499845\n",
      "5  cuarto_huespedes  1.478450\n",
      "6       parqueadero  1.731921\n",
      "7         periferia  1.417811\n",
      "8             pisos  6.247214\n",
      "9            sotano  1.901920\n"
     ]
    }
   ],
   "source": [
    "# Creamos el dataframe del VIF\n",
    "vif_data = pd.DataFrame()\n",
    "vif_data[\"feature\"] = df2.columns.difference(['area', 'cuartos'])\n",
    "  \n",
    "# Calculamos el VIF por c/variable\n",
    "vif_data[\"VIF\"] = [variance_inflation_factor(df2[df2.columns.difference(['area','cuartos'])].values, i) \\\n",
    "                   for i in range(len(df2[df2.columns.difference(['area','cuartos'])].columns))]\n",
    "\n",
    "print(vif_data)\n",
    "  "
   ]
  },
  {
   "cell_type": "markdown",
   "id": "710c4636",
   "metadata": {},
   "source": [
    "Y eliminemos en esta ronda los baños:"
   ]
  },
  {
   "cell_type": "code",
   "execution_count": 35,
   "id": "779f3c4b",
   "metadata": {},
   "outputs": [
    {
     "name": "stdout",
     "output_type": "stream",
     "text": [
      "            feature       VIF\n",
      "0                AC  1.683958\n",
      "1          amoblado  2.326249\n",
      "2       calefaccion  1.069104\n",
      "3         carretera  5.129900\n",
      "4  cuarto_huespedes  1.471885\n",
      "5       parqueadero  1.688140\n",
      "6         periferia  1.415787\n",
      "7             pisos  4.500335\n",
      "8            sotano  1.773974\n"
     ]
    }
   ],
   "source": [
    "# Creamos el dataframe del VIF\n",
    "vif_data = pd.DataFrame()\n",
    "vif_data[\"feature\"] = df2.columns.difference(['area', 'cuartos', 'banios'])\n",
    "  \n",
    "# Calculamos el VIF por c/variable\n",
    "vif_data[\"VIF\"] = [variance_inflation_factor(df2[df2.columns.difference(['area','cuartos','banios'])].values, i) \\\n",
    "                   for i in range(len(df2[df2.columns.difference(['area','cuartos', 'banios'])].columns))]\n",
    "\n",
    "print(vif_data)\n",
    "  "
   ]
  },
  {
   "cell_type": "markdown",
   "id": "4d1c9c46",
   "metadata": {},
   "source": [
    "Listo, llamemos a nuestra regresión para ver con qué modelo nos quedamos y cuál es su grado de ajuste:"
   ]
  },
  {
   "cell_type": "code",
   "execution_count": 36,
   "id": "461f49d9",
   "metadata": {},
   "outputs": [],
   "source": [
    "regresion_3 = ols(\"log_precio ~ pisos + carretera + cuarto_huespedes + sotano + calefaccion +\\\n",
    "                AC + parqueadero + periferia + amoblado\", data=df2)\n",
    "results_3 = regresion_3.fit()"
   ]
  },
  {
   "cell_type": "code",
   "execution_count": 37,
   "id": "214a9f4e",
   "metadata": {},
   "outputs": [
    {
     "name": "stdout",
     "output_type": "stream",
     "text": [
      "                            OLS Regression Results                            \n",
      "==============================================================================\n",
      "Dep. Variable:             log_precio   R-squared:                       0.549\n",
      "Model:                            OLS   Adj. R-squared:                  0.541\n",
      "Method:                 Least Squares   F-statistic:                     68.47\n",
      "Date:                Wed, 26 Oct 2022   Prob (F-statistic):           7.55e-82\n",
      "Time:                        07:33:21   Log-Likelihood:                 20.212\n",
      "No. Observations:                 517   AIC:                            -20.42\n",
      "Df Residuals:                     507   BIC:                             22.06\n",
      "Df Model:                           9                                         \n",
      "Covariance Type:            nonrobust                                         \n",
      "====================================================================================\n",
      "                       coef    std err          t      P>|t|      [0.025      0.975]\n",
      "------------------------------------------------------------------------------------\n",
      "Intercept           14.7868      0.041    361.400      0.000      14.706      14.867\n",
      "pisos                0.1268      0.013      9.829      0.000       0.101       0.152\n",
      "carretera            0.1475      0.031      4.828      0.000       0.087       0.207\n",
      "cuarto_huespedes     0.1191      0.030      4.006      0.000       0.061       0.177\n",
      "sotano               0.1078      0.024      4.427      0.000       0.060       0.156\n",
      "calefaccion          0.1645      0.052      3.172      0.002       0.063       0.266\n",
      "AC                   0.2082      0.024      8.608      0.000       0.161       0.256\n",
      "parqueadero          0.0812      0.013      6.397      0.000       0.056       0.106\n",
      "periferia            0.1337      0.026      5.060      0.000       0.082       0.186\n",
      "amoblado            -0.0696      0.014     -4.936      0.000      -0.097      -0.042\n",
      "==============================================================================\n",
      "Omnibus:                        5.675   Durbin-Watson:                   1.076\n",
      "Prob(Omnibus):                  0.059   Jarque-Bera (JB):                6.251\n",
      "Skew:                          -0.156   Prob(JB):                       0.0439\n",
      "Kurtosis:                       3.439   Cond. No.                         13.7\n",
      "==============================================================================\n",
      "\n",
      "Notes:\n",
      "[1] Standard Errors assume that the covariance matrix of the errors is correctly specified.\n"
     ]
    }
   ],
   "source": [
    "print(results_3.summary())"
   ]
  },
  {
   "cell_type": "markdown",
   "id": "cce455b3",
   "metadata": {},
   "source": [
    "Bueno, hemos pasado de explicar en un 65% la variabilidad de nuestra variable dependiente por medio de la inclusión de 12 variables a explicar 54%, luego de la eliminación de la especificación de 3 variables que se encontraban correlacionadas.\n",
    "\n",
    "Continuemos con los siguientes supuestos para ver cómo nos va en nuestro análisis:"
   ]
  },
  {
   "cell_type": "markdown",
   "id": "daacf72d",
   "metadata": {},
   "source": [
    "### 2. Linealidad en los parámetros"
   ]
  },
  {
   "cell_type": "markdown",
   "id": "26096f6f",
   "metadata": {},
   "source": [
    "Para esta prueba, podemos repetir de par en par la relación que existe entre el log_precio del inmueble y c/variable independiente: pisos, carretera, cuarto_huespedes, sotano, calefaccion, AC, parqueadero, periferia, amoblado. Dado que algunas de las variables fueron dumificadas, la prueba gráfica será de poca ayuda, por lo que es conveniente evaluar los siguientes supuestos para ver si existe algún problema en nuestro modelo."
   ]
  },
  {
   "cell_type": "markdown",
   "id": "9ce2c0c5",
   "metadata": {},
   "source": [
    "### 3. Normalidad en los residuos"
   ]
  },
  {
   "cell_type": "markdown",
   "id": "92a3e3e7",
   "metadata": {},
   "source": [
    "Para la normalidad en los residuos del modelo, compararemos mediantelos gráficos QQ (o gráfico de cuantiles-cuantiles)si los puntos del gráfico forman aproximadamente una línea diagonal recta."
   ]
  },
  {
   "cell_type": "code",
   "execution_count": 38,
   "id": "a76c90cc",
   "metadata": {},
   "outputs": [
    {
     "data": {
      "image/png": "[encoded data removed]",
      "text/plain": [
       "<Figure size 432x288 with 1 Axes>"
      ]
     },
     "execution_count": 38,
     "metadata": {},
     "output_type": "execute_result"
    },
    {
     "data": {
      "image/png": "[encoded data removed]",
      "text/plain": [
       "<Figure size 432x288 with 1 Axes>"
      ]
     },
     "metadata": {
      "needs_background": "light"
     },
     "output_type": "display_data"
    }
   ],
   "source": [
    "sm.qqplot(results_3.resid, line='q')"
   ]
  },
  {
   "cell_type": "markdown",
   "id": "f3a3dfd6",
   "metadata": {},
   "source": [
    "Como podemos ver, las líneas azules que representan a los residuos caen cerca de la línea recta. Podemos observar en el gráfico de igual manera que existen observaciones que caen muy por fuera de la línea, por lo que un anális con la prueba de Jarque-Bera para validar la hipótesis de normalidad en residuos podría ser útil."
   ]
  },
  {
   "cell_type": "markdown",
   "id": "825a6e92",
   "metadata": {},
   "source": [
    "Para aplicar una prueba estadística como la de Jarque Bera, es conveniente importar un submódulo de statsmodels que son las estadisticas \"stats\""
   ]
  },
  {
   "cell_type": "code",
   "execution_count": 39,
   "id": "1ef408ed",
   "metadata": {},
   "outputs": [],
   "source": [
    "import statsmodels.stats.api as sms\n",
    "from statsmodels.compat import lzip"
   ]
  },
  {
   "cell_type": "markdown",
   "id": "5b4d3815",
   "metadata": {},
   "source": [
    "Recordemos que el test Jarque-Bera es una prueba de bondad de ajuste que determina si los datos de la muestra tienen asimetría y curtosis que coinciden con una distribución normal.\n",
    "\n",
    "Como norma general, el estadístico de prueba de la prueba de Jarque-Bera es siempre un número positivo y cuanto más alejado de cero esté, habrá más evidencia de que los datos de la muestra no siguen una distribución normal."
   ]
  },
  {
   "cell_type": "markdown",
   "id": "059d29f5",
   "metadata": {},
   "source": [
    "La hipótesis nula de este test es:\n",
    "\n",
    "- H0: Los datos se distribuyen normalmente\n",
    "- H1: Los datos no se distribuyen normalmente"
   ]
  },
  {
   "cell_type": "code",
   "execution_count": 40,
   "id": "fe03dc45",
   "metadata": {},
   "outputs": [
    {
     "data": {
      "text/plain": [
       "[('Jarque-Bera', 6.251332268522801),\n",
       " ('Chi^2 two-tail prob.', 0.04390767547259021),\n",
       " ('Skew', -0.15619399962099784),\n",
       " ('Kurtosis', 3.4388746752421917)]"
      ]
     },
     "execution_count": 40,
     "metadata": {},
     "output_type": "execute_result"
    }
   ],
   "source": [
    "nombres = [\"Jarque-Bera\", \"Chi^2 two-tail prob.\", \"Skew\", \"Kurtosis\"]\n",
    "jarque_bera = sms.jarque_bera(results_3.resid)\n",
    "lzip(nombres, jarque_bera)"
   ]
  },
  {
   "cell_type": "markdown",
   "id": "3bafc8e3",
   "metadata": {},
   "source": [
    "Dado que este valor de probabilidad es menor que .05, podemos rechazar la hipótesis nula al 95% de confianza, por lo que tenemos suficiente evidencia para decir que estos datos tienen asimetría y curtosis que es significativamente diferente de una distribución normal. Sin embargo al 90% de confianza, no se logra rechazar la hipótesis nula, por lo que podríamos relajar un poco este supuesto."
   ]
  },
  {
   "cell_type": "markdown",
   "id": "2d77a0c7",
   "metadata": {},
   "source": [
    "Finalmemte, podemos contrastar si la media de los residuos de este modelo es 0, o muy cercano a este. Para esto podemos extraer los residuos del modelo y calcular la media directamente:"
   ]
  },
  {
   "cell_type": "code",
   "execution_count": 41,
   "id": "61d96c8b",
   "metadata": {},
   "outputs": [
    {
     "data": {
      "text/plain": [
       "2.122007706022427e-14"
      ]
     },
     "execution_count": 41,
     "metadata": {},
     "output_type": "execute_result"
    }
   ],
   "source": [
    "results_3.resid.mean()"
   ]
  },
  {
   "cell_type": "markdown",
   "id": "e93d229f",
   "metadata": {},
   "source": [
    "La media de los residuos tiende a cero y es muy pequeña por lo que no se estaría violando este supuesto."
   ]
  },
  {
   "cell_type": "markdown",
   "id": "606f5d4f",
   "metadata": {},
   "source": [
    "### 4. Homocedasticidad en los residuos"
   ]
  },
  {
   "cell_type": "markdown",
   "id": "b54416a8",
   "metadata": {},
   "source": [
    "Para comprobar este supuesto podemos graficar los valores ajustados frente a una gráfica de residuos. De existir heterocedasticidad, los residuos se dispersarán mucho más a medida que los valores ajustados aumenten creando una imagen de cono.\n",
    "\n",
    "Aplicando a Python este gráfico se obtendría por medio del comando residplot dentro de seaborn."
   ]
  },
  {
   "cell_type": "code",
   "execution_count": 42,
   "id": "a71ce0a0",
   "metadata": {},
   "outputs": [],
   "source": [
    "y_pred=results_3.predict()"
   ]
  },
  {
   "cell_type": "code",
   "execution_count": 43,
   "id": "10ee086e",
   "metadata": {},
   "outputs": [
    {
     "data": {
      "text/plain": [
       "Text(0.5, 1.0, 'Gráfica de residuos')"
      ]
     },
     "execution_count": 43,
     "metadata": {},
     "output_type": "execute_result"
    },
    {
     "data": {
      "image/png": "[encoded data removed]",
      "text/plain": [
       "<Figure size 432x288 with 1 Axes>"
      ]
     },
     "metadata": {
      "needs_background": "light"
     },
     "output_type": "display_data"
    }
   ],
   "source": [
    "sns.residplot(y_pred, results_3.resid)\n",
    "plt.xlabel(\"y_pred\")\n",
    "plt.ylabel(\"residuos\")\n",
    "plt.title(\"Gráfica de residuos\")"
   ]
  },
  {
   "cell_type": "markdown",
   "id": "976d5c44",
   "metadata": {},
   "source": [
    "De la gráfica de residuos anterior, podríamos inferir que los residuos no formaron ningún patrón. Por lo tanto, los residuos son independientes entre sí.\n",
    "\n",
    "Y además, los residuos tienen varianza constante. La varianza no parece aumentar/disminuir constantemente con el valor y_pred."
   ]
  },
  {
   "cell_type": "markdown",
   "id": "21ce257d",
   "metadata": {},
   "source": [
    "Para aplicar una prueba estadística como la de Breush Pagan, es conveniente importar un submódulo de statsmodels que son las estadisticas \"stats\""
   ]
  },
  {
   "cell_type": "markdown",
   "id": "fa5370f3",
   "metadata": {},
   "source": [
    "Recordemos que este test se utiliza para determinar la heterocedasticidad en un modelo de regresión lineal, ya que analiza si la varianza estimada de los residuos de una regresión dependen de los valores de las variables independientes.\n"
   ]
  },
  {
   "cell_type": "markdown",
   "id": "3a390efb",
   "metadata": {},
   "source": [
    "La hipótesis nula de este test es:\n",
    "\n",
    "- H0: Existe homocedasticidad\n",
    "- H1: La homocedasticidad no está presente , por lo que existe heterocedasticidad"
   ]
  },
  {
   "cell_type": "code",
   "execution_count": 44,
   "id": "b55b6dfb",
   "metadata": {},
   "outputs": [
    {
     "data": {
      "text/plain": [
       "[('Lagrange multiplier statistic', 21.9176186868182),\n",
       " ('p-value', 0.0384535507384683),\n",
       " ('f-value', 1.8593672883383126),\n",
       " ('f p-value', 0.0369860272077784)]"
      ]
     },
     "execution_count": 44,
     "metadata": {},
     "output_type": "execute_result"
    }
   ],
   "source": [
    "nombres = [\"Lagrange multiplier statistic\", \"p-value\", \"f-value\", \"f p-value\"]\n",
    "breuschpagan = sms.het_breuschpagan(results_3.resid, results.model.exog)\n",
    "lzip(nombres, breuschpagan)"
   ]
  },
  {
   "cell_type": "markdown",
   "id": "53491641",
   "metadata": {},
   "source": [
    "En este ejemplo, como el estadístico del multiplicador de Lagrange para la prueba es de 21 y el valor p correspondiente es 0.03, el cual es menor a 0.05, podemos rechazar la hipótesis nula, y concluímos que no tenemos evidencia suficiente para decir que la heterocedasticidad no está presente en el modelo de regresión.\n",
    "Sin embargo este supuesto también pasaría al 90% de confianza."
   ]
  },
  {
   "cell_type": "markdown",
   "id": "e79904fd",
   "metadata": {},
   "source": [
    "En este escenario, tenemos algunas opciones, podriamos trabajar en feature engineering que es la creación de nuevas variables a partir de las que tenemos para mejorar nuestra calidad del modelo, o interpretar los resultados al 90% de confianza.\n",
    "Para este ejercicio, lo vamos a interpretar con un nivel de significancia menor para retomar este ejercicio cuando utilicemos Machine Learning."
   ]
  },
  {
   "cell_type": "markdown",
   "id": "23d9b079",
   "metadata": {},
   "source": [
    "Así, podemos decir que del tercer modelo obtenido, hemos alcanzado a capturar el 54% de la variabilidad del logaritmo del precio mediante las variables independientes de número de pisos ,parqueaderos, y las variables dicotómicas que abarcan el concepto de si el inmueble cuenta con: cuarto_huespedes, sotano,  calefaccion, AC, carretera, periferia y cuál es su nivel de amoblado."
   ]
  },
  {
   "cell_type": "markdown",
   "id": "0ccdf6d8",
   "metadata": {},
   "source": [
    "Para ejemplificar cómo sería la interpretación, tomemos como ejemplo una variable numérica y una dicotómica:\n",
    "- En nuestro modelo Log-Nivel interpretaríamos la variable \"pisos\" como: Un incremento de 1 piso en el inmueble, se asocia a un cambio en \"Y\" de (100·β1 )%, ( 12%)\n",
    "- Por su parte una variable dicotómica como si la vivienda dispone de AC se interpretaría como: el logaritmo del precio de la vivienda se incrementará en (100·βx )%, ( 20%)"
   ]
  },
  {
   "cell_type": "markdown",
   "id": "70b3f056",
   "metadata": {},
   "source": [
    "### Para finalizar: "
   ]
  },
  {
   "cell_type": "markdown",
   "id": "23c679f2",
   "metadata": {},
   "source": [
    "Para concluir este script vamos a predecir valores por medio de su forma funcional:"
   ]
  },
  {
   "cell_type": "markdown",
   "id": "a4a7f60d",
   "metadata": {},
   "source": [
    "$$log price = 14.78 + 0.14  \\times  carretera + 0.1a \\times cuarto_huespedes+ 0.10 \\times sotano + 0.16 \\times calefaccion + 0.20 \\times AC + 0.13  \\times  periferia+ 0.12  \\times  pisos+ 0.08  \\times  parqueadero - 0.06  \\times  amoblado $$\n"
   ]
  },
  {
   "cell_type": "markdown",
   "id": "c2170ef7",
   "metadata": {},
   "source": [
    "Por lo que para predecir el logaritmo del precio del inmueble requeriríamos los valores de las variables independientes incluídas en la forma funcional en el mismo formato que fueron incluídos en el modelo."
   ]
  },
  {
   "cell_type": "markdown",
   "id": "f4178861",
   "metadata": {},
   "source": [
    "Una forma más automática de realizarlo, es utilizando el método .predict() el cual calculará el valor de \"Y\" cuando se le entregue los valores de la variables independientes. Así:"
   ]
  },
  {
   "cell_type": "code",
   "execution_count": 45,
   "id": "1b847aea",
   "metadata": {},
   "outputs": [
    {
     "data": {
      "text/html": [
       "<div>\n",
       "<style scoped>\n",
       "    .dataframe tbody tr th:only-of-type {\n",
       "        vertical-align: middle;\n",
       "    }\n",
       "\n",
       "    .dataframe tbody tr th {\n",
       "        vertical-align: top;\n",
       "    }\n",
       "\n",
       "    .dataframe thead th {\n",
       "        text-align: right;\n",
       "    }\n",
       "</style>\n",
       "<table border=\"1\" class=\"dataframe\">\n",
       "  <thead>\n",
       "    <tr style=\"text-align: right;\">\n",
       "      <th></th>\n",
       "      <th>pisos</th>\n",
       "      <th>carretera</th>\n",
       "      <th>cuarto_huespedes</th>\n",
       "      <th>sotano</th>\n",
       "      <th>calefaccion</th>\n",
       "      <th>AC</th>\n",
       "      <th>parqueadero</th>\n",
       "      <th>periferia</th>\n",
       "      <th>amoblado</th>\n",
       "    </tr>\n",
       "  </thead>\n",
       "  <tbody>\n",
       "    <tr>\n",
       "      <th>15</th>\n",
       "      <td>2</td>\n",
       "      <td>1</td>\n",
       "      <td>0</td>\n",
       "      <td>1</td>\n",
       "      <td>0</td>\n",
       "      <td>0</td>\n",
       "      <td>2</td>\n",
       "      <td>0</td>\n",
       "      <td>1</td>\n",
       "    </tr>\n",
       "    <tr>\n",
       "      <th>16</th>\n",
       "      <td>2</td>\n",
       "      <td>1</td>\n",
       "      <td>1</td>\n",
       "      <td>1</td>\n",
       "      <td>0</td>\n",
       "      <td>1</td>\n",
       "      <td>1</td>\n",
       "      <td>1</td>\n",
       "      <td>2</td>\n",
       "    </tr>\n",
       "    <tr>\n",
       "      <th>17</th>\n",
       "      <td>4</td>\n",
       "      <td>1</td>\n",
       "      <td>0</td>\n",
       "      <td>0</td>\n",
       "      <td>0</td>\n",
       "      <td>1</td>\n",
       "      <td>2</td>\n",
       "      <td>0</td>\n",
       "      <td>0</td>\n",
       "    </tr>\n",
       "    <tr>\n",
       "      <th>18</th>\n",
       "      <td>2</td>\n",
       "      <td>1</td>\n",
       "      <td>1</td>\n",
       "      <td>0</td>\n",
       "      <td>0</td>\n",
       "      <td>1</td>\n",
       "      <td>2</td>\n",
       "      <td>0</td>\n",
       "      <td>0</td>\n",
       "    </tr>\n",
       "    <tr>\n",
       "      <th>19</th>\n",
       "      <td>2</td>\n",
       "      <td>1</td>\n",
       "      <td>0</td>\n",
       "      <td>0</td>\n",
       "      <td>0</td>\n",
       "      <td>1</td>\n",
       "      <td>1</td>\n",
       "      <td>1</td>\n",
       "      <td>1</td>\n",
       "    </tr>\n",
       "    <tr>\n",
       "      <th>...</th>\n",
       "      <td>...</td>\n",
       "      <td>...</td>\n",
       "      <td>...</td>\n",
       "      <td>...</td>\n",
       "      <td>...</td>\n",
       "      <td>...</td>\n",
       "      <td>...</td>\n",
       "      <td>...</td>\n",
       "      <td>...</td>\n",
       "    </tr>\n",
       "    <tr>\n",
       "      <th>540</th>\n",
       "      <td>1</td>\n",
       "      <td>1</td>\n",
       "      <td>0</td>\n",
       "      <td>1</td>\n",
       "      <td>0</td>\n",
       "      <td>0</td>\n",
       "      <td>2</td>\n",
       "      <td>0</td>\n",
       "      <td>2</td>\n",
       "    </tr>\n",
       "    <tr>\n",
       "      <th>541</th>\n",
       "      <td>1</td>\n",
       "      <td>0</td>\n",
       "      <td>0</td>\n",
       "      <td>0</td>\n",
       "      <td>0</td>\n",
       "      <td>0</td>\n",
       "      <td>0</td>\n",
       "      <td>0</td>\n",
       "      <td>1</td>\n",
       "    </tr>\n",
       "    <tr>\n",
       "      <th>542</th>\n",
       "      <td>1</td>\n",
       "      <td>1</td>\n",
       "      <td>0</td>\n",
       "      <td>0</td>\n",
       "      <td>0</td>\n",
       "      <td>0</td>\n",
       "      <td>0</td>\n",
       "      <td>0</td>\n",
       "      <td>2</td>\n",
       "    </tr>\n",
       "    <tr>\n",
       "      <th>543</th>\n",
       "      <td>1</td>\n",
       "      <td>0</td>\n",
       "      <td>0</td>\n",
       "      <td>0</td>\n",
       "      <td>0</td>\n",
       "      <td>0</td>\n",
       "      <td>0</td>\n",
       "      <td>0</td>\n",
       "      <td>0</td>\n",
       "    </tr>\n",
       "    <tr>\n",
       "      <th>544</th>\n",
       "      <td>2</td>\n",
       "      <td>1</td>\n",
       "      <td>0</td>\n",
       "      <td>0</td>\n",
       "      <td>0</td>\n",
       "      <td>0</td>\n",
       "      <td>0</td>\n",
       "      <td>0</td>\n",
       "      <td>2</td>\n",
       "    </tr>\n",
       "  </tbody>\n",
       "</table>\n",
       "<p>517 rows × 9 columns</p>\n",
       "</div>"
      ],
      "text/plain": [
       "     pisos  carretera  cuarto_huespedes  sotano  calefaccion  AC  parqueadero  \\\n",
       "15       2          1                 0       1            0   0            2   \n",
       "16       2          1                 1       1            0   1            1   \n",
       "17       4          1                 0       0            0   1            2   \n",
       "18       2          1                 1       0            0   1            2   \n",
       "19       2          1                 0       0            0   1            1   \n",
       "..     ...        ...               ...     ...          ...  ..          ...   \n",
       "540      1          1                 0       1            0   0            2   \n",
       "541      1          0                 0       0            0   0            0   \n",
       "542      1          1                 0       0            0   0            0   \n",
       "543      1          0                 0       0            0   0            0   \n",
       "544      2          1                 0       0            0   0            0   \n",
       "\n",
       "     periferia  amoblado  \n",
       "15           0         1  \n",
       "16           1         2  \n",
       "17           0         0  \n",
       "18           0         0  \n",
       "19           1         1  \n",
       "..         ...       ...  \n",
       "540          0         2  \n",
       "541          0         1  \n",
       "542          0         2  \n",
       "543          0         0  \n",
       "544          0         2  \n",
       "\n",
       "[517 rows x 9 columns]"
      ]
     },
     "execution_count": 45,
     "metadata": {},
     "output_type": "execute_result"
    }
   ],
   "source": [
    "df3=df2[df2.columns.difference(['area', 'cuartos', 'banios', 'precio', 'log_precio'])]\n",
    "# df3['intercepto']=1\n",
    "df3=df3[[ 'pisos', 'carretera', 'cuarto_huespedes', 'sotano', 'calefaccion', 'AC', 'parqueadero', 'periferia', 'amoblado']]\n",
    "df3"
   ]
  },
  {
   "cell_type": "code",
   "execution_count": 46,
   "id": "bbfc7000",
   "metadata": {},
   "outputs": [
    {
     "data": {
      "text/plain": [
       "array([15.38837647, 15.69845873, 15.81193904, 15.6774587 , 15.54125028,\n",
       "       15.55290272, 15.51921281, 15.5772116 , 15.70398555, 15.55839112,\n",
       "       15.91891114, 15.94039264, 15.07262203, 15.48328992, 15.64900395,\n",
       "       15.67271345, 15.74232624, 15.61086308, 15.35660444, 15.70398555,\n",
       "       15.81193904, 15.69400777, 15.81193904, 15.79178102, 15.66109943,\n",
       "       15.63738994, 15.78318419, 15.67271345, 15.53417073, 15.73071223,\n",
       "       15.45309866, 15.73071223, 16.02686462, 15.23753686, 15.56007076,\n",
       "       15.51702989, 15.59148664, 15.84977981, 15.74232624, 15.52661909,\n",
       "       15.33793872, 15.98347858, 15.78016701, 15.84977981, 15.31846357,\n",
       "       15.28077755, 15.47716431, 15.81886385, 15.58491798, 15.08423605,\n",
       "       15.35039035, 15.56777714, 15.51025982, 15.64395859, 15.68278234,\n",
       "       15.54128871, 15.28269543, 15.65641023, 15.65641023, 15.79213718,\n",
       "       15.64177903, 15.49762101, 15.51530518, 15.57987262, 15.44514905,\n",
       "       15.52271146, 15.41678278, 15.26160251, 15.65291158, 15.3502356 ,\n",
       "       15.3263247 , 15.58398166, 15.76855299, 15.55098485, 15.45294391,\n",
       "       15.61555228, 15.38368727, 15.64129757, 15.51718463, 15.53585036,\n",
       "       15.37139038, 15.39025593, 15.78016701, 15.64177903, 15.58398166,\n",
       "       15.51025982, 15.44100318, 15.41678278, 15.32616995, 15.48298982,\n",
       "       15.51436886, 15.54593949, 15.18778198, 15.46491408, 15.45028289,\n",
       "       15.72252438, 15.28230244, 15.51500507, 15.51061598, 15.6034568 ,\n",
       "       15.58398166, 15.68684472, 15.31407447, 15.18778198, 15.52255671,\n",
       "       15.32568849, 15.38348586, 15.72300585, 15.14860367, 15.49078468,\n",
       "       15.45309866, 15.38348586, 15.39530129, 15.51025982, 15.41916553,\n",
       "       15.19939599, 15.45309866, 15.79213718, 15.51025982, 15.55991601,\n",
       "       15.30014892, 15.70398555, 15.4413299 , 15.19939599, 15.37864191,\n",
       "       15.23284766, 15.61723192, 15.6224771 , 15.75645751, 15.22592285,\n",
       "       15.28062281, 15.46491408, 15.35191524, 15.3483687 , 15.15384885,\n",
       "       15.49598478, 15.76855299, 15.70586501, 15.4786892 , 15.56007076,\n",
       "       15.62952881, 15.31312992, 15.53384401, 15.36200437, 15.50369117,\n",
       "       15.17886336, 15.09914889, 15.20632081, 15.77968554, 15.26363672,\n",
       "       15.49030321, 15.39969038, 15.43161716, 15.23284766, 15.51436886,\n",
       "       15.28062281, 15.32229669, 15.62952881, 15.17886336, 15.20632081,\n",
       "       15.41460322, 15.15631005, 15.44100318, 15.39041067, 15.07075513,\n",
       "       15.55839112, 15.42152804, 15.21821647, 15.21821647, 15.38837647,\n",
       "       15.38274271, 15.36784384, 15.3263247 , 15.26900879, 15.43407837,\n",
       "       15.40568461, 15.1803757 , 15.11816918, 15.21821647, 15.36200437,\n",
       "       15.42637199, 15.43407837, 15.24494314, 14.92178243, 15.50744405,\n",
       "       15.59653199, 15.09914889, 15.02953609, 15.17533034, 15.28754762,\n",
       "       15.69208989, 15.33324951, 15.15631005, 15.85007991, 15.11816918,\n",
       "       15.46975803, 15.58491798, 15.42609034, 15.44323118, 15.57987262,\n",
       "       15.45814402, 15.28062281, 15.42621724, 15.25186795, 15.12509399,\n",
       "       15.29553565, 15.35675919, 15.38837647, 15.52661909, 15.4786892 ,\n",
       "       15.22592285, 15.22592285, 15.26900879, 15.33309477, 15.15384885,\n",
       "       15.3959375 , 15.29553565, 15.4786892 , 15.34470878, 15.12509399,\n",
       "       15.54578474, 15.21821647, 15.54830199, 15.24494314, 15.30714966,\n",
       "       14.99139522, 15.32148075, 15.48877833, 15.21116476, 15.3502356 ,\n",
       "       15.06100802, 15.19939599, 15.45814402, 15.47716431, 15.11816918,\n",
       "       15.21821647, 14.97070784, 15.22592285, 15.25186795, 15.21793482,\n",
       "       15.19939599, 15.3263247 , 15.04855639, 15.560309  , 15.07846151,\n",
       "       15.38067009, 15.3502356 , 15.11816918, 15.16876169, 15.07262203,\n",
       "       15.20632081, 15.52207524, 15.06100802, 15.04855639, 15.43161716,\n",
       "       15.33607181, 15.18778198, 15.14223483, 15.23723676, 15.30246046,\n",
       "       15.2567119 , 15.36446557, 15.38067009, 14.97070784, 15.36446557,\n",
       "       14.97070784, 14.8555479 , 14.97070784, 14.97070784, 15.40755151,\n",
       "       15.15631005, 15.31837509, 15.30468846, 15.24494314, 15.25186795,\n",
       "       15.39025593, 15.16876169, 15.34282933, 15.19939599, 15.19939599,\n",
       "       15.28062281, 15.30714966, 15.3263247 , 15.09914889, 15.1803757 ,\n",
       "       15.51061598, 15.11816918, 15.19939599, 15.19955074, 15.09007553,\n",
       "       15.21101001, 14.99139522, 15.72330595, 15.48393437, 15.44514905,\n",
       "       15.45814402, 15.23507566, 15.28661703, 15.3263247 , 14.88207475,\n",
       "       15.26009017, 15.28661703, 15.18778198, 15.4090764 , 15.5315097 ,\n",
       "       15.34499043, 15.11816918, 15.30676108, 15.53937083, 15.36200437,\n",
       "       15.16323486, 15.34499043, 15.18778198, 15.11816918, 15.26160251,\n",
       "       15.3959375 , 14.99139522, 14.99139522, 15.35962162, 15.37093553,\n",
       "       15.04855639, 14.95168755, 15.11816918, 15.36392224, 14.99139522,\n",
       "       15.08423605, 15.44825471, 15.14223483, 15.22346164, 15.31068268,\n",
       "       15.12154745, 15.12509399, 15.00300924, 14.99139522, 14.99139522,\n",
       "       15.06100802, 15.15592147, 15.24298776, 15.06100802, 15.16876169,\n",
       "       15.12993794, 14.84393388, 15.06100802, 15.36200437, 15.22592285,\n",
       "       15.07846151, 15.3959375 , 15.09914889, 15.27537763, 15.28062281,\n",
       "       15.14254748, 15.75132368, 15.21793482, 14.99139522, 15.12509399,\n",
       "       15.29553565, 15.45798927, 14.91354668, 14.92178243, 15.08423605,\n",
       "       15.3263247 , 15.04855639, 15.11816918, 14.90109505, 15.22592285,\n",
       "       15.11816918, 14.77432109, 14.98247661, 15.1297832 , 15.07262203,\n",
       "       15.14223483, 15.1297832 , 15.07262203, 15.13670801, 15.42593559,\n",
       "       14.92178243, 14.90109505, 14.92178243, 15.13670801, 15.44825471,\n",
       "       14.92178243, 15.08423605, 14.92178243, 15.44825471, 15.29000882,\n",
       "       15.29000882, 14.92178243, 15.70398555, 15.19198972, 15.06100802,\n",
       "       15.41916553, 15.0974818 , 15.04855639, 14.92178243, 14.98247661,\n",
       "       14.92178243, 15.07846151, 15.33121531, 14.91354668, 15.42923442,\n",
       "       15.00300924, 15.04855639, 14.98247661, 15.36446557, 15.28782926,\n",
       "       15.05193466, 15.11816918, 14.92178243, 15.42923442, 15.00300924,\n",
       "       14.84393388, 14.77432109, 15.15631005, 15.04855639, 15.21116476,\n",
       "       14.8555479 , 15.04032064, 15.06100802, 15.08236914, 14.95168755,\n",
       "       15.15384885, 15.00884871, 15.22592285, 14.99139522, 15.28062281,\n",
       "       15.00300924, 15.2567119 , 15.02953609, 15.12509399, 14.98247661,\n",
       "       15.04855639, 14.92178243, 15.00300924, 15.23769161, 15.07846151,\n",
       "       15.14860367, 15.36392224, 14.92178243, 14.97070784, 15.28062281,\n",
       "       14.99139522, 15.06100802, 14.77432109, 15.04855639, 15.36184962,\n",
       "       14.92178243, 14.98232186, 15.11816918, 15.23753686, 14.92178243,\n",
       "       14.98232186, 14.90109505, 15.05193466, 14.91354668, 14.90109505,\n",
       "       15.11816918, 14.77432109, 14.92178243, 14.99139522, 15.04855639,\n",
       "       15.17533034, 15.05193466, 15.1468481 , 14.99477349, 15.23753686,\n",
       "       15.06100802, 14.92178243, 15.1297832 , 14.92178243, 14.92178243,\n",
       "       15.11816918, 15.02016262, 14.92178243, 14.77432109, 15.07262203,\n",
       "       14.99139522, 15.12993794, 15.2567119 , 14.77432109, 14.92178243,\n",
       "       14.92178243, 15.37676246, 14.77432109, 14.77432109, 15.18778198,\n",
       "       15.04855639, 14.97070784, 15.15631005, 14.97461548, 15.00300924,\n",
       "       15.04085   , 15.04855639, 14.92178243, 14.77432109, 15.18778198,\n",
       "       15.18778198, 14.92178243, 14.92178243, 14.92178243, 14.95168755,\n",
       "       14.77432109, 15.15631005, 14.93884733, 15.11617538, 14.77432109,\n",
       "       15.04855639, 15.04855639, 15.00300924, 14.90109505, 15.04855639,\n",
       "       14.92178243, 14.8555479 , 15.19198972, 14.84393388, 14.92178243,\n",
       "       14.91354668, 15.04855639])"
      ]
     },
     "execution_count": 46,
     "metadata": {},
     "output_type": "execute_result"
    }
   ],
   "source": [
    "results_3.predict()"
   ]
  },
  {
   "cell_type": "code",
   "execution_count": 47,
   "id": "0f1c98c3",
   "metadata": {},
   "outputs": [
    {
     "data": {
      "text/plain": [
       "15     15.388376\n",
       "16     15.698459\n",
       "17     15.811939\n",
       "18     15.677459\n",
       "19     15.541250\n",
       "         ...    \n",
       "540    15.191990\n",
       "541    14.843934\n",
       "542    14.921782\n",
       "543    14.913547\n",
       "544    15.048556\n",
       "Length: 517, dtype: float64"
      ]
     },
     "execution_count": 47,
     "metadata": {},
     "output_type": "execute_result"
    }
   ],
   "source": [
    "y_pred=results_3.predict(df3)\n",
    "y_pred"
   ]
  },
  {
   "cell_type": "markdown",
   "id": "6e65c9f2",
   "metadata": {},
   "source": [
    "### Comparemos las predicciones a los valores reales de Y"
   ]
  },
  {
   "cell_type": "code",
   "execution_count": 48,
   "id": "84f5ce1c",
   "metadata": {},
   "outputs": [
    {
     "data": {
      "text/plain": [
       "15     16.023785\n",
       "16     16.023785\n",
       "17     16.008281\n",
       "18     16.000438\n",
       "19     15.996493\n",
       "         ...    \n",
       "540    14.414347\n",
       "541    14.384879\n",
       "542    14.375126\n",
       "543    14.375126\n",
       "544    14.375126\n",
       "Name: log_precio, Length: 517, dtype: float64"
      ]
     },
     "execution_count": 48,
     "metadata": {},
     "output_type": "execute_result"
    }
   ],
   "source": [
    "df.log_precio"
   ]
  },
  {
   "cell_type": "markdown",
   "id": "5acc7717",
   "metadata": {},
   "source": [
    "También podríamos darle al modelo un vector para que prediga un sólo valor:\n"
   ]
  },
  {
   "cell_type": "markdown",
   "id": "19aa63ce",
   "metadata": {},
   "source": [
    "[ 'pisos', 'carretera', 'cuarto_huespedes', 'sotano', 'calefaccion', 'AC', 'parqueadero', 'periferia', 'amoblado']"
   ]
  },
  {
   "cell_type": "code",
   "execution_count": 49,
   "id": "7fa485d3",
   "metadata": {},
   "outputs": [
    {
     "data": {
      "text/plain": [
       "0    16.128985\n",
       "dtype: float64"
      ]
     },
     "execution_count": 49,
     "metadata": {},
     "output_type": "execute_result"
    }
   ],
   "source": [
    "results_3.predict({'pisos':3,'carretera':1, 'cuarto_huespedes':1, 'sotano':1, 'calefaccion':1, 'AC':1, 'parqueadero':1,\n",
    "                  'periferia':1, 'amoblado':0})"
   ]
  },
  {
   "cell_type": "markdown",
   "id": "079c3552",
   "metadata": {},
   "source": [
    "Ejercicio:\n",
    "Cuánto variaría el precio si el bien inmueble fuese amoblado, con los mismos datos?"
   ]
  },
  {
   "cell_type": "markdown",
   "id": "d1f6c17d",
   "metadata": {},
   "source": [
    " "
   ]
  },
  {
   "cell_type": "markdown",
   "id": "cb7f5ae6",
   "metadata": {},
   "source": [
    " "
   ]
  }
 ],
 "metadata": {
  "kernelspec": {
   "display_name": "Python 3 (ipykernel)",
   "language": "python",
   "name": "python3"
  },
  "language_info": {
   "codemirror_mode": {
    "name": "ipython",
    "version": 3
   },
   "file_extension": ".py",
   "mimetype": "text/x-python",
   "name": "python",
   "nbconvert_exporter": "python",
   "pygments_lexer": "ipython3",
   "version": "3.9.7"
  }
 },
 "nbformat": 4,
 "nbformat_minor": 5
}
