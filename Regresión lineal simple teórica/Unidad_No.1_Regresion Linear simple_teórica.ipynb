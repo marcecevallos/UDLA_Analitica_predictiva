{
 "cells": [
  {
   "cell_type": "markdown",
   "id": "840324c4",
   "metadata": {},
   "source": [
    "# La Regresión Lineal Simple"
   ]
  },
  {
   "cell_type": "markdown",
   "id": "4f3f5aed",
   "metadata": {},
   "source": [
    "La regresión es una herramienta estadística para analizar las relaciones entre variables. Específicamente, entre una variable dependiente (Y) y una variable independiente (X). A este tipo de variables también se las conoce como variable respuesta y variable explicativa, indistintamente.\n",
    "\n",
    "Como es una herramienta estadística, hay ciertos conceptos que vamos a manejar a lo largo del curso y que nos van a ser de ayuda para entender a esta herramientra. Entre ellos: las medidas de tendencia central y estadísticas de resumen como el promedio."
   ]
  },
  {
   "cell_type": "markdown",
   "id": "4e7919e6",
   "metadata": {},
   "source": [
    "Como su nombre lo indica, la Regresión Lineal es una técnica que traza la mejor _línea de tendencia_ entre los puntos de datos visualizados a través de gráficos de dispersión, que es una herramienta gráfica que nos permite realizar un análisis entre pares de variables *numéricas*. En Python este gráfico se lo puede obtener por pyplot o su versión más moderna por seaborn.\n",
    "\n",
    "Para refrescar un poco los conocimientos, importemos el module o librería de numpy para generar rango de datos, y matplotlib para el gráfico de dispersión.\n",
    "\n",
    "    "
   ]
  },
  {
   "cell_type": "code",
   "execution_count": 4,
   "id": "c77280c3",
   "metadata": {},
   "outputs": [],
   "source": [
    "import numpy as np\n",
    "import matplotlib.pyplot as plt"
   ]
  },
  {
   "cell_type": "code",
   "execution_count": 5,
   "id": "38cb2b13",
   "metadata": {},
   "outputs": [
    {
     "name": "stdout",
     "output_type": "stream",
     "text": [
      "[0, 1, 2, 3, 4, 5, 6, 7, 8, 9, 10, 11, 12, 13, 14, 15, 16, 17, 18, 19, 20, 21, 22, 23, 24, 25, 26, 27, 28, 29, 30, 31, 32, 33, 34, 35, 36, 37, 38, 39, 40, 41, 42, 43, 44, 45, 46, 47, 48, 49]\n"
     ]
    }
   ],
   "source": [
    "#x\n",
    "print(list(range(50)))"
   ]
  },
  {
   "cell_type": "code",
   "execution_count": 6,
   "id": "b5412259",
   "metadata": {},
   "outputs": [
    {
     "name": "stdout",
     "output_type": "stream",
     "text": [
      "[10, 13, 9, 8, 16, 21, 28, 17, 27, 10, 34, 30, 15, 23, 27, 30, 25, 19, 34, 33, 34, 47, 37, 30, 25, 40, 44, 39, 37, 51, 56, 47, 51, 47, 55, 48, 55, 60, 55, 67, 67, 43, 71, 50, 52, 52, 67, 47, 66, 71]\n"
     ]
    }
   ],
   "source": [
    "#y\n",
    "print(list(range(50) + np.random.randint(0,30,50,)))"
   ]
  },
  {
   "cell_type": "code",
   "execution_count": 7,
   "id": "919e4976",
   "metadata": {},
   "outputs": [],
   "source": [
    "# Scatterplot teórico\n",
    "# Asignamos a objetos x y y nuesta lista de números\n",
    "x = range(50)\n",
    "y = range(50) + np.random.randint(0,30,50)"
   ]
  },
  {
   "cell_type": "code",
   "execution_count": 8,
   "id": "ee3f078d",
   "metadata": {},
   "outputs": [
    {
     "data": {
      "image/png": "[encoded data removed]",
      "text/plain": [
       "<Figure size 432x288 with 1 Axes>"
      ]
     },
     "metadata": {
      "needs_background": "light"
     },
     "output_type": "display_data"
    }
   ],
   "source": [
    "# Grafiquemos \n",
    "plt.scatter(x, y)\n",
    "plt.title('Scatterplot teórico')\n",
    "plt.xlabel('X - variable independiente')\n",
    "plt.ylabel('Y - variable dependiente')\n",
    "plt.show()"
   ]
  },
  {
   "cell_type": "markdown",
   "id": "ca587ea4",
   "metadata": {},
   "source": [
    "Del gráfico vemos que los puntos siguen una tendencia creciente. Es decir, que a medida que los valores de \"X\" se incrementan, vemos que los valores de \"Y\" lo hacen también.\n",
    "\n",
    "Los gráficos de dispersión entre dos variables numéricas trabajan con el concepto de correlación tras cámaras, es por ello que estamos usando términos como tendencia creciente o grado de asociación lineal fuerte."
   ]
  },
  {
   "cell_type": "markdown",
   "id": "bfacd0d7",
   "metadata": {},
   "source": [
    "Entonces, qué es la correlación entre dos variables numéricas?\n",
    "\n",
    "Es el concepto que ayuda a ejemplificar lo que estamos observando en la imagen por medio de una prueba estadística (Pearson) que mide el grado de asociación lineal o de relación estadística entre dos variables contínuas.\n",
    "\n",
    "El coeficiente de Pearson es matemáticamente representado por la siguiente fórmula:"
   ]
  },
  {
   "cell_type": "markdown",
   "id": "83cb5bd7",
   "metadata": {},
   "source": [
    "$$\\rho_{X,Y} = \\frac{\\sigma_{XY}}{\\sigma_X \\sigma_Y}$$\n"
   ]
  },
  {
   "cell_type": "markdown",
   "id": "1b5755af",
   "metadata": {},
   "source": [
    "Donde el numerador calcula la covarianza entre \"X\" y \"Y\" y el denominador representa el producto entre la desviación estándar de \"X\" y la desviacón estándar de \"Y\"\n",
    "\n",
    "    "
   ]
  },
  {
   "cell_type": "markdown",
   "id": "c291eb88",
   "metadata": {},
   "source": [
    "_Nota No.1: Correlación no es sinónimo de causalidad, pero sí representa un patrón observable en la data_"
   ]
  },
  {
   "cell_type": "markdown",
   "id": "972dded3",
   "metadata": {},
   "source": [
    "_Nota No.2: Recordemos que para que una correlación se considere alta debe estar entre los siguientes rangos:_"
   ]
  },
  {
   "cell_type": "markdown",
   "id": "71621c22",
   "metadata": {},
   "source": [
    "- 0:                 No existe grado de asociación lineal entre las variables\n",
    "\n",
    "- >0     a <0.25:   Asociación lineal no considerable o despreciable\n",
    "\n",
    "- >0.25 a <0.50:    Grado de correlación débil\n",
    "\n",
    "- >0.50 a <0.75:    Grado de asociación lineal moderado\n",
    "\n",
    "- >0.75 a <1   :    Asociación lineal muy fuerte\n",
    "\n",
    "- 1            :    Correlación/asociación lineal perfecta    \n"
   ]
  },
  {
   "cell_type": "markdown",
   "id": "a15e4329",
   "metadata": {},
   "source": [
    "Regresando a nuestra temática de interés, habíamos dicho que la Regresión lineal es la mejor línea que minimiza la distancia en esa nube de puntos entre \"X\" y \"Y\".\n",
    "\n",
    "Esta línea, al ser una línea recta tiene ciertas propiedades y características definidas como:"
   ]
  },
  {
   "cell_type": "markdown",
   "id": "5df4e162",
   "metadata": {},
   "source": [
    "$${\\beta_0+\\beta_{1}X} $$"
   ]
  },
  {
   "cell_type": "markdown",
   "id": "19fe3b4c",
   "metadata": {},
   "source": [
    "Donde los términos β0 y β1 representan respectivamente el intercepto y la pendiente del modelo lineal y son también conocidos como los coeficientes o parámetros del modelo.\n",
    "\n",
    "A más detalle, el intercepto es el valor que tomará la variable dependiente \"Y\", cuando la variable independiente \"X\" sea 0, por lo tanto es el punto donde la recta de regresión cruzará el eje vertical.\n",
    "\n",
    "Por su parte la pendiente es la medida de inclinación de la recta, y es clave en la interpretación de la Regresión Lineal dado que es la razón de cambio de la variación de la variable dependiente, en función de la variación de la variable independiente.\n",
    "En otras palabras, y si se tratase de una relación creciente, la pendiente será el valor en el que se incremente \"Y\" cuando \"X\" se incremente en una unidad."
   ]
  },
  {
   "cell_type": "markdown",
   "id": "0d9b88be",
   "metadata": {},
   "source": [
    "Es así que combinando los conceptos anteriores, llegamos a la definición matemática de la Regresión Lineal:"
   ]
  },
  {
   "cell_type": "markdown",
   "id": "441a7294",
   "metadata": {},
   "source": [
    "$$\\hat Y=\\underbrace{\\hat \\beta_0+\\hat \\beta_{1}X}_{modelo}+\\underbrace{\\epsilon}_{error} $$"
   ]
  },
  {
   "cell_type": "markdown",
   "id": "0c9ab751",
   "metadata": {},
   "source": [
    "Donde el lado izquierdo de la ecuación representa la estimación de nuestra variable dependiente \"Y\" por el método de Mínimos Cuadrados Ordinarios-MCO y los términos de la mano derecha representan a nuestra línea recta más un error de estimación que es la diferencia entre el valor observado o real de \"Y\" y el valor estimado de \"Y\" por la fórmula precedente.\n",
    "\n",
    "El error, también es una variable aleatoria que recoge la influencia de variables explicativas no incluídas en el modelo que sigue una distribución conjunta normal, con media cero y de desviación estándar desconocida.\n"
   ]
  },
  {
   "cell_type": "markdown",
   "id": "d1f6e52e",
   "metadata": {},
   "source": [
    "_Nota No.3: La diferencia entre regresión y correlación, básicamente es que la primera se expresa en una relación funcional por una ecuación y tiene un uso predictivo, mientras que la correlación es un valor que mide la intensidad o grado de asociación lineal entre dos variables._"
   ]
  },
  {
   "cell_type": "markdown",
   "id": "b07f1ff7",
   "metadata": {},
   "source": [
    "## El Método de Mínimo Cuadrados Ordinarios-MCO"
   ]
  },
  {
   "cell_type": "markdown",
   "id": "cb6696ba",
   "metadata": {},
   "source": [
    "El método de los Mínimos Cuadrados Ordinarios es el método aplicado a la Regresión Lineal, el cual calcula una recta de Regresión Lineal que minimiza los residuos, o las diferencias entre los valores reales y los estimados por la recta. \n",
    "Matemáticamente  es expresado como:"
   ]
  },
  {
   "cell_type": "markdown",
   "id": "514f2683",
   "metadata": {},
   "source": [
    "$$\\min{\\sum}{\\epsilon^2}$$"
   ]
  },
  {
   "cell_type": "markdown",
   "id": "9dc51e72",
   "metadata": {},
   "source": [
    "Esta minimización da como resultado los estimadores de β0 y β1 representados con el gorrito:"
   ]
  },
  {
   "cell_type": "markdown",
   "id": "278f21e6",
   "metadata": {},
   "source": [
    "$$\\hat{\\beta}_0 = \\dfrac{\\sum x_i y_i-n \\sum x_i y_i}{(\\sum x_i^2)- n \\sum x_i^2} $$"
   ]
  },
  {
   "cell_type": "markdown",
   "id": "d92c6d60",
   "metadata": {},
   "source": [
    "$$\\hat{\\beta}_1 = {\\bar Y-\\hat{\\beta}_0}{\\bar X} $$"
   ]
  },
  {
   "cell_type": "markdown",
   "id": "94d54532",
   "metadata": {},
   "source": [
    "Conociendo estas dos expresiones, podemos calcularla media de las variables \"X\" y \"Y\", y así calcular a los estimadores para encontrar la recta de la Regresión Lineal en Python!"
   ]
  },
  {
   "cell_type": "code",
   "execution_count": 9,
   "id": "d95ed371",
   "metadata": {},
   "outputs": [],
   "source": [
    "#Lo que necesitamos de acuerdo a las fórmulas\n",
    "\n",
    "# n, o la longitud de nuestros datos\n",
    "n                = len(x)"
   ]
  },
  {
   "cell_type": "code",
   "execution_count": 10,
   "id": "8c40cccf",
   "metadata": {},
   "outputs": [],
   "source": [
    "# Listas a arrays para poder multiplicarlos secuencialmente\n",
    "x1               = np.array(x)\n",
    "y1               = np.array(y)"
   ]
  },
  {
   "cell_type": "code",
   "execution_count": 11,
   "id": "7133a49b",
   "metadata": {},
   "outputs": [],
   "source": [
    "# Sumatorias\n",
    "sum_x            = sum(x1)\n",
    "sum_y            = sum(y1)\n",
    "\n",
    "sum_x_cuadrado   = sum(x1*x1)\n",
    "sum_y_cuadrado   = sum(y1*y1)\n",
    "\n",
    "sum_xy           = sum(x1*y1)  "
   ]
  },
  {
   "cell_type": "code",
   "execution_count": 12,
   "id": "65f8057f",
   "metadata": {},
   "outputs": [],
   "source": [
    "# Promedios\n",
    "prom_x           = sum_x/n\n",
    "prom_y           = sum_y/n"
   ]
  },
  {
   "cell_type": "markdown",
   "id": "ee986694",
   "metadata": {},
   "source": [
    "#### Estimadores"
   ]
  },
  {
   "cell_type": "code",
   "execution_count": 13,
   "id": "bb258e45",
   "metadata": {},
   "outputs": [],
   "source": [
    "# Estimadores\n",
    "\n",
    "beta_1           = (sum_x * sum_y - n * sum_xy) / (sum_x**2 - n * sum_x_cuadrado)\n",
    "\n",
    "beta_0           = prom_y - beta_1 * prom_x"
   ]
  },
  {
   "cell_type": "code",
   "execution_count": 14,
   "id": "ced4a010",
   "metadata": {},
   "outputs": [
    {
     "name": "stdout",
     "output_type": "stream",
     "text": [
      "15.41\n",
      "0.98\n"
     ]
    }
   ],
   "source": [
    "print(beta_0.round(2))\n",
    "print(beta_1.round(2))"
   ]
  },
  {
   "cell_type": "markdown",
   "id": "019bce8b",
   "metadata": {},
   "source": [
    "Hemos manualmente obtenido la recta de regresión mediante los estimadores de β0 y β1, aplicando el Método de Mínimo Cuadrados Ordinarios.\n",
    "\n",
    "Para interpretar los coeficientes, debemos tener en cuenta las definiciones previas, es así que en el presente caso teórico la intuición de este modelo vendría dado por:\n",
    "- Nuestro β0 o intercepto indica el valor que tomará la variable dependiente \"Y\", cuando la variable independiente \"X\" sea 0. En este caso, cuando \"X\" es 0, nuestra variable dependiente tiene un valor de 15.38 unidades\n",
    "\n",
    "\n",
    "- Nuestro β1 o pendiente indica que \"Y\" se incrementará en menos de una unidad cuando \"X\" se incremente en una unidad.\n",
    "\n",
    "(Hablamos de incrementos porque la gráfica tiene una tendencia creciente y esta es respaldada por el signo del estimador)"
   ]
  },
  {
   "cell_type": "markdown",
   "id": "5948b3a3",
   "metadata": {},
   "source": [
    "#### Grafiquemos los resultados"
   ]
  },
  {
   "cell_type": "code",
   "execution_count": 15,
   "id": "ee53595c",
   "metadata": {},
   "outputs": [
    {
     "data": {
      "text/plain": [
       "<matplotlib.legend.Legend at 0x22563c0da30>"
      ]
     },
     "execution_count": 15,
     "metadata": {},
     "output_type": "execute_result"
    },
    {
     "data": {
      "image/png": "[encoded data removed]",
      "text/plain": [
       "<Figure size 432x288 with 1 Axes>"
      ]
     },
     "metadata": {
      "needs_background": "light"
     },
     "output_type": "display_data"
    }
   ],
   "source": [
    "plt.plot(x, y , 'o', label='Datos')\n",
    "plt.plot(x, beta_1 * x + beta_0, label='Ajuste')\n",
    "plt.xlabel('x')\n",
    "plt.ylabel('y')\n",
    "plt.legend()"
   ]
  },
  {
   "cell_type": "markdown",
   "id": "b34bfeab",
   "metadata": {},
   "source": [
    "#### Comparemos los resultados con la librería mas avanzada Seaborn, la cual permite calcular automáticamente la Recta de Regresión Lineal"
   ]
  },
  {
   "cell_type": "code",
   "execution_count": 16,
   "id": "4181cea9",
   "metadata": {},
   "outputs": [],
   "source": [
    "import seaborn as sns\n",
    "\n",
    "import warnings\n",
    "warnings.filterwarnings(\"ignore\")"
   ]
  },
  {
   "cell_type": "code",
   "execution_count": 17,
   "id": "810ee8bf",
   "metadata": {},
   "outputs": [
    {
     "data": {
      "text/plain": [
       "<AxesSubplot:>"
      ]
     },
     "execution_count": 17,
     "metadata": {},
     "output_type": "execute_result"
    },
    {
     "data": {
      "image/png": "[encoded data removed]",
      "text/plain": [
       "<Figure size 432x288 with 1 Axes>"
      ]
     },
     "metadata": {
      "needs_background": "light"
     },
     "output_type": "display_data"
    }
   ],
   "source": [
    "sns.regplot(x1,y1,\n",
    "           line_kws={'color': 'orange'})"
   ]
  },
  {
   "cell_type": "markdown",
   "id": "9633e85a",
   "metadata": {},
   "source": [
    "Son los mismos!"
   ]
  },
  {
   "cell_type": "markdown",
   "id": "c1c32f0d",
   "metadata": {},
   "source": [
    "# Supuestos del modelo de Regresión Lineal"
   ]
  },
  {
   "cell_type": "markdown",
   "id": "e2cd5b08",
   "metadata": {},
   "source": [
    "Como el modelo de Regresión Lineal tiene como objetivo describir mediante la mejor recta, aquella relación lineal que existe entre la variable dependiente y la variable independiente existen 5 supuestos para garantizar que los estimadores sean las mejores estimaciones lineales no sesgadas o BLUE en inglés (Best Linear Unbiased Estimates) \n"
   ]
  },
  {
   "cell_type": "markdown",
   "id": "d56dfb0f",
   "metadata": {},
   "source": [
    "_Nota No.4: Que los estimadores sean insesgados significa que el valor esperado de los estimadores se aproximan al valor real: E(β*) = β) cuando los supuestos 1 al 4 se cumplen. La heterocedasticidad no tiene efecto sobre el sesgo o la consistencia de los estimadores de MCO, pero de presentarse, significa que las estimaciones de errores estándar son incorrectas._"
   ]
  },
  {
   "cell_type": "markdown",
   "id": "164bbda7",
   "metadata": {},
   "source": [
    "### 1. Linealidad en los parámetros"
   ]
  },
  {
   "cell_type": "markdown",
   "id": "e0992750",
   "metadata": {},
   "source": [
    "La Regresión Lineal necesita que la relación entre las variables independientes y dependientes sea lineal, es decir, que un cambio unitario en \"X\" tenga el mismo efecto sobre \"Y\" con independencia del valor inicial de \"X\"."
   ]
  },
  {
   "cell_type": "markdown",
   "id": "6f85b8ff",
   "metadata": {},
   "source": [
    "#### Formas de verificación"
   ]
  },
  {
   "cell_type": "markdown",
   "id": "8312e6da",
   "metadata": {},
   "source": [
    "- El gráfico de dispersión es el acercamiento más sencillo a este supuesto, ya que permite observar gráficamente si existe una relación lineal entre las dos variables. Si la nube de puntos podría caer a lo largo de una línea recta, entonces existe algún tipo de relación lineal entre las dos variables y esta suposición se cumple.\n",
    "\n",
    "- Otra forma de verificación es mediante el gráfico de residuos."
   ]
  },
  {
   "cell_type": "markdown",
   "id": "66146166",
   "metadata": {},
   "source": [
    "### 2. Muestreo aleatorio: Los datos observados representan una muestra aleatoria de la población"
   ]
  },
  {
   "cell_type": "markdown",
   "id": "2860decc",
   "metadata": {},
   "source": [
    "Este supuesto busca que que la muestra aleatoria de la población sea una fuente confiable para retornar estimadores BLUE. En sí lo que se busca es que no todos los valores muestrales de \"X\" sean iguales.\n"
   ]
  },
  {
   "cell_type": "markdown",
   "id": "0b6f43d5",
   "metadata": {},
   "source": [
    "#### Posibles soluciones"
   ]
  },
  {
   "cell_type": "markdown",
   "id": "3855c75d",
   "metadata": {},
   "source": [
    "Para dar solución a este supuesto, lo mejor es verificar las fuentes de muestreo y realizar puebas de estadísticas de resumen antes de iniciar el análisis de regresión."
   ]
  },
  {
   "cell_type": "markdown",
   "id": "19d12b49",
   "metadata": {},
   "source": [
    "### 3. No colinealidad perfecta entre las covariables  "
   ]
  },
  {
   "cell_type": "markdown",
   "id": "a4438675",
   "metadata": {},
   "source": [
    "Aunque encontrar multicolinealidad perfecta es bastante extraño, lo que generalmente implica es que existe duplicidad de variables explicativas en el modelo. También puede ser el caso que exista una segunda variable derivada de la primera más una constante. \n",
    "\n",
    "El problema de la multicolinearidad perfecta es que implica estimadores indeterminados y una varianza infinita de los estimadores."
   ]
  },
  {
   "cell_type": "markdown",
   "id": "a957b731",
   "metadata": {},
   "source": [
    "$$ var \\hat{\\beta} = inf $$"
   ]
  },
  {
   "cell_type": "markdown",
   "id": "0e465630",
   "metadata": {},
   "source": [
    "Lo cierto es que es más común en la práctica encontrarnos con situaciones donde exista multicolinearidad no perfecta que provoque errores elevados, y de acuerdo con (Gujarati, 2007, p.329) estadísticos pequeños nos llevan a no rechazar la hpótesis nula, lo que incrementaría la probabilidad de cometer errores de tipo II.\n",
    "\n",
    "\n",
    "En sí el problema de violar este supuesto es que obtiene estimadores menos precisos y muy sensibles a cambios en los datos."
   ]
  },
  {
   "cell_type": "markdown",
   "id": "860fb1b2",
   "metadata": {},
   "source": [
    "#### Formas de verificación"
   ]
  },
  {
   "cell_type": "markdown",
   "id": "689f182d",
   "metadata": {},
   "source": [
    "Existe una herramienta llamada Factor de inflación de la varianza-VIF la cual devuelve un valor conforme al nivel de asociación de las variables predictoras ( mide la correlación y la fuerza de la correlación ). \n",
    "\n",
    "Los rangos a tomar en cuenta del VIF son los siguientes:"
   ]
  },
  {
   "cell_type": "markdown",
   "id": "f552b8e3",
   "metadata": {},
   "source": [
    "$$ \\textrm{VIF}_i = \\frac{1}{1-R_i^2}$$"
   ]
  },
  {
   "cell_type": "markdown",
   "id": "598d6c3b",
   "metadata": {},
   "source": [
    "- Si el VIF es 1, no existe entre las variables analizadas\n",
    "\n",
    "- Si el VIF es >1 y <5, la correlación es moderada entre entre las variables analizadas, pero no constituye a menudo una transgresión grave para requerir atención\n",
    "\n",
    "- Si el VIF es >5, la correlación es potencialmente severa entre entre entre las variables analizadasuna por lo que las estimaciones de los coeficientes y los valores p en el resultado de la regresión probablemente no sean confiables"
   ]
  },
  {
   "cell_type": "markdown",
   "id": "b29ccb7f",
   "metadata": {},
   "source": [
    "#### Posibles soluciones"
   ]
  },
  {
   "cell_type": "markdown",
   "id": "effe9bff",
   "metadata": {},
   "source": [
    "- Verificar que no exista duplicidad entre variables\n",
    "\n",
    "- Retirar uno de los pares de variables que presente el mayor VIF e ir trabajando uno a uno hasta que el VIF se estabilice"
   ]
  },
  {
   "cell_type": "markdown",
   "id": "1b202673",
   "metadata": {},
   "source": [
    "### 4. La media de error condicional es cero (es decir, E(µ|X) = 0) "
   ]
  },
  {
   "cell_type": "markdown",
   "id": "7b41e3b5",
   "metadata": {},
   "source": [
    "Se espera que el modelo de regresión presente la media del error o de los residuos de 0. Esto tiene una implicación más fácil de comprender y se relaciona con el supuesto de normalidad en los residuos. Recordemos que una de las características de la distribución normal es que la media es 0."
   ]
  },
  {
   "cell_type": "markdown",
   "id": "4bf1c7a8",
   "metadata": {},
   "source": [
    "#### 4.1 Normalidad en los residuos"
   ]
  },
  {
   "cell_type": "markdown",
   "id": "dba85375",
   "metadata": {},
   "source": [
    "Para que exista normalidad en los residuos, y así garantizar que los resiuduos se comporten como una distribución normal, los residuos deben tender a cero. "
   ]
  },
  {
   "cell_type": "markdown",
   "id": "c7ebafb7",
   "metadata": {},
   "source": [
    "#### Formas de verificación"
   ]
  },
  {
   "cell_type": "markdown",
   "id": "6ad8a639",
   "metadata": {},
   "source": [
    "Existen formas gráficas y estadísticas de verificar este supuesto. En las fórmas gráficas, la más sencilla y la que utilizaremos en este curso son los gráficos QQ (o gráfico de cuantiles-cuantiles). \n",
    "Este gráfico permite verificar normalidad, siempre y cuando los puntos del gráfico formen aproximadamente una línea diagonal recta."
   ]
  },
  {
   "attachments": {
    "image-6.png": {
     "image/png": "[encoded data removed]"
    }
   },
   "cell_type": "markdown",
   "id": "2f2711d7",
   "metadata": {},
   "source": [
    "![image-6.png](attachment:image-6.png)"
   ]
  },
  {
   "cell_type": "markdown",
   "id": "b2e212fd",
   "metadata": {},
   "source": [
    "_Fuente: STHDA_"
   ]
  },
  {
   "cell_type": "markdown",
   "id": "1a23c824",
   "metadata": {},
   "source": [
    "Entre las formas estadísticas, están pruebas formales como Shapiro-Wilk, Kolmogorov-Smironov, Jarque-Barre o D’Agostino-Pearson. \n",
    "Sin embargo, estas pruebas son sensibles a los tamaños de muestra grandes, por lo que a menudo concluyen no normalidad en los residuos cuando el tamaño de la muestra es grande, razón por la cual es más fácil usar métodos gráficos para verificar esta suposición."
   ]
  },
  {
   "cell_type": "markdown",
   "id": "d41b1d6c",
   "metadata": {},
   "source": [
    "#### Posibles soluciones"
   ]
  },
  {
   "cell_type": "markdown",
   "id": "17f701f7",
   "metadata": {},
   "source": [
    "Si se viola el supuesto de normalidad, se tiene algunas opciones:\n",
    "\n",
    "- Verificar que los valores atípicos no tengan un gran impacto en la distribución. De existir, debemos asegurarnos que sean valores reales y que no sean errores de imputación de datos.\n",
    "\n",
    "- Otro recurso también es aplicar una transformación no lineal a la variable independiente y / o dependiente."
   ]
  },
  {
   "cell_type": "markdown",
   "id": "6ebd6fbf",
   "metadata": {},
   "source": [
    "### 5. Homocedasticidad (varianza constante) de los errores"
   ]
  },
  {
   "cell_type": "markdown",
   "id": "397e230f",
   "metadata": {},
   "source": [
    "Cuanto mayor sea la varianza del error (σ2 ) mayor será la varianza de nuestro estimador de la pendiente β1, por lo que si los datos variaran mucho, la predicción del futuro no será acertada.\n",
    "Cuando se manejan modelos con la variable de tiempo, lo que se busca es que los residuos no crezcan constantemente a medida que pasa el tiempo.\n",
    "\n",
    "Violar este supuesto deviene en una pérdida en la precisión de los parámetros dado que se vuelve más probable que un modelo de regresión declare que un término es estadísticamente significativo, cuando en realidad no lo es, y si bien el estimador de MCO sigue siendo insesgado, este deja de ser eficiente."
   ]
  },
  {
   "cell_type": "markdown",
   "id": "b2e54f88",
   "metadata": {},
   "source": [
    "#### Formas de verificación"
   ]
  },
  {
   "cell_type": "markdown",
   "id": "eaa36bd3",
   "metadata": {},
   "source": [
    "La heterocedasticidad en los errores puede ser producto de valores atípicos, formas funcionales o asimetrías en la distribución de alguna variable."
   ]
  },
  {
   "cell_type": "markdown",
   "id": "99db1069",
   "metadata": {},
   "source": [
    "La forma más sencilla de detectar heterocedasticidad es creando un valor ajustado frente a una gráfica de residuos. De existir heterocedasticidad, los residuos se dispersarán mucho más a medida que los valores ajustados aumenten creando una imagen de cono:"
   ]
  },
  {
   "attachments": {
    "image-6.png": {
     "image/png": "[encoded data removed]"
    }
   },
   "cell_type": "markdown",
   "id": "4985a1a9",
   "metadata": {},
   "source": [
    "![image-6.png](attachment:image-6.png)"
   ]
  },
  {
   "cell_type": "markdown",
   "id": "29f5d798",
   "metadata": {},
   "source": [
    "_Fuente: Medium: Heteroscedasticity — Nothing but another statistical concept_"
   ]
  },
  {
   "cell_type": "markdown",
   "id": "3dddceac",
   "metadata": {},
   "source": [
    "#### Posibles soluciones"
   ]
  },
  {
   "cell_type": "markdown",
   "id": "e52fbf56",
   "metadata": {},
   "source": [
    "- En algunas ocasiones, para corregir la heterocedasticidad se puede recurrir a transformaciones logarírmicas en las variables. Una transformación común es simplemente tomar el logaritmo de la variable dependiente, lo que a menudo hace que desaparezca la heterocedasticidad \n",
    "\n",
    "- Otra técnica es redefinir a la variable dependiente creando una tasa, así, en lugar de medir la cantidad de una variable podemos estimar la cantidad de bienes por persona o por otro criterio\n",
    "\n"
   ]
  },
  {
   "cell_type": "markdown",
   "id": "e726666e",
   "metadata": {},
   "source": [
    "Si al finalizar el análisis de los supuestos del modelo, vemos que no se cumplen algunas de sus supuestos básicos, podemos realizar transformaciones en los datos, siendo las más habituales las de la familia de Box-Cox."
   ]
  },
  {
   "cell_type": "markdown",
   "id": "f4949b0f",
   "metadata": {},
   "source": [
    "## La Regresion Lineal en Python por Statsmodel"
   ]
  },
  {
   "cell_type": "markdown",
   "id": "83f319d5",
   "metadata": {},
   "source": [
    "Para correr un modelo de Regresión Lineal en Python tenemos varias opciones. Las tres más comunes son mediante las librerías de:\n",
    "\n",
    "    - statsmodels  (https://www.statsmodels.org/stable/user-guide.html)\n",
    "    \n",
    "    - scikit-learn (https://scikit-learn.org/stable/)\n",
    "    \n",
    "    - SciPy        (https://scipy.org/) \n",
    "    \n",
    "A lo largo de este curso aplicaremos las dos primeras, y el día de hoy concretamente el module de statsmodel dado ya que ofrece una serie de funcionalidades que no se encuentran en modules como sklearn. Entre estas, la posibilidad de realizar las pruebas de los supuestos de la regresión."
   ]
  },
  {
   "cell_type": "markdown",
   "id": "0f4b94f4",
   "metadata": {},
   "source": [
    "Conforme a lo descrito en la referencia provista:\n",
    "    \"statsmodels  es un módulo de Python que proporciona clases y funciones para la estimación de muchos modelos estadísticos diferentes, así como para realizar pruebas estadísticas y exploración de datos estadísticos. El paquete se publica bajo la licencia BSD modificada de código abierto (3 cláusulas)\""
   ]
  },
  {
   "cell_type": "markdown",
   "id": "f0e5de05",
   "metadata": {},
   "source": [
    "Para importar el module, lo primero que debemos hacer si no lo tenemos instalada, es abrir el Anaconda prompt y escribir pip install statsmodel"
   ]
  },
  {
   "attachments": {
    "image.png": {
     "image/png": "[encoded data removed]"
    }
   },
   "cell_type": "markdown",
   "id": "9da56677",
   "metadata": {},
   "source": [
    "![image.png](attachment:image.png)"
   ]
  },
  {
   "cell_type": "markdown",
   "id": "5ad0d5cd",
   "metadata": {},
   "source": [
    "Una vez instalado el module vamos a llamarlo y darle el alias ols, o ordinary least square traducción del método introducido ee Mínimos Cuadrados Ordinarios-MCO\n",
    "\n",
    "Por ser su primera vez codificando una regresión, vamos a importar de statsmodel la formula api que es una herramienta que permite usar la notación de fórmula para estimar nuestra regresión lineal. Vale recalcar que esta notación ayuda a visualizar mejor los componentes por lo cual la usaremos en esta primera clase."
   ]
  },
  {
   "cell_type": "markdown",
   "id": "316aab29",
   "metadata": {},
   "source": [
    "La fórmula api de statsmodel permite seguir la notación antes revisada:"
   ]
  },
  {
   "cell_type": "markdown",
   "id": "42e5d0f5",
   "metadata": {},
   "source": [
    "$$\\hat Y=\\underbrace{\\hat  \\beta_0+\\hat  \\beta_{1}X}_{modelo}+\\underbrace{\\epsilon}_{error} $$"
   ]
  },
  {
   "cell_type": "markdown",
   "id": "11845148",
   "metadata": {},
   "source": [
    "Por lo que escribiremos a mano izquierda nuestra variable dependiente y en lugar del signo de igual utilizaremos la tilde (~).\n",
    "\n",
    "\n",
    "A mano derecha incluiremos las variables independientes y con la ayuda de Python obtendremos los estimadores de  β0 y β1 al igual que los residuos o error del modelo."
   ]
  },
  {
   "cell_type": "markdown",
   "id": "0f360492",
   "metadata": {},
   "source": [
    "Para ajustar el modelo usaremos el método .fit() al objeto del modelo creado.\n"
   ]
  },
  {
   "cell_type": "markdown",
   "id": "d23812e3",
   "metadata": {},
   "source": [
    "_Nota No.5: El método .print() nos dará una tabla de resumen con todos los estimadores, y valores que necesitamos, pero si quisiésemos imprimir la intersección y pendiente de nuestra línea de regresión, se puede utilizar el atributo params luego de haber aplicado el método .fit() a nuestro objeto._"
   ]
  },
  {
   "cell_type": "markdown",
   "id": "b70f8e39",
   "metadata": {},
   "source": [
    "Apliquemos lo que hemos aprendido hasta aquí a nuestro modelo teórico \"X\" y \"Y\". Para esto tenemos 2 opciones:\n",
    "\n",
    "- Primero, crear un dataframe a partir de nuestras variables teóricas y usar la notación de fórmula o,\n",
    "- Descartar la notación de fórmula y aplicar directamente la función de statsmodel sm.OLS\n",
    "\n",
    "Vamos a demostar las dos  :)"
   ]
  },
  {
   "cell_type": "markdown",
   "id": "ce82a1a5",
   "metadata": {},
   "source": [
    "Primero, y dado que no necesitamos hacer ningún cambio con nuestras variables, usaremos a \"X\" y \"Y\" en su estado natural e importaremos al módulo de la regresión de la siguiente forma:"
   ]
  },
  {
   "cell_type": "code",
   "execution_count": 18,
   "id": "13a0e7d5",
   "metadata": {},
   "outputs": [],
   "source": [
    "import statsmodels.api as sm"
   ]
  },
  {
   "cell_type": "code",
   "execution_count": 19,
   "id": "f3c1c681",
   "metadata": {},
   "outputs": [],
   "source": [
    "rgresion_1 = sm.OLS(y1,x1)\n",
    "results = rgresion_1.fit()"
   ]
  },
  {
   "cell_type": "markdown",
   "id": "c0162827",
   "metadata": {},
   "source": [
    "Para visualizar los resultados tenemos que siempre dentro del universo de statsmodel imprimir el objeto conjuntamente con el método de .summary() para que nos devuelve una tabla resumen, que muy seguramente les resultará familiar."
   ]
  },
  {
   "cell_type": "code",
   "execution_count": 20,
   "id": "e3aa0f10",
   "metadata": {},
   "outputs": [
    {
     "name": "stdout",
     "output_type": "stream",
     "text": [
      "                                 OLS Regression Results                                \n",
      "=======================================================================================\n",
      "Dep. Variable:                      y   R-squared (uncentered):                   0.928\n",
      "Model:                            OLS   Adj. R-squared (uncentered):              0.927\n",
      "Method:                 Least Squares   F-statistic:                              632.2\n",
      "Date:                Wed, 26 Oct 2022   Prob (F-statistic):                    1.16e-29\n",
      "Time:                        07:28:33   Log-Likelihood:                         -192.95\n",
      "No. Observations:                  50   AIC:                                      387.9\n",
      "Df Residuals:                      49   BIC:                                      389.8\n",
      "Df Model:                           1                                                  \n",
      "Covariance Type:            nonrobust                                                  \n",
      "==============================================================================\n",
      "                 coef    std err          t      P>|t|      [0.025      0.975]\n",
      "------------------------------------------------------------------------------\n",
      "x1             1.4494      0.058     25.144      0.000       1.334       1.565\n",
      "==============================================================================\n",
      "Omnibus:                        1.001   Durbin-Watson:                   1.086\n",
      "Prob(Omnibus):                  0.606   Jarque-Bera (JB):                1.010\n",
      "Skew:                          -0.206   Prob(JB):                        0.604\n",
      "Kurtosis:                       2.439   Cond. No.                         1.00\n",
      "==============================================================================\n",
      "\n",
      "Notes:\n",
      "[1] R² is computed without centering (uncentered) since the model does not contain a constant.\n",
      "[2] Standard Errors assume that the covariance matrix of the errors is correctly specified.\n"
     ]
    }
   ],
   "source": [
    "print(results.summary())"
   ]
  },
  {
   "cell_type": "markdown",
   "id": "2297dbf7",
   "metadata": {},
   "source": [
    "Excelente! tenemos generado nuestro primer modelo de regresión lineal.\n",
    "La primera puntualización es que la librería de statsmodel no incluye en intercepto de manera automática por lo que si requerimos de este en el análisis debemos incluirlo."
   ]
  },
  {
   "cell_type": "markdown",
   "id": "7e9b62e6",
   "metadata": {},
   "source": [
    "_Nota No.5: Acostumbrémonos siempre a incluir el intercepo o nuestro β0 en la regresión a menos que por razones teóricas debamos forzar a que la línea de regresión pase a través del origen._ \n",
    "\n",
    "_Por ejemplo: Si realizaramos un modelo de regresión lineal con la variable \"Y\"  como la distancia recorrida y la variable \"X\" sería el tiempo de conducción, hace sentido no incluir el intercepto dado que cuando \"X\" es 0, es decir que no hemos conducido ni 1 segundo, \"Y\" o la distancia recorrida debería ser 0 también, por lo que estaríamos forzando a que la línea pase por el orígen._"
   ]
  },
  {
   "cell_type": "markdown",
   "id": "4e47f553",
   "metadata": {},
   "source": [
    "#### Incluyamos al intercepto a nuestro lado derecho de la ecuación"
   ]
  },
  {
   "cell_type": "code",
   "execution_count": 21,
   "id": "0ab90ad7",
   "metadata": {},
   "outputs": [],
   "source": [
    "#X = sm.add_constant(X)\n",
    "x1 = sm.add_constant(x1)\n",
    "rgresion_1 = sm.OLS(y1,x1)\n",
    "results = rgresion_1.fit()"
   ]
  },
  {
   "cell_type": "code",
   "execution_count": 22,
   "id": "e097dc76",
   "metadata": {},
   "outputs": [
    {
     "name": "stdout",
     "output_type": "stream",
     "text": [
      "                            OLS Regression Results                            \n",
      "==============================================================================\n",
      "Dep. Variable:                      y   R-squared:                       0.740\n",
      "Model:                            OLS   Adj. R-squared:                  0.735\n",
      "Method:                 Least Squares   F-statistic:                     136.9\n",
      "Date:                Wed, 26 Oct 2022   Prob (F-statistic):           1.16e-15\n",
      "Time:                        07:28:33   Log-Likelihood:                -177.31\n",
      "No. Observations:                  50   AIC:                             358.6\n",
      "Df Residuals:                      48   BIC:                             362.5\n",
      "Df Model:                           1                                         \n",
      "Covariance Type:            nonrobust                                         \n",
      "==============================================================================\n",
      "                 coef    std err          t      P>|t|      [0.025      0.975]\n",
      "------------------------------------------------------------------------------\n",
      "const         15.4141      2.387      6.458      0.000      10.615      20.213\n",
      "x1             0.9823      0.084     11.702      0.000       0.814       1.151\n",
      "==============================================================================\n",
      "Omnibus:                        9.238   Durbin-Watson:                   2.024\n",
      "Prob(Omnibus):                  0.010   Jarque-Bera (JB):                3.042\n",
      "Skew:                          -0.221   Prob(JB):                        0.218\n",
      "Kurtosis:                       1.875   Cond. No.                         56.1\n",
      "==============================================================================\n",
      "\n",
      "Notes:\n",
      "[1] Standard Errors assume that the covariance matrix of the errors is correctly specified.\n"
     ]
    }
   ],
   "source": [
    "print(results.summary())"
   ]
  },
  {
   "cell_type": "markdown",
   "id": "16f38946",
   "metadata": {},
   "source": [
    "Listo! Hemos codificado nuestro modelo de Regresión Lineal entre \"Y\" y \"X\" utilizando la función sm.OLS la cual trabaja con vectores, listas o arrays.\n",
    "Ahora repliquemos lo obtenido por el método de fórmula científca creando un DataFrame a partir de nuestros vectores \"X\" y \"Y\" sin incluir a nuestra constante dado que la formula.api la incluye automáticamente para nosotros."
   ]
  },
  {
   "cell_type": "markdown",
   "id": "b3bcfef1",
   "metadata": {},
   "source": [
    "Primero, creemos el objeto del DataFrame, para ello importemos el module pandas y asignemos el alias pd."
   ]
  },
  {
   "cell_type": "code",
   "execution_count": 23,
   "id": "c8ce0bb7",
   "metadata": {},
   "outputs": [],
   "source": [
    "import pandas as pd"
   ]
  },
  {
   "cell_type": "code",
   "execution_count": 24,
   "id": "bf4f5fd4",
   "metadata": {},
   "outputs": [
    {
     "data": {
      "text/html": [
       "<div>\n",
       "<style scoped>\n",
       "    .dataframe tbody tr th:only-of-type {\n",
       "        vertical-align: middle;\n",
       "    }\n",
       "\n",
       "    .dataframe tbody tr th {\n",
       "        vertical-align: top;\n",
       "    }\n",
       "\n",
       "    .dataframe thead th {\n",
       "        text-align: right;\n",
       "    }\n",
       "</style>\n",
       "<table border=\"1\" class=\"dataframe\">\n",
       "  <thead>\n",
       "    <tr style=\"text-align: right;\">\n",
       "      <th></th>\n",
       "      <th>x</th>\n",
       "      <th>y</th>\n",
       "    </tr>\n",
       "  </thead>\n",
       "  <tbody>\n",
       "    <tr>\n",
       "      <th>0</th>\n",
       "      <td>0</td>\n",
       "      <td>17</td>\n",
       "    </tr>\n",
       "    <tr>\n",
       "      <th>1</th>\n",
       "      <td>1</td>\n",
       "      <td>23</td>\n",
       "    </tr>\n",
       "    <tr>\n",
       "      <th>2</th>\n",
       "      <td>2</td>\n",
       "      <td>5</td>\n",
       "    </tr>\n",
       "    <tr>\n",
       "      <th>3</th>\n",
       "      <td>3</td>\n",
       "      <td>9</td>\n",
       "    </tr>\n",
       "    <tr>\n",
       "      <th>4</th>\n",
       "      <td>4</td>\n",
       "      <td>11</td>\n",
       "    </tr>\n",
       "  </tbody>\n",
       "</table>\n",
       "</div>"
      ],
      "text/plain": [
       "   x   y\n",
       "0  0  17\n",
       "1  1  23\n",
       "2  2   5\n",
       "3  3   9\n",
       "4  4  11"
      ]
     },
     "execution_count": 24,
     "metadata": {},
     "output_type": "execute_result"
    }
   ],
   "source": [
    "df1=pd.DataFrame({\"x\":x, \"y\":y})\n",
    "df1.head(5)"
   ]
  },
  {
   "cell_type": "markdown",
   "id": "2580cd99",
   "metadata": {},
   "source": [
    "Importamos ahora la fórmula del module statsmodel:"
   ]
  },
  {
   "cell_type": "code",
   "execution_count": 25,
   "id": "4c811271",
   "metadata": {},
   "outputs": [],
   "source": [
    "from statsmodels.formula.api import ols"
   ]
  },
  {
   "cell_type": "code",
   "execution_count": 26,
   "id": "f424fff2",
   "metadata": {},
   "outputs": [],
   "source": [
    "regresion_2 = ols(\"y~x\", data=df1)\n",
    "results_2 = regresion_2.fit()"
   ]
  },
  {
   "cell_type": "code",
   "execution_count": 27,
   "id": "2dfb5ae0",
   "metadata": {},
   "outputs": [
    {
     "name": "stdout",
     "output_type": "stream",
     "text": [
      "                            OLS Regression Results                            \n",
      "==============================================================================\n",
      "Dep. Variable:                      y   R-squared:                       0.740\n",
      "Model:                            OLS   Adj. R-squared:                  0.735\n",
      "Method:                 Least Squares   F-statistic:                     136.9\n",
      "Date:                Wed, 26 Oct 2022   Prob (F-statistic):           1.16e-15\n",
      "Time:                        07:28:33   Log-Likelihood:                -177.31\n",
      "No. Observations:                  50   AIC:                             358.6\n",
      "Df Residuals:                      48   BIC:                             362.5\n",
      "Df Model:                           1                                         \n",
      "Covariance Type:            nonrobust                                         \n",
      "==============================================================================\n",
      "                 coef    std err          t      P>|t|      [0.025      0.975]\n",
      "------------------------------------------------------------------------------\n",
      "Intercept     15.4141      2.387      6.458      0.000      10.615      20.213\n",
      "x              0.9823      0.084     11.702      0.000       0.814       1.151\n",
      "==============================================================================\n",
      "Omnibus:                        9.238   Durbin-Watson:                   2.024\n",
      "Prob(Omnibus):                  0.010   Jarque-Bera (JB):                3.042\n",
      "Skew:                          -0.221   Prob(JB):                        0.218\n",
      "Kurtosis:                       1.875   Cond. No.                         56.1\n",
      "==============================================================================\n",
      "\n",
      "Notes:\n",
      "[1] Standard Errors assume that the covariance matrix of the errors is correctly specified.\n"
     ]
    }
   ],
   "source": [
    "print(results_2.summary())"
   ]
  },
  {
   "cell_type": "markdown",
   "id": "9912ffe7",
   "metadata": {},
   "source": [
    "Recordemos que habíamos dicho que podemos extraer los estimadores por medio de .params(). \n",
    "Extraigámoslos:"
   ]
  },
  {
   "cell_type": "code",
   "execution_count": 28,
   "id": "e177fe38",
   "metadata": {},
   "outputs": [
    {
     "name": "stdout",
     "output_type": "stream",
     "text": [
      "Intercept    15.414118\n",
      "x             0.982281\n",
      "dtype: float64\n"
     ]
    }
   ],
   "source": [
    "print(results_2.params)"
   ]
  },
  {
   "cell_type": "markdown",
   "id": "cb182dfa",
   "metadata": {},
   "source": [
    "Reemplacemos los valores en la fórmula:"
   ]
  },
  {
   "cell_type": "markdown",
   "id": "c59cef2c",
   "metadata": {},
   "source": [
    "$$\\hat Y=\\underbrace{14.87+0.98*X}_{modelo}+\\underbrace{\\epsilon}_{error} $$"
   ]
  },
  {
   "cell_type": "markdown",
   "id": "5baa0984",
   "metadata": {},
   "source": [
    "## Verificación de los supuestos de la Regresión Lineal"
   ]
  },
  {
   "cell_type": "markdown",
   "id": "7f1f4d22",
   "metadata": {},
   "source": [
    "Dado que contamos con una sola variable explicativa en este modelo de Regresión Lineal, los supuestos a verificar se centrarán en:\n",
    "\n",
    "- Linealidad en los parámetros\n",
    "    \n",
    "- Normalidad en los residuos\n",
    "    \n",
    "- Homocedasticidad en los residuos"
   ]
  },
  {
   "cell_type": "markdown",
   "id": "daacf72d",
   "metadata": {},
   "source": [
    "### 1. Linealidad en los parametros"
   ]
  },
  {
   "cell_type": "markdown",
   "id": "fff94523",
   "metadata": {},
   "source": [
    "Para comprobar este supuesto podemos utilizar las primeras gráficas generadas en este script o generar un pairplot que va a realizar el mismo proceso pero de forma más automática."
   ]
  },
  {
   "cell_type": "code",
   "execution_count": 29,
   "id": "b955ed57",
   "metadata": {},
   "outputs": [
    {
     "data": {
      "text/plain": [
       "<seaborn.axisgrid.PairGrid at 0x22578618be0>"
      ]
     },
     "execution_count": 29,
     "metadata": {},
     "output_type": "execute_result"
    },
    {
     "data": {
      "image/png": "[encoded data removed]",
      "text/plain": [
       "<Figure size 288x288 with 1 Axes>"
      ]
     },
     "metadata": {
      "needs_background": "light"
     },
     "output_type": "display_data"
    }
   ],
   "source": [
    "sns.pairplot(x_vars='x', y_vars='y' , data=df1, size=4)"
   ]
  },
  {
   "cell_type": "markdown",
   "id": "6aef2fbd",
   "metadata": {},
   "source": [
    "Como la nube de puntos podría caer a lo largo de una línea recta, entonces existe algún tipo de relación lineal entre las dos variables y esta suposición se cumpliría.\n"
   ]
  },
  {
   "cell_type": "markdown",
   "id": "bb1de3c8",
   "metadata": {},
   "source": [
    "Adicionalmente podemos calcular el grado de asociación lineal entre las dos variables para tener una idea más clara:"
   ]
  },
  {
   "cell_type": "code",
   "execution_count": 30,
   "id": "9fd6338d",
   "metadata": {},
   "outputs": [
    {
     "data": {
      "text/html": [
       "<div>\n",
       "<style scoped>\n",
       "    .dataframe tbody tr th:only-of-type {\n",
       "        vertical-align: middle;\n",
       "    }\n",
       "\n",
       "    .dataframe tbody tr th {\n",
       "        vertical-align: top;\n",
       "    }\n",
       "\n",
       "    .dataframe thead th {\n",
       "        text-align: right;\n",
       "    }\n",
       "</style>\n",
       "<table border=\"1\" class=\"dataframe\">\n",
       "  <thead>\n",
       "    <tr style=\"text-align: right;\">\n",
       "      <th></th>\n",
       "      <th>x</th>\n",
       "      <th>y</th>\n",
       "    </tr>\n",
       "  </thead>\n",
       "  <tbody>\n",
       "    <tr>\n",
       "      <th>x</th>\n",
       "      <td>1.000000</td>\n",
       "      <td>0.860494</td>\n",
       "    </tr>\n",
       "    <tr>\n",
       "      <th>y</th>\n",
       "      <td>0.860494</td>\n",
       "      <td>1.000000</td>\n",
       "    </tr>\n",
       "  </tbody>\n",
       "</table>\n",
       "</div>"
      ],
      "text/plain": [
       "          x         y\n",
       "x  1.000000  0.860494\n",
       "y  0.860494  1.000000"
      ]
     },
     "execution_count": 30,
     "metadata": {},
     "output_type": "execute_result"
    }
   ],
   "source": [
    "df1.corr()"
   ]
  },
  {
   "cell_type": "markdown",
   "id": "23c2d9ef",
   "metadata": {},
   "source": [
    "Mediante la correlación de Pearson, podemos concluir que el grado de asociación lineal entre \"X\" y \"Y\" es de 0.88 y por lo tanto podemos continuar con nuestro análisis.\n",
    "Recordemos que de acuerdo a los rangos presentados, una correlación de 0.88 es \"muy alta\""
   ]
  },
  {
   "cell_type": "markdown",
   "id": "9ce2c0c5",
   "metadata": {},
   "source": [
    "### 2. Normalidad en los residuos"
   ]
  },
  {
   "cell_type": "markdown",
   "id": "92a3e3e7",
   "metadata": {},
   "source": [
    "Para la normalidad en los residuos del modelo, compararemos mediantelos gráficos QQ (o gráfico de cuantiles-cuantiles)si los puntos del gráfico forman aproximadamente una línea diagonal recta."
   ]
  },
  {
   "cell_type": "code",
   "execution_count": 31,
   "id": "a76c90cc",
   "metadata": {},
   "outputs": [
    {
     "data": {
      "image/png": "[encoded data removed]",
      "text/plain": [
       "<Figure size 432x288 with 1 Axes>"
      ]
     },
     "execution_count": 31,
     "metadata": {},
     "output_type": "execute_result"
    },
    {
     "data": {
      "image/png": "[encoded data removed]",
      "text/plain": [
       "<Figure size 432x288 with 1 Axes>"
      ]
     },
     "metadata": {
      "needs_background": "light"
     },
     "output_type": "display_data"
    }
   ],
   "source": [
    "sm.qqplot(results_2.resid, line='q')"
   ]
  },
  {
   "cell_type": "markdown",
   "id": "f3a3dfd6",
   "metadata": {},
   "source": [
    "Como podemos ver, las líneas azules que representan a los residuos caen cerca de la línea recta. Podemos observar en el gráfico de igual manera, que existen observaciones que caen muy por fuera de la línea, por lo que un anális de valores extremos podría ser conveniente.\n",
    "Si quisiésemos validar la prueba gráfica con la estadística, podríamos recurrir a una de las pruebas detalladas en la secciónde supuestos.\n",
    "En este caso, aplicaremos la prueba de Jarque-Bera para validar la hipótesis de normalidad en residuos."
   ]
  },
  {
   "cell_type": "markdown",
   "id": "825a6e92",
   "metadata": {},
   "source": [
    "Para aplicar una prueba estadística como la de Jarque Bera, es conveniente importar un submódulo de statsmodels que son las estadisticas \"stats\""
   ]
  },
  {
   "cell_type": "code",
   "execution_count": 32,
   "id": "1ef408ed",
   "metadata": {},
   "outputs": [],
   "source": [
    "import statsmodels.stats.api as sms\n",
    "from statsmodels.compat import lzip"
   ]
  },
  {
   "cell_type": "markdown",
   "id": "5b4d3815",
   "metadata": {},
   "source": [
    "Recordemos que el test Jarque-Bera es una prueba de bondad de ajuste que determina si los datos de la muestra tienen asimetría y curtosis que coinciden con una distribución normal.\n",
    "\n",
    "Como norma general, el estadístico de prueba de la prueba de Jarque-Bera es siempre un número positivo y cuanto más alejado de cero esté, habrá más evidencia de que los datos de la muestra no siguen una distribución normal."
   ]
  },
  {
   "cell_type": "markdown",
   "id": "059d29f5",
   "metadata": {},
   "source": [
    "La hipótesis nula de este test es:\n",
    "\n",
    "- H0: Los datos se distribuyen normalmente\n",
    "- H1: Los datos no se distribuyen normalmente"
   ]
  },
  {
   "cell_type": "code",
   "execution_count": 33,
   "id": "fe03dc45",
   "metadata": {},
   "outputs": [
    {
     "data": {
      "text/plain": [
       "[('Jarque-Bera', 3.0424245058732287),\n",
       " ('Chi^2 two-tail prob.', 0.21844691346487805),\n",
       " ('Skew', -0.2210875292082273),\n",
       " ('Kurtosis', 1.8753467287498984)]"
      ]
     },
     "execution_count": 33,
     "metadata": {},
     "output_type": "execute_result"
    }
   ],
   "source": [
    "nombres = [\"Jarque-Bera\", \"Chi^2 two-tail prob.\", \"Skew\", \"Kurtosis\"]\n",
    "jarque_bera = sms.jarque_bera(results_2.resid)\n",
    "lzip(nombres, jarque_bera)"
   ]
  },
  {
   "cell_type": "markdown",
   "id": "3bafc8e3",
   "metadata": {},
   "source": [
    "Dado que este valor probabilidad no es menor que .05, no podemos rechazar la hipótesis nula, por lo que no tenemos suficiente evidencia para decir que estos datos tienen asimetría y curtosis que es significativamente diferente de una distribución normal."
   ]
  },
  {
   "cell_type": "markdown",
   "id": "2d77a0c7",
   "metadata": {},
   "source": [
    "Finalmemte, podemos contrastar si la media de los residuos de este modelo es 0, o muy cercano a este. Para esto podemos extrar los residuos del modelo y calcular la media directamente:"
   ]
  },
  {
   "cell_type": "code",
   "execution_count": 34,
   "id": "61d96c8b",
   "metadata": {},
   "outputs": [
    {
     "data": {
      "text/plain": [
       "7.887024366937113e-15"
      ]
     },
     "execution_count": 34,
     "metadata": {},
     "output_type": "execute_result"
    }
   ],
   "source": [
    "results_2.resid.mean()"
   ]
  },
  {
   "cell_type": "markdown",
   "id": "e93d229f",
   "metadata": {},
   "source": [
    "La media de los residuos tiende a cero y es muy pequeña por lo que no se estaría violando este supuesto."
   ]
  },
  {
   "cell_type": "markdown",
   "id": "606f5d4f",
   "metadata": {},
   "source": [
    "### 3. Homocedasticidad en los residuos"
   ]
  },
  {
   "cell_type": "markdown",
   "id": "b54416a8",
   "metadata": {},
   "source": [
    "Para comprobar este supuesto podemos graficar los valores ajustados frente a una gráfica de residuos. De existir heterocedasticidad, los residuos se dispersarán mucho más a medida que los valores ajustados aumenten creando una imagen de cono.\n",
    "\n",
    "Aplicando a Python este gráfico se obtendría por medio del comando residplot dentro de seaborn."
   ]
  },
  {
   "cell_type": "code",
   "execution_count": 35,
   "id": "a71ce0a0",
   "metadata": {},
   "outputs": [],
   "source": [
    "y_pred=results_2.predict()"
   ]
  },
  {
   "cell_type": "code",
   "execution_count": 36,
   "id": "10ee086e",
   "metadata": {},
   "outputs": [
    {
     "data": {
      "text/plain": [
       "Text(0.5, 1.0, 'Gráfica de residuos')"
      ]
     },
     "execution_count": 36,
     "metadata": {},
     "output_type": "execute_result"
    },
    {
     "data": {
      "image/png": "[encoded data removed]",
      "text/plain": [
       "<Figure size 432x288 with 1 Axes>"
      ]
     },
     "metadata": {
      "needs_background": "light"
     },
     "output_type": "display_data"
    }
   ],
   "source": [
    "sns.residplot(y_pred, results_2.resid)\n",
    "plt.xlabel(\"y_pred\")\n",
    "plt.ylabel(\"residuos\")\n",
    "plt.title(\"Gráfica de residuos\")"
   ]
  },
  {
   "cell_type": "markdown",
   "id": "976d5c44",
   "metadata": {},
   "source": [
    "De la gráfica de residuos anterior, podríamos inferir que los residuos no formaron ningún patrón. Por lo tanto, los residuos son independientes entre sí.\n",
    "\n",
    "Y además, los residuos tienen varianza constante. (La varianza no parece aumentar/disminuir constantemente con el valor y_pred)."
   ]
  },
  {
   "cell_type": "markdown",
   "id": "a470ba65",
   "metadata": {},
   "source": [
    "Adicionalmente, podemos observar que los puntos se trazan en una distribución aleatoria, por lo que no hay un patrón."
   ]
  },
  {
   "cell_type": "markdown",
   "id": "21ce257d",
   "metadata": {},
   "source": [
    "Para aplicar una prueba estadística como la de Breush Pagan, es conveniente importar un submódulo de statsmodels que son las estadisticas \"stats\""
   ]
  },
  {
   "cell_type": "markdown",
   "id": "fa5370f3",
   "metadata": {},
   "source": [
    "Recordemos que este test se utiliza para determinar la heterocedasticidad en un modelo de regresión lineal, ya que analiza si la varianza estimada de los residuos de una regresión dependen de los valores de las variables independientes.\n"
   ]
  },
  {
   "cell_type": "markdown",
   "id": "3a390efb",
   "metadata": {},
   "source": [
    "La hipótesis nula de este test es:\n",
    "\n",
    "- H0: Existe homocedasticidad\n",
    "- H1: La homocedasticidad no está presente , por lo que existe heterocedasticidad"
   ]
  },
  {
   "cell_type": "code",
   "execution_count": 37,
   "id": "b55b6dfb",
   "metadata": {},
   "outputs": [
    {
     "data": {
      "text/plain": [
       "[('Lagrange multiplier statistic', 0.3380751486825484),\n",
       " ('p-value', 0.5609423953108662),\n",
       " ('f-value', 0.32676154187229184),\n",
       " ('f p-value', 0.5702395360386849)]"
      ]
     },
     "execution_count": 37,
     "metadata": {},
     "output_type": "execute_result"
    }
   ],
   "source": [
    "nombres = [\"Lagrange multiplier statistic\", \"p-value\", \"f-value\", \"f p-value\"]\n",
    "breuschpagan = sms.het_breuschpagan(results.resid, results.model.exog)\n",
    "lzip(nombres, breuschpagan)"
   ]
  },
  {
   "cell_type": "markdown",
   "id": "53491641",
   "metadata": {},
   "source": [
    "En este ejemplo, como el estadístico del multiplicador de Lagrange para la prueba es de 0.0014 y el valor p correspondiente es 0.9693, el cual es mayor a 0.05, por lo no podemos rechazar la hipótesis nula, y concluímos que no tenemos evidencia suficiente para decir que la heterocedasticidad está presente en el modelo de regresión."
   ]
  },
  {
   "cell_type": "markdown",
   "id": "70b3f056",
   "metadata": {},
   "source": [
    "### Para finalizar: "
   ]
  },
  {
   "cell_type": "markdown",
   "id": "23c679f2",
   "metadata": {},
   "source": [
    "Para concluir este script analicemos la estructura de los resultados de la Regresión Lineal y los componentes a los que deberemos poner mayor atención:"
   ]
  },
  {
   "cell_type": "markdown",
   "id": "28f05285",
   "metadata": {},
   "source": [
    "<img src=\"regression_components.png\" width=\"750\">"
   ]
  },
  {
   "cell_type": "markdown",
   "id": "3cc8561f",
   "metadata": {},
   "source": [
    "- Sección A: Nos indica cuántos datos estamos ingresando al modelo\n",
    "\n",
    "\n",
    "- Sección B: Es la estimación per se, y nos despliega las variables que estamos utilizando así como sus coeficientes, sus errores estándar, sus probabilidades y sus rangos\n",
    "\n",
    "\n",
    "- Sección C: Computa el R cuadrado y el R cuadrado ajustado al número de variables que estemos utilizando en la regresión\n",
    "\n",
    "\n",
    "- Sección D: Nos brinda intuición acerca de la normalidad en esta regresión\n",
    "\n",
    "\n",
    "- Sección E: Computa las pruebas de Durbin-Watson y Jarque Bera, mismas que calculamos en los apartados precedentes\n",
    "\n",
    "\n"
   ]
  },
  {
   "cell_type": "markdown",
   "id": "93848ebc",
   "metadata": {},
   "source": [
    "### Próximos pasos: "
   ]
  },
  {
   "cell_type": "markdown",
   "id": "8212d689",
   "metadata": {},
   "source": [
    "Excelente! \n",
    "\n",
    "Teóricamente bajo una distribución artificial hemos verificado todos los supuestos.\n",
    "\n",
    "\n",
    "El siguiente paso es predecir y trabajar con datos reales por lo que en el próximo script trabajaremos con una base de datos en la que seguramente no será tan sencillo validar los supuestos."
   ]
  },
  {
   "cell_type": "code",
   "execution_count": 38,
   "id": "9feb0b41",
   "metadata": {},
   "outputs": [
    {
     "name": "stdout",
     "output_type": "stream",
     "text": [
      "matplotlib==3.4.3\n",
      "numpy==1.23.4\n",
      "pandas==1.3.4\n",
      "statsmodels==0.13.2\n",
      "seaborn==0.11.2\n"
     ]
    }
   ],
   "source": [
    "import pkg_resources\n",
    "import types\n",
    "def get_imports():\n",
    "    for name, val in globals().items():\n",
    "        if isinstance(val, types.ModuleType):\n",
    "            # Split ensures you get root package, \n",
    "            # not just imported function\n",
    "            name = val.__name__.split(\".\")[0]\n",
    "\n",
    "        elif isinstance(val, type):\n",
    "            name = val.__module__.split(\".\")[0]\n",
    "\n",
    "        # Some packages are weird and have different\n",
    "        # imported names vs. system/pip names. Unfortunately,\n",
    "        # there is no systematic way to get pip names from\n",
    "        # a package's imported name. You'll have to add\n",
    "        # exceptions to this list manually!\n",
    "        poorly_named_packages = {\n",
    "            \"PIL\": \"Pillow\",\n",
    "            \"sklearn\": \"scikit-learn\"\n",
    "        }\n",
    "        if name in poorly_named_packages.keys():\n",
    "            name = poorly_named_packages[name]\n",
    "\n",
    "        yield name\n",
    "imports = list(set(get_imports()))\n",
    "\n",
    "# The only way I found to get the version of the root package\n",
    "# from only the name of the package is to cross-check the names \n",
    "# of installed packages vs. imported packages\n",
    "requirements = []\n",
    "for m in pkg_resources.working_set:\n",
    "    if m.project_name in imports and m.project_name!=\"pip\":\n",
    "        requirements.append((m.project_name, m.version))\n",
    "\n",
    "for r in requirements:\n",
    "    print(\"{}=={}\".format(*r))\n"
   ]
  },
  {
   "cell_type": "code",
   "execution_count": 39,
   "id": "1e3cc933",
   "metadata": {},
   "outputs": [
    {
     "data": {
      "text/plain": [
       "<generator object get_imports at 0x0000022552417430>"
      ]
     },
     "execution_count": 39,
     "metadata": {},
     "output_type": "execute_result"
    }
   ],
   "source": [
    "get_imports()"
   ]
  }
 ],
 "metadata": {
  "kernelspec": {
   "display_name": "Python 3 (ipykernel)",
   "language": "python",
   "name": "python3"
  },
  "language_info": {
   "codemirror_mode": {
    "name": "ipython",
    "version": 3
   },
   "file_extension": ".py",
   "mimetype": "text/x-python",
   "name": "python",
   "nbconvert_exporter": "python",
   "pygments_lexer": "ipython3",
   "version": "3.9.7"
  }
 },
 "nbformat": 4,
 "nbformat_minor": 5
}
