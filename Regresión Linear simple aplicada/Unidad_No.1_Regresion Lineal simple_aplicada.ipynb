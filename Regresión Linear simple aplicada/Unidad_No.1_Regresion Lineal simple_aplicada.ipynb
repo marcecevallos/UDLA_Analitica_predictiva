{
 "cells": [
  {
   "cell_type": "markdown",
   "id": "d6e7057b",
   "metadata": {},
   "source": [
    " "
   ]
  },
  {
   "cell_type": "markdown",
   "id": "869007f1",
   "metadata": {},
   "source": [
    "El script de la Unidad_No.1_Regresion Lineal simple_teórica, cubrió desde los componentes de la Regresión Lineal, al método de MCO y los supuestos del modelo.\n",
    "Pero dado que trabajamos con datos artificiales, la validación de los supuestos no supuso un reto más grande. En este este script, trabajaremos con una base de datos real, por lo que la validacón de supuestos implicará trabajar con la sección de: \"posibles soluciones\" del script anterior.\n",
    "\n",
    "Manos a la obra!"
   ]
  },
  {
   "cell_type": "markdown",
   "id": "35c4cfb0",
   "metadata": {},
   "source": [
    "### Conceptos previos"
   ]
  },
  {
   "cell_type": "markdown",
   "id": "f174eef9",
   "metadata": {},
   "source": [
    "Para los conceptos previos y práctica inicial de Python en nuestro Jupyter Notebook, lo que primero vamos a realizar es importar la base de datos con la cuál vamos a trabajar esta unidad."
   ]
  },
  {
   "cell_type": "markdown",
   "id": "a92af2b9",
   "metadata": {},
   "source": [
    "### Importar una base al Jupyter Notebook con pandas"
   ]
  },
  {
   "cell_type": "markdown",
   "id": "f05b522d",
   "metadata": {},
   "source": [
    "La base con la que trabajaremos esta unidad es una base que contiene información acerca de 525 propiedades en una ciudad no especificada.\n",
    "    Es una base que tiene un puntaje de 10/10 en usabilidad, lo que nos indica que es adecuada para el uso de estudiantes y principiantes dado que no tiene grandes problemas en sus datos."
   ]
  },
  {
   "attachments": {},
   "cell_type": "markdown",
   "id": "f054fd9c",
   "metadata": {},
   "source": [
    "![image-4.png](https://raw.githubusercontent.com/marcecevallos/UDLA_Analitica_predictiva/main/Regresi%C3%B3n%20Linear%20simple%20aplicada/house_dataset_kaggle.png)"
   ]
  },
  {
   "cell_type": "markdown",
   "id": "4c913b90",
   "metadata": {},
   "source": [
    "Adicionalmente, es una base de datos que no contiene Notebooks parecidos al que desarrollaremos para la clase de hoy, por lo que lo hace interesante."
   ]
  },
  {
   "cell_type": "markdown",
   "id": "a8ebec9e",
   "metadata": {},
   "source": [
    "Para este ejercicio me he descargado la base de datos y he cargado la misma en la carpeta compartida con la que trabajaremos."
   ]
  },
  {
   "cell_type": "markdown",
   "id": "7b4779cf",
   "metadata": {},
   "source": [
    "Para descargar la base de datos de este capítulo pueden dirigirse al siguiente link, descargar la base en formato csv de la carpeta zip o importarla directamente previo paso de obtención de una API de Kaggle.\n",
    "\n",
    "https://www.kaggle.com/datasets/yasserh/housing-prices-dataset?resource=download&select=Housing.csv\n"
   ]
  },
  {
   "cell_type": "markdown",
   "id": "1890a62f",
   "metadata": {},
   "source": [
    "Una vez descargada la base y situada en la carpeta donde se encuentra este Jupyter Notebook, lo primero que vamos a realizar es la importación de todos los módulos empleados en el script anterior: pandas, numpy, pyplot y seaborn."
   ]
  },
  {
   "cell_type": "markdown",
   "id": "fde5f097",
   "metadata": {},
   "source": [
    "### Importar los modules requeridos"
   ]
  },
  {
   "cell_type": "code",
   "execution_count": 4,
   "id": "5f96b3d6",
   "metadata": {},
   "outputs": [],
   "source": [
    "import numpy as np\n",
    "import pandas as pd\n",
    "import matplotlib.pyplot as plt\n",
    "import seaborn as sns\n",
    "\n",
    "import warnings\n",
    "warnings.filterwarnings(\"ignore\")"
   ]
  },
  {
   "cell_type": "markdown",
   "id": "e7cec3c3",
   "metadata": {},
   "source": [
    "Para la regresión y validación de supuestos llamamos a statsmodel, a el módulo encargado de la notación de fórmula y al módulo para las pruebas de hipótesis."
   ]
  },
  {
   "cell_type": "code",
   "execution_count": 5,
   "id": "820cba3d",
   "metadata": {},
   "outputs": [],
   "source": [
    "import statsmodels.stats.api as sms\n",
    "import statsmodels.api as sm\n",
    "from statsmodels.formula.api import ols\n",
    "from statsmodels.compat import lzip"
   ]
  },
  {
   "cell_type": "markdown",
   "id": "428e714a",
   "metadata": {},
   "source": [
    "Ahora sí, procedemos a llamar a nuestra base de datos a nuestro espacio en el Jupyer Notebook:"
   ]
  },
  {
   "cell_type": "code",
   "execution_count": 6,
   "id": "c491a871",
   "metadata": {},
   "outputs": [
    {
     "data": {
      "text/html": [
       "<div>\n",
       "<style scoped>\n",
       "    .dataframe tbody tr th:only-of-type {\n",
       "        vertical-align: middle;\n",
       "    }\n",
       "\n",
       "    .dataframe tbody tr th {\n",
       "        vertical-align: top;\n",
       "    }\n",
       "\n",
       "    .dataframe thead th {\n",
       "        text-align: right;\n",
       "    }\n",
       "</style>\n",
       "<table border=\"1\" class=\"dataframe\">\n",
       "  <thead>\n",
       "    <tr style=\"text-align: right;\">\n",
       "      <th></th>\n",
       "      <th>price</th>\n",
       "      <th>area</th>\n",
       "      <th>bedrooms</th>\n",
       "      <th>bathrooms</th>\n",
       "      <th>stories</th>\n",
       "      <th>mainroad</th>\n",
       "      <th>guestroom</th>\n",
       "      <th>basement</th>\n",
       "      <th>hotwaterheating</th>\n",
       "      <th>airconditioning</th>\n",
       "      <th>parking</th>\n",
       "      <th>prefarea</th>\n",
       "      <th>furnishingstatus</th>\n",
       "    </tr>\n",
       "  </thead>\n",
       "  <tbody>\n",
       "    <tr>\n",
       "      <th>0</th>\n",
       "      <td>13300000</td>\n",
       "      <td>7420</td>\n",
       "      <td>4</td>\n",
       "      <td>2</td>\n",
       "      <td>3</td>\n",
       "      <td>yes</td>\n",
       "      <td>no</td>\n",
       "      <td>no</td>\n",
       "      <td>no</td>\n",
       "      <td>yes</td>\n",
       "      <td>2</td>\n",
       "      <td>yes</td>\n",
       "      <td>furnished</td>\n",
       "    </tr>\n",
       "    <tr>\n",
       "      <th>1</th>\n",
       "      <td>12250000</td>\n",
       "      <td>8960</td>\n",
       "      <td>4</td>\n",
       "      <td>4</td>\n",
       "      <td>4</td>\n",
       "      <td>yes</td>\n",
       "      <td>no</td>\n",
       "      <td>no</td>\n",
       "      <td>no</td>\n",
       "      <td>yes</td>\n",
       "      <td>3</td>\n",
       "      <td>no</td>\n",
       "      <td>furnished</td>\n",
       "    </tr>\n",
       "    <tr>\n",
       "      <th>2</th>\n",
       "      <td>12250000</td>\n",
       "      <td>9960</td>\n",
       "      <td>3</td>\n",
       "      <td>2</td>\n",
       "      <td>2</td>\n",
       "      <td>yes</td>\n",
       "      <td>no</td>\n",
       "      <td>yes</td>\n",
       "      <td>no</td>\n",
       "      <td>no</td>\n",
       "      <td>2</td>\n",
       "      <td>yes</td>\n",
       "      <td>semi-furnished</td>\n",
       "    </tr>\n",
       "    <tr>\n",
       "      <th>3</th>\n",
       "      <td>12215000</td>\n",
       "      <td>7500</td>\n",
       "      <td>4</td>\n",
       "      <td>2</td>\n",
       "      <td>2</td>\n",
       "      <td>yes</td>\n",
       "      <td>no</td>\n",
       "      <td>yes</td>\n",
       "      <td>no</td>\n",
       "      <td>yes</td>\n",
       "      <td>3</td>\n",
       "      <td>yes</td>\n",
       "      <td>furnished</td>\n",
       "    </tr>\n",
       "    <tr>\n",
       "      <th>4</th>\n",
       "      <td>11410000</td>\n",
       "      <td>7420</td>\n",
       "      <td>4</td>\n",
       "      <td>1</td>\n",
       "      <td>2</td>\n",
       "      <td>yes</td>\n",
       "      <td>yes</td>\n",
       "      <td>yes</td>\n",
       "      <td>no</td>\n",
       "      <td>yes</td>\n",
       "      <td>2</td>\n",
       "      <td>no</td>\n",
       "      <td>furnished</td>\n",
       "    </tr>\n",
       "    <tr>\n",
       "      <th>...</th>\n",
       "      <td>...</td>\n",
       "      <td>...</td>\n",
       "      <td>...</td>\n",
       "      <td>...</td>\n",
       "      <td>...</td>\n",
       "      <td>...</td>\n",
       "      <td>...</td>\n",
       "      <td>...</td>\n",
       "      <td>...</td>\n",
       "      <td>...</td>\n",
       "      <td>...</td>\n",
       "      <td>...</td>\n",
       "      <td>...</td>\n",
       "    </tr>\n",
       "    <tr>\n",
       "      <th>540</th>\n",
       "      <td>1820000</td>\n",
       "      <td>3000</td>\n",
       "      <td>2</td>\n",
       "      <td>1</td>\n",
       "      <td>1</td>\n",
       "      <td>yes</td>\n",
       "      <td>no</td>\n",
       "      <td>yes</td>\n",
       "      <td>no</td>\n",
       "      <td>no</td>\n",
       "      <td>2</td>\n",
       "      <td>no</td>\n",
       "      <td>unfurnished</td>\n",
       "    </tr>\n",
       "    <tr>\n",
       "      <th>541</th>\n",
       "      <td>1767150</td>\n",
       "      <td>2400</td>\n",
       "      <td>3</td>\n",
       "      <td>1</td>\n",
       "      <td>1</td>\n",
       "      <td>no</td>\n",
       "      <td>no</td>\n",
       "      <td>no</td>\n",
       "      <td>no</td>\n",
       "      <td>no</td>\n",
       "      <td>0</td>\n",
       "      <td>no</td>\n",
       "      <td>semi-furnished</td>\n",
       "    </tr>\n",
       "    <tr>\n",
       "      <th>542</th>\n",
       "      <td>1750000</td>\n",
       "      <td>3620</td>\n",
       "      <td>2</td>\n",
       "      <td>1</td>\n",
       "      <td>1</td>\n",
       "      <td>yes</td>\n",
       "      <td>no</td>\n",
       "      <td>no</td>\n",
       "      <td>no</td>\n",
       "      <td>no</td>\n",
       "      <td>0</td>\n",
       "      <td>no</td>\n",
       "      <td>unfurnished</td>\n",
       "    </tr>\n",
       "    <tr>\n",
       "      <th>543</th>\n",
       "      <td>1750000</td>\n",
       "      <td>2910</td>\n",
       "      <td>3</td>\n",
       "      <td>1</td>\n",
       "      <td>1</td>\n",
       "      <td>no</td>\n",
       "      <td>no</td>\n",
       "      <td>no</td>\n",
       "      <td>no</td>\n",
       "      <td>no</td>\n",
       "      <td>0</td>\n",
       "      <td>no</td>\n",
       "      <td>furnished</td>\n",
       "    </tr>\n",
       "    <tr>\n",
       "      <th>544</th>\n",
       "      <td>1750000</td>\n",
       "      <td>3850</td>\n",
       "      <td>3</td>\n",
       "      <td>1</td>\n",
       "      <td>2</td>\n",
       "      <td>yes</td>\n",
       "      <td>no</td>\n",
       "      <td>no</td>\n",
       "      <td>no</td>\n",
       "      <td>no</td>\n",
       "      <td>0</td>\n",
       "      <td>no</td>\n",
       "      <td>unfurnished</td>\n",
       "    </tr>\n",
       "  </tbody>\n",
       "</table>\n",
       "<p>545 rows × 13 columns</p>\n",
       "</div>"
      ],
      "text/plain": [
       "        price  area  bedrooms  bathrooms  stories mainroad guestroom basement  \\\n",
       "0    13300000  7420         4          2        3      yes        no       no   \n",
       "1    12250000  8960         4          4        4      yes        no       no   \n",
       "2    12250000  9960         3          2        2      yes        no      yes   \n",
       "3    12215000  7500         4          2        2      yes        no      yes   \n",
       "4    11410000  7420         4          1        2      yes       yes      yes   \n",
       "..        ...   ...       ...        ...      ...      ...       ...      ...   \n",
       "540   1820000  3000         2          1        1      yes        no      yes   \n",
       "541   1767150  2400         3          1        1       no        no       no   \n",
       "542   1750000  3620         2          1        1      yes        no       no   \n",
       "543   1750000  2910         3          1        1       no        no       no   \n",
       "544   1750000  3850         3          1        2      yes        no       no   \n",
       "\n",
       "    hotwaterheating airconditioning  parking prefarea furnishingstatus  \n",
       "0                no             yes        2      yes        furnished  \n",
       "1                no             yes        3       no        furnished  \n",
       "2                no              no        2      yes   semi-furnished  \n",
       "3                no             yes        3      yes        furnished  \n",
       "4                no             yes        2       no        furnished  \n",
       "..              ...             ...      ...      ...              ...  \n",
       "540              no              no        2       no      unfurnished  \n",
       "541              no              no        0       no   semi-furnished  \n",
       "542              no              no        0       no      unfurnished  \n",
       "543              no              no        0       no        furnished  \n",
       "544              no              no        0       no      unfurnished  \n",
       "\n",
       "[545 rows x 13 columns]"
      ]
     },
     "execution_count": 6,
     "metadata": {},
     "output_type": "execute_result"
    }
   ],
   "source": [
    "df=pd.read_csv(\"house_dataset.csv\")\n",
    "df"
   ]
  },
  {
   "cell_type": "markdown",
   "id": "168606be",
   "metadata": {},
   "source": [
    "Como podemos observar la base de datos contiene 545 observaciones de propiedades y un total de 13 columnas que representan los atributos o características de cada fila.\n"
   ]
  },
  {
   "cell_type": "markdown",
   "id": "c0b773cc",
   "metadata": {},
   "source": [
    "Dado que el análisis se realizará en español, se procede a recodificar los nombres de las columnas:"
   ]
  },
  {
   "cell_type": "markdown",
   "id": "9253fd8f",
   "metadata": {},
   "source": [
    "### Recodificar el nombre de las columnas a español"
   ]
  },
  {
   "cell_type": "code",
   "execution_count": 8,
   "id": "39becde6",
   "metadata": {},
   "outputs": [
    {
     "data": {
      "text/html": [
       "<div>\n",
       "<style scoped>\n",
       "    .dataframe tbody tr th:only-of-type {\n",
       "        vertical-align: middle;\n",
       "    }\n",
       "\n",
       "    .dataframe tbody tr th {\n",
       "        vertical-align: top;\n",
       "    }\n",
       "\n",
       "    .dataframe thead th {\n",
       "        text-align: right;\n",
       "    }\n",
       "</style>\n",
       "<table border=\"1\" class=\"dataframe\">\n",
       "  <thead>\n",
       "    <tr style=\"text-align: right;\">\n",
       "      <th></th>\n",
       "      <th>price</th>\n",
       "      <th>area</th>\n",
       "      <th>bedrooms</th>\n",
       "      <th>bathrooms</th>\n",
       "      <th>stories</th>\n",
       "      <th>mainroad</th>\n",
       "      <th>guestroom</th>\n",
       "      <th>basement</th>\n",
       "      <th>hotwaterheating</th>\n",
       "      <th>airconditioning</th>\n",
       "      <th>parking</th>\n",
       "      <th>prefarea</th>\n",
       "      <th>furnishingstatus</th>\n",
       "    </tr>\n",
       "  </thead>\n",
       "  <tbody>\n",
       "    <tr>\n",
       "      <th>0</th>\n",
       "      <td>13300000</td>\n",
       "      <td>7420</td>\n",
       "      <td>4</td>\n",
       "      <td>2</td>\n",
       "      <td>3</td>\n",
       "      <td>yes</td>\n",
       "      <td>no</td>\n",
       "      <td>no</td>\n",
       "      <td>no</td>\n",
       "      <td>yes</td>\n",
       "      <td>2</td>\n",
       "      <td>yes</td>\n",
       "      <td>furnished</td>\n",
       "    </tr>\n",
       "    <tr>\n",
       "      <th>1</th>\n",
       "      <td>12250000</td>\n",
       "      <td>8960</td>\n",
       "      <td>4</td>\n",
       "      <td>4</td>\n",
       "      <td>4</td>\n",
       "      <td>yes</td>\n",
       "      <td>no</td>\n",
       "      <td>no</td>\n",
       "      <td>no</td>\n",
       "      <td>yes</td>\n",
       "      <td>3</td>\n",
       "      <td>no</td>\n",
       "      <td>furnished</td>\n",
       "    </tr>\n",
       "    <tr>\n",
       "      <th>2</th>\n",
       "      <td>12250000</td>\n",
       "      <td>9960</td>\n",
       "      <td>3</td>\n",
       "      <td>2</td>\n",
       "      <td>2</td>\n",
       "      <td>yes</td>\n",
       "      <td>no</td>\n",
       "      <td>yes</td>\n",
       "      <td>no</td>\n",
       "      <td>no</td>\n",
       "      <td>2</td>\n",
       "      <td>yes</td>\n",
       "      <td>semi-furnished</td>\n",
       "    </tr>\n",
       "    <tr>\n",
       "      <th>3</th>\n",
       "      <td>12215000</td>\n",
       "      <td>7500</td>\n",
       "      <td>4</td>\n",
       "      <td>2</td>\n",
       "      <td>2</td>\n",
       "      <td>yes</td>\n",
       "      <td>no</td>\n",
       "      <td>yes</td>\n",
       "      <td>no</td>\n",
       "      <td>yes</td>\n",
       "      <td>3</td>\n",
       "      <td>yes</td>\n",
       "      <td>furnished</td>\n",
       "    </tr>\n",
       "    <tr>\n",
       "      <th>4</th>\n",
       "      <td>11410000</td>\n",
       "      <td>7420</td>\n",
       "      <td>4</td>\n",
       "      <td>1</td>\n",
       "      <td>2</td>\n",
       "      <td>yes</td>\n",
       "      <td>yes</td>\n",
       "      <td>yes</td>\n",
       "      <td>no</td>\n",
       "      <td>yes</td>\n",
       "      <td>2</td>\n",
       "      <td>no</td>\n",
       "      <td>furnished</td>\n",
       "    </tr>\n",
       "    <tr>\n",
       "      <th>...</th>\n",
       "      <td>...</td>\n",
       "      <td>...</td>\n",
       "      <td>...</td>\n",
       "      <td>...</td>\n",
       "      <td>...</td>\n",
       "      <td>...</td>\n",
       "      <td>...</td>\n",
       "      <td>...</td>\n",
       "      <td>...</td>\n",
       "      <td>...</td>\n",
       "      <td>...</td>\n",
       "      <td>...</td>\n",
       "      <td>...</td>\n",
       "    </tr>\n",
       "    <tr>\n",
       "      <th>540</th>\n",
       "      <td>1820000</td>\n",
       "      <td>3000</td>\n",
       "      <td>2</td>\n",
       "      <td>1</td>\n",
       "      <td>1</td>\n",
       "      <td>yes</td>\n",
       "      <td>no</td>\n",
       "      <td>yes</td>\n",
       "      <td>no</td>\n",
       "      <td>no</td>\n",
       "      <td>2</td>\n",
       "      <td>no</td>\n",
       "      <td>unfurnished</td>\n",
       "    </tr>\n",
       "    <tr>\n",
       "      <th>541</th>\n",
       "      <td>1767150</td>\n",
       "      <td>2400</td>\n",
       "      <td>3</td>\n",
       "      <td>1</td>\n",
       "      <td>1</td>\n",
       "      <td>no</td>\n",
       "      <td>no</td>\n",
       "      <td>no</td>\n",
       "      <td>no</td>\n",
       "      <td>no</td>\n",
       "      <td>0</td>\n",
       "      <td>no</td>\n",
       "      <td>semi-furnished</td>\n",
       "    </tr>\n",
       "    <tr>\n",
       "      <th>542</th>\n",
       "      <td>1750000</td>\n",
       "      <td>3620</td>\n",
       "      <td>2</td>\n",
       "      <td>1</td>\n",
       "      <td>1</td>\n",
       "      <td>yes</td>\n",
       "      <td>no</td>\n",
       "      <td>no</td>\n",
       "      <td>no</td>\n",
       "      <td>no</td>\n",
       "      <td>0</td>\n",
       "      <td>no</td>\n",
       "      <td>unfurnished</td>\n",
       "    </tr>\n",
       "    <tr>\n",
       "      <th>543</th>\n",
       "      <td>1750000</td>\n",
       "      <td>2910</td>\n",
       "      <td>3</td>\n",
       "      <td>1</td>\n",
       "      <td>1</td>\n",
       "      <td>no</td>\n",
       "      <td>no</td>\n",
       "      <td>no</td>\n",
       "      <td>no</td>\n",
       "      <td>no</td>\n",
       "      <td>0</td>\n",
       "      <td>no</td>\n",
       "      <td>furnished</td>\n",
       "    </tr>\n",
       "    <tr>\n",
       "      <th>544</th>\n",
       "      <td>1750000</td>\n",
       "      <td>3850</td>\n",
       "      <td>3</td>\n",
       "      <td>1</td>\n",
       "      <td>2</td>\n",
       "      <td>yes</td>\n",
       "      <td>no</td>\n",
       "      <td>no</td>\n",
       "      <td>no</td>\n",
       "      <td>no</td>\n",
       "      <td>0</td>\n",
       "      <td>no</td>\n",
       "      <td>unfurnished</td>\n",
       "    </tr>\n",
       "  </tbody>\n",
       "</table>\n",
       "<p>545 rows × 13 columns</p>\n",
       "</div>"
      ],
      "text/plain": [
       "        price  area  bedrooms  bathrooms  stories mainroad guestroom basement  \\\n",
       "0    13300000  7420         4          2        3      yes        no       no   \n",
       "1    12250000  8960         4          4        4      yes        no       no   \n",
       "2    12250000  9960         3          2        2      yes        no      yes   \n",
       "3    12215000  7500         4          2        2      yes        no      yes   \n",
       "4    11410000  7420         4          1        2      yes       yes      yes   \n",
       "..        ...   ...       ...        ...      ...      ...       ...      ...   \n",
       "540   1820000  3000         2          1        1      yes        no      yes   \n",
       "541   1767150  2400         3          1        1       no        no       no   \n",
       "542   1750000  3620         2          1        1      yes        no       no   \n",
       "543   1750000  2910         3          1        1       no        no       no   \n",
       "544   1750000  3850         3          1        2      yes        no       no   \n",
       "\n",
       "    hotwaterheating airconditioning  parking prefarea furnishingstatus  \n",
       "0                no             yes        2      yes        furnished  \n",
       "1                no             yes        3       no        furnished  \n",
       "2                no              no        2      yes   semi-furnished  \n",
       "3                no             yes        3      yes        furnished  \n",
       "4                no             yes        2       no        furnished  \n",
       "..              ...             ...      ...      ...              ...  \n",
       "540              no              no        2       no      unfurnished  \n",
       "541              no              no        0       no   semi-furnished  \n",
       "542              no              no        0       no      unfurnished  \n",
       "543              no              no        0       no        furnished  \n",
       "544              no              no        0       no      unfurnished  \n",
       "\n",
       "[545 rows x 13 columns]"
      ]
     },
     "execution_count": 8,
     "metadata": {},
     "output_type": "execute_result"
    }
   ],
   "source": [
    "df.rename({'price':'precio', 'bedrooms': 'cuartos', 'bathrooms':'banios', 'stories': 'pisos', 'mainroad':'carretera',\n",
    "          'guestroom':'cuarto_huespedes', 'basement': 'sotano', 'hotwaterheating':'calefaccion', 'airconditioning':'AC', \n",
    "           'parking':'parqueadero', 'prefarea':'periferia', 'furnishingstatus':'amoblado' })"
   ]
  },
  {
   "cell_type": "markdown",
   "id": "56626743",
   "metadata": {},
   "source": [
    "### ¿Qué pasó?"
   ]
  },
  {
   "cell_type": "markdown",
   "id": "458b0fc6",
   "metadata": {},
   "source": [
    " "
   ]
  },
  {
   "cell_type": "markdown",
   "id": "a9ba235b",
   "metadata": {},
   "source": [
    " "
   ]
  },
  {
   "cell_type": "markdown",
   "id": "6c3f7519",
   "metadata": {},
   "source": [
    "Lo intentamos nuevamente:"
   ]
  },
  {
   "cell_type": "code",
   "execution_count": 9,
   "id": "fbe93ccb",
   "metadata": {},
   "outputs": [],
   "source": [
    "df.rename({'price':'precio', 'bedrooms': 'cuartos', 'bathrooms':'banios', 'stories': 'pisos', 'mainroad':'carretera',\n",
    "          'guestroom':'cuarto_huespedes', 'basement': 'sotano', 'hotwaterheating':'calefaccion', 'airconditioning':'AC', \n",
    "           'parking':'parqueadero', 'prefarea':'periferia', 'furnishingstatus':'amoblado' }, axis=1, inplace=True)"
   ]
  },
  {
   "cell_type": "code",
   "execution_count": 10,
   "id": "f0f28e82",
   "metadata": {},
   "outputs": [
    {
     "data": {
      "text/html": [
       "<div>\n",
       "<style scoped>\n",
       "    .dataframe tbody tr th:only-of-type {\n",
       "        vertical-align: middle;\n",
       "    }\n",
       "\n",
       "    .dataframe tbody tr th {\n",
       "        vertical-align: top;\n",
       "    }\n",
       "\n",
       "    .dataframe thead th {\n",
       "        text-align: right;\n",
       "    }\n",
       "</style>\n",
       "<table border=\"1\" class=\"dataframe\">\n",
       "  <thead>\n",
       "    <tr style=\"text-align: right;\">\n",
       "      <th></th>\n",
       "      <th>precio</th>\n",
       "      <th>area</th>\n",
       "      <th>cuartos</th>\n",
       "      <th>banios</th>\n",
       "      <th>pisos</th>\n",
       "      <th>carretera</th>\n",
       "      <th>cuarto_huespedes</th>\n",
       "      <th>sotano</th>\n",
       "      <th>calefaccion</th>\n",
       "      <th>AC</th>\n",
       "      <th>parqueadero</th>\n",
       "      <th>periferia</th>\n",
       "      <th>amoblado</th>\n",
       "    </tr>\n",
       "  </thead>\n",
       "  <tbody>\n",
       "    <tr>\n",
       "      <th>0</th>\n",
       "      <td>13300000</td>\n",
       "      <td>7420</td>\n",
       "      <td>4</td>\n",
       "      <td>2</td>\n",
       "      <td>3</td>\n",
       "      <td>yes</td>\n",
       "      <td>no</td>\n",
       "      <td>no</td>\n",
       "      <td>no</td>\n",
       "      <td>yes</td>\n",
       "      <td>2</td>\n",
       "      <td>yes</td>\n",
       "      <td>furnished</td>\n",
       "    </tr>\n",
       "    <tr>\n",
       "      <th>1</th>\n",
       "      <td>12250000</td>\n",
       "      <td>8960</td>\n",
       "      <td>4</td>\n",
       "      <td>4</td>\n",
       "      <td>4</td>\n",
       "      <td>yes</td>\n",
       "      <td>no</td>\n",
       "      <td>no</td>\n",
       "      <td>no</td>\n",
       "      <td>yes</td>\n",
       "      <td>3</td>\n",
       "      <td>no</td>\n",
       "      <td>furnished</td>\n",
       "    </tr>\n",
       "    <tr>\n",
       "      <th>2</th>\n",
       "      <td>12250000</td>\n",
       "      <td>9960</td>\n",
       "      <td>3</td>\n",
       "      <td>2</td>\n",
       "      <td>2</td>\n",
       "      <td>yes</td>\n",
       "      <td>no</td>\n",
       "      <td>yes</td>\n",
       "      <td>no</td>\n",
       "      <td>no</td>\n",
       "      <td>2</td>\n",
       "      <td>yes</td>\n",
       "      <td>semi-furnished</td>\n",
       "    </tr>\n",
       "    <tr>\n",
       "      <th>3</th>\n",
       "      <td>12215000</td>\n",
       "      <td>7500</td>\n",
       "      <td>4</td>\n",
       "      <td>2</td>\n",
       "      <td>2</td>\n",
       "      <td>yes</td>\n",
       "      <td>no</td>\n",
       "      <td>yes</td>\n",
       "      <td>no</td>\n",
       "      <td>yes</td>\n",
       "      <td>3</td>\n",
       "      <td>yes</td>\n",
       "      <td>furnished</td>\n",
       "    </tr>\n",
       "    <tr>\n",
       "      <th>4</th>\n",
       "      <td>11410000</td>\n",
       "      <td>7420</td>\n",
       "      <td>4</td>\n",
       "      <td>1</td>\n",
       "      <td>2</td>\n",
       "      <td>yes</td>\n",
       "      <td>yes</td>\n",
       "      <td>yes</td>\n",
       "      <td>no</td>\n",
       "      <td>yes</td>\n",
       "      <td>2</td>\n",
       "      <td>no</td>\n",
       "      <td>furnished</td>\n",
       "    </tr>\n",
       "    <tr>\n",
       "      <th>...</th>\n",
       "      <td>...</td>\n",
       "      <td>...</td>\n",
       "      <td>...</td>\n",
       "      <td>...</td>\n",
       "      <td>...</td>\n",
       "      <td>...</td>\n",
       "      <td>...</td>\n",
       "      <td>...</td>\n",
       "      <td>...</td>\n",
       "      <td>...</td>\n",
       "      <td>...</td>\n",
       "      <td>...</td>\n",
       "      <td>...</td>\n",
       "    </tr>\n",
       "    <tr>\n",
       "      <th>540</th>\n",
       "      <td>1820000</td>\n",
       "      <td>3000</td>\n",
       "      <td>2</td>\n",
       "      <td>1</td>\n",
       "      <td>1</td>\n",
       "      <td>yes</td>\n",
       "      <td>no</td>\n",
       "      <td>yes</td>\n",
       "      <td>no</td>\n",
       "      <td>no</td>\n",
       "      <td>2</td>\n",
       "      <td>no</td>\n",
       "      <td>unfurnished</td>\n",
       "    </tr>\n",
       "    <tr>\n",
       "      <th>541</th>\n",
       "      <td>1767150</td>\n",
       "      <td>2400</td>\n",
       "      <td>3</td>\n",
       "      <td>1</td>\n",
       "      <td>1</td>\n",
       "      <td>no</td>\n",
       "      <td>no</td>\n",
       "      <td>no</td>\n",
       "      <td>no</td>\n",
       "      <td>no</td>\n",
       "      <td>0</td>\n",
       "      <td>no</td>\n",
       "      <td>semi-furnished</td>\n",
       "    </tr>\n",
       "    <tr>\n",
       "      <th>542</th>\n",
       "      <td>1750000</td>\n",
       "      <td>3620</td>\n",
       "      <td>2</td>\n",
       "      <td>1</td>\n",
       "      <td>1</td>\n",
       "      <td>yes</td>\n",
       "      <td>no</td>\n",
       "      <td>no</td>\n",
       "      <td>no</td>\n",
       "      <td>no</td>\n",
       "      <td>0</td>\n",
       "      <td>no</td>\n",
       "      <td>unfurnished</td>\n",
       "    </tr>\n",
       "    <tr>\n",
       "      <th>543</th>\n",
       "      <td>1750000</td>\n",
       "      <td>2910</td>\n",
       "      <td>3</td>\n",
       "      <td>1</td>\n",
       "      <td>1</td>\n",
       "      <td>no</td>\n",
       "      <td>no</td>\n",
       "      <td>no</td>\n",
       "      <td>no</td>\n",
       "      <td>no</td>\n",
       "      <td>0</td>\n",
       "      <td>no</td>\n",
       "      <td>furnished</td>\n",
       "    </tr>\n",
       "    <tr>\n",
       "      <th>544</th>\n",
       "      <td>1750000</td>\n",
       "      <td>3850</td>\n",
       "      <td>3</td>\n",
       "      <td>1</td>\n",
       "      <td>2</td>\n",
       "      <td>yes</td>\n",
       "      <td>no</td>\n",
       "      <td>no</td>\n",
       "      <td>no</td>\n",
       "      <td>no</td>\n",
       "      <td>0</td>\n",
       "      <td>no</td>\n",
       "      <td>unfurnished</td>\n",
       "    </tr>\n",
       "  </tbody>\n",
       "</table>\n",
       "<p>545 rows × 13 columns</p>\n",
       "</div>"
      ],
      "text/plain": [
       "       precio  area  cuartos  banios  pisos carretera cuarto_huespedes sotano  \\\n",
       "0    13300000  7420        4       2      3       yes               no     no   \n",
       "1    12250000  8960        4       4      4       yes               no     no   \n",
       "2    12250000  9960        3       2      2       yes               no    yes   \n",
       "3    12215000  7500        4       2      2       yes               no    yes   \n",
       "4    11410000  7420        4       1      2       yes              yes    yes   \n",
       "..        ...   ...      ...     ...    ...       ...              ...    ...   \n",
       "540   1820000  3000        2       1      1       yes               no    yes   \n",
       "541   1767150  2400        3       1      1        no               no     no   \n",
       "542   1750000  3620        2       1      1       yes               no     no   \n",
       "543   1750000  2910        3       1      1        no               no     no   \n",
       "544   1750000  3850        3       1      2       yes               no     no   \n",
       "\n",
       "    calefaccion   AC  parqueadero periferia        amoblado  \n",
       "0            no  yes            2       yes       furnished  \n",
       "1            no  yes            3        no       furnished  \n",
       "2            no   no            2       yes  semi-furnished  \n",
       "3            no  yes            3       yes       furnished  \n",
       "4            no  yes            2        no       furnished  \n",
       "..          ...  ...          ...       ...             ...  \n",
       "540          no   no            2        no     unfurnished  \n",
       "541          no   no            0        no  semi-furnished  \n",
       "542          no   no            0        no     unfurnished  \n",
       "543          no   no            0        no       furnished  \n",
       "544          no   no            0        no     unfurnished  \n",
       "\n",
       "[545 rows x 13 columns]"
      ]
     },
     "execution_count": 10,
     "metadata": {},
     "output_type": "execute_result"
    }
   ],
   "source": [
    "df"
   ]
  },
  {
   "cell_type": "markdown",
   "id": "b288aa7f",
   "metadata": {},
   "source": [
    "Perfecto. Ahora que tenemos identificadas los atributos en español, podemos comenzar con el análisis de la base de datos.\n",
    "\n",
    "Lo primero que deberíamos realizar es un pequeño resumen de nuestra base de datos. Para ello podemos utilizar varios comandos en Python, pero el que con mayor frecuencia utilizaremos es el método .describe() el cual nos retorna 8 líneas de resumen, siendo las 3 primeras medidas de tendencia central, 2 correspondientes al dato numérico máximo y mínimo y 3 líneas que devuelven los valores en los cuartiles especificados."
   ]
  },
  {
   "cell_type": "code",
   "execution_count": 12,
   "id": "13d1364b",
   "metadata": {},
   "outputs": [
    {
     "data": {
      "text/html": [
       "<div>\n",
       "<style scoped>\n",
       "    .dataframe tbody tr th:only-of-type {\n",
       "        vertical-align: middle;\n",
       "    }\n",
       "\n",
       "    .dataframe tbody tr th {\n",
       "        vertical-align: top;\n",
       "    }\n",
       "\n",
       "    .dataframe thead th {\n",
       "        text-align: right;\n",
       "    }\n",
       "</style>\n",
       "<table border=\"1\" class=\"dataframe\">\n",
       "  <thead>\n",
       "    <tr style=\"text-align: right;\">\n",
       "      <th></th>\n",
       "      <th>precio</th>\n",
       "      <th>area</th>\n",
       "      <th>cuartos</th>\n",
       "      <th>banios</th>\n",
       "      <th>pisos</th>\n",
       "      <th>parqueadero</th>\n",
       "    </tr>\n",
       "  </thead>\n",
       "  <tbody>\n",
       "    <tr>\n",
       "      <th>count</th>\n",
       "      <td>5.450000e+02</td>\n",
       "      <td>545.000000</td>\n",
       "      <td>545.000000</td>\n",
       "      <td>545.000000</td>\n",
       "      <td>545.000000</td>\n",
       "      <td>545.000000</td>\n",
       "    </tr>\n",
       "    <tr>\n",
       "      <th>mean</th>\n",
       "      <td>4.766729e+06</td>\n",
       "      <td>5150.541284</td>\n",
       "      <td>2.965138</td>\n",
       "      <td>1.286239</td>\n",
       "      <td>1.805505</td>\n",
       "      <td>0.693578</td>\n",
       "    </tr>\n",
       "    <tr>\n",
       "      <th>std</th>\n",
       "      <td>1.870440e+06</td>\n",
       "      <td>2170.141023</td>\n",
       "      <td>0.738064</td>\n",
       "      <td>0.502470</td>\n",
       "      <td>0.867492</td>\n",
       "      <td>0.861586</td>\n",
       "    </tr>\n",
       "    <tr>\n",
       "      <th>min</th>\n",
       "      <td>1.750000e+06</td>\n",
       "      <td>1650.000000</td>\n",
       "      <td>1.000000</td>\n",
       "      <td>1.000000</td>\n",
       "      <td>1.000000</td>\n",
       "      <td>0.000000</td>\n",
       "    </tr>\n",
       "    <tr>\n",
       "      <th>25%</th>\n",
       "      <td>3.430000e+06</td>\n",
       "      <td>3600.000000</td>\n",
       "      <td>2.000000</td>\n",
       "      <td>1.000000</td>\n",
       "      <td>1.000000</td>\n",
       "      <td>0.000000</td>\n",
       "    </tr>\n",
       "    <tr>\n",
       "      <th>50%</th>\n",
       "      <td>4.340000e+06</td>\n",
       "      <td>4600.000000</td>\n",
       "      <td>3.000000</td>\n",
       "      <td>1.000000</td>\n",
       "      <td>2.000000</td>\n",
       "      <td>0.000000</td>\n",
       "    </tr>\n",
       "    <tr>\n",
       "      <th>75%</th>\n",
       "      <td>5.740000e+06</td>\n",
       "      <td>6360.000000</td>\n",
       "      <td>3.000000</td>\n",
       "      <td>2.000000</td>\n",
       "      <td>2.000000</td>\n",
       "      <td>1.000000</td>\n",
       "    </tr>\n",
       "    <tr>\n",
       "      <th>max</th>\n",
       "      <td>1.330000e+07</td>\n",
       "      <td>16200.000000</td>\n",
       "      <td>6.000000</td>\n",
       "      <td>4.000000</td>\n",
       "      <td>4.000000</td>\n",
       "      <td>3.000000</td>\n",
       "    </tr>\n",
       "  </tbody>\n",
       "</table>\n",
       "</div>"
      ],
      "text/plain": [
       "             precio          area     cuartos      banios       pisos  \\\n",
       "count  5.450000e+02    545.000000  545.000000  545.000000  545.000000   \n",
       "mean   4.766729e+06   5150.541284    2.965138    1.286239    1.805505   \n",
       "std    1.870440e+06   2170.141023    0.738064    0.502470    0.867492   \n",
       "min    1.750000e+06   1650.000000    1.000000    1.000000    1.000000   \n",
       "25%    3.430000e+06   3600.000000    2.000000    1.000000    1.000000   \n",
       "50%    4.340000e+06   4600.000000    3.000000    1.000000    2.000000   \n",
       "75%    5.740000e+06   6360.000000    3.000000    2.000000    2.000000   \n",
       "max    1.330000e+07  16200.000000    6.000000    4.000000    4.000000   \n",
       "\n",
       "       parqueadero  \n",
       "count   545.000000  \n",
       "mean      0.693578  \n",
       "std       0.861586  \n",
       "min       0.000000  \n",
       "25%       0.000000  \n",
       "50%       0.000000  \n",
       "75%       1.000000  \n",
       "max       3.000000  "
      ]
     },
     "execution_count": 12,
     "metadata": {},
     "output_type": "execute_result"
    }
   ],
   "source": [
    "df.describe()"
   ]
  },
  {
   "cell_type": "markdown",
   "id": "5edbb7c9",
   "metadata": {},
   "source": [
    "Del output, podemos ver que sólo las variables numéricas son desplegadas dado que por su naturaleza si pueden agregarse o interpretarse por medidas de tendencia central y demás."
   ]
  },
  {
   "cell_type": "markdown",
   "id": "96684acb",
   "metadata": {},
   "source": [
    "#### Comentarios repecto a alguna variable?"
   ]
  },
  {
   "cell_type": "markdown",
   "id": "7de75688",
   "metadata": {},
   "source": [
    "### Datos perdidos"
   ]
  },
  {
   "cell_type": "markdown",
   "id": "f4efb05b",
   "metadata": {},
   "source": [
    "Exploremos en nuestra base si existen valores perdidos:"
   ]
  },
  {
   "cell_type": "code",
   "execution_count": 14,
   "id": "4a048c20",
   "metadata": {},
   "outputs": [
    {
     "data": {
      "text/plain": [
       "precio              0\n",
       "area                0\n",
       "cuartos             0\n",
       "banios              0\n",
       "pisos               0\n",
       "carretera           0\n",
       "cuarto_huespedes    0\n",
       "sotano              0\n",
       "calefaccion         0\n",
       "AC                  0\n",
       "parqueadero         0\n",
       "periferia           0\n",
       "amoblado            0\n",
       "dtype: int64"
      ]
     },
     "execution_count": 14,
     "metadata": {},
     "output_type": "execute_result"
    }
   ],
   "source": [
    "df.isna().sum()"
   ]
  },
  {
   "cell_type": "markdown",
   "id": "fb73219e",
   "metadata": {},
   "source": [
    "\n",
    "Recordemos que una regla básica para eliminar valores perdidos u observaciones que se encuentren erróneas es basándonos en:"
   ]
  },
  {
   "cell_type": "markdown",
   "id": "fb846067",
   "metadata": {},
   "source": [
    "- Siempre es mejor conservar los datos que descartarlos. Como regla general, se puede descartar variables si los datos faltantes corresponden a más del 60% de las observaciones, siempre teniendo en cuenta que la imputación es preferida sobre la eliminación de variables\n",
    "\n",
    "Existen 3 categorías de datos perdidos:\n",
    "\n",
    "   - Falta al azar (MAR): Cuando la propensión a que falte un punto de datos no está relacionado con los datos faltantes, pero sí con algunos de los datos observados.\n",
    "   \n",
    "   \n",
    "   - Missing Completely at Random (MCAR): Cuando el missing value no tiene nada que ver con su valor hipotético y con los valores de otras variables\n",
    "   \n",
    "   \n",
    "   - Missing not at Random (MNAR): Cuando los missing values dependen del valor hipotético (por ejemplo, las personas con salarios altos generalmente no quieren revelar sus ingresos en las encuestas) o cuando los missing values dependen del valor de alguna otra variable (por ejemplo, cuando en encuestas las mujeres no quieren revelar su edad. Aquí, el valor que falta en la variable de edad se ve afectado por la variable de género)\n"
   ]
  },
  {
   "cell_type": "markdown",
   "id": "ed584e29",
   "metadata": {},
   "source": [
    "En los primeros dos casos, es seguro eliminar los datos con valores faltantes dependiendo de sus ocurrencias, mientras que en el tercer caso, eliminar las observaciones con valores faltantes puede producir un sesgo en el modelo. Así que tenemos que tener mucho cuidado antes de eliminar las observaciones."
   ]
  },
  {
   "cell_type": "code",
   "execution_count": 15,
   "id": "3de2cd3e",
   "metadata": {},
   "outputs": [
    {
     "data": {
      "text/html": [
       "<div>\n",
       "<style scoped>\n",
       "    .dataframe tbody tr th:only-of-type {\n",
       "        vertical-align: middle;\n",
       "    }\n",
       "\n",
       "    .dataframe tbody tr th {\n",
       "        vertical-align: top;\n",
       "    }\n",
       "\n",
       "    .dataframe thead th {\n",
       "        text-align: right;\n",
       "    }\n",
       "</style>\n",
       "<table border=\"1\" class=\"dataframe\">\n",
       "  <thead>\n",
       "    <tr style=\"text-align: right;\">\n",
       "      <th></th>\n",
       "      <th>carretera</th>\n",
       "      <th>cuarto_huespedes</th>\n",
       "      <th>sotano</th>\n",
       "      <th>calefaccion</th>\n",
       "      <th>AC</th>\n",
       "      <th>periferia</th>\n",
       "      <th>amoblado</th>\n",
       "    </tr>\n",
       "  </thead>\n",
       "  <tbody>\n",
       "    <tr>\n",
       "      <th>count</th>\n",
       "      <td>545</td>\n",
       "      <td>545</td>\n",
       "      <td>545</td>\n",
       "      <td>545</td>\n",
       "      <td>545</td>\n",
       "      <td>545</td>\n",
       "      <td>545</td>\n",
       "    </tr>\n",
       "    <tr>\n",
       "      <th>unique</th>\n",
       "      <td>2</td>\n",
       "      <td>2</td>\n",
       "      <td>2</td>\n",
       "      <td>2</td>\n",
       "      <td>2</td>\n",
       "      <td>2</td>\n",
       "      <td>3</td>\n",
       "    </tr>\n",
       "    <tr>\n",
       "      <th>top</th>\n",
       "      <td>yes</td>\n",
       "      <td>no</td>\n",
       "      <td>no</td>\n",
       "      <td>no</td>\n",
       "      <td>no</td>\n",
       "      <td>no</td>\n",
       "      <td>semi-furnished</td>\n",
       "    </tr>\n",
       "    <tr>\n",
       "      <th>freq</th>\n",
       "      <td>468</td>\n",
       "      <td>448</td>\n",
       "      <td>354</td>\n",
       "      <td>520</td>\n",
       "      <td>373</td>\n",
       "      <td>417</td>\n",
       "      <td>227</td>\n",
       "    </tr>\n",
       "  </tbody>\n",
       "</table>\n",
       "</div>"
      ],
      "text/plain": [
       "       carretera cuarto_huespedes sotano calefaccion   AC periferia  \\\n",
       "count        545              545    545         545  545       545   \n",
       "unique         2                2      2           2    2         2   \n",
       "top          yes               no     no          no   no        no   \n",
       "freq         468              448    354         520  373       417   \n",
       "\n",
       "              amoblado  \n",
       "count              545  \n",
       "unique               3  \n",
       "top     semi-furnished  \n",
       "freq               227  "
      ]
     },
     "execution_count": 15,
     "metadata": {},
     "output_type": "execute_result"
    }
   ],
   "source": [
    "df.describe(include = 'object')"
   ]
  },
  {
   "cell_type": "markdown",
   "id": "b0113785",
   "metadata": {},
   "source": [
    "Comencemos con la forma más clásica de mostrar datos categóricos: un gráfico de barras"
   ]
  },
  {
   "cell_type": "code",
   "execution_count": 16,
   "id": "d589860b",
   "metadata": {},
   "outputs": [
    {
     "data": {
      "image/png": "[encoded data removed]",
      "text/plain": [
       "<Figure size 432x288 with 1 Axes>"
      ]
     },
     "metadata": {
      "needs_background": "light"
     },
     "output_type": "display_data"
    },
    {
     "data": {
      "image/png": "[encoded data removed]",
      "text/plain": [
       "<Figure size 432x288 with 1 Axes>"
      ]
     },
     "metadata": {
      "needs_background": "light"
     },
     "output_type": "display_data"
    },
    {
     "data": {
      "image/png": "[encoded data removed]",
      "text/plain": [
       "<Figure size 432x288 with 1 Axes>"
      ]
     },
     "metadata": {
      "needs_background": "light"
     },
     "output_type": "display_data"
    },
    {
     "data": {
      "image/png": "[encoded data removed]",
      "text/plain": [
       "<Figure size 432x288 with 1 Axes>"
      ]
     },
     "metadata": {
      "needs_background": "light"
     },
     "output_type": "display_data"
    },
    {
     "data": {
      "image/png": "[encoded data removed]",
      "text/plain": [
       "<Figure size 432x288 with 1 Axes>"
      ]
     },
     "metadata": {
      "needs_background": "light"
     },
     "output_type": "display_data"
    },
    {
     "data": {
      "image/png": "[encoded data removed]",
      "text/plain": [
       "<Figure size 432x288 with 1 Axes>"
      ]
     },
     "metadata": {
      "needs_background": "light"
     },
     "output_type": "display_data"
    },
    {
     "data": {
      "image/png": "[encoded data removed]",
      "text/plain": [
       "<Figure size 432x288 with 1 Axes>"
      ]
     },
     "metadata": {
      "needs_background": "light"
     },
     "output_type": "display_data"
    }
   ],
   "source": [
    "for i in df.select_dtypes(['object']).columns.difference(['modelo']):\n",
    "    if df[i].dtype=='object':\n",
    "        df[i].value_counts().plot(kind='bar', title=str(i))\n",
    "        plt.show()\n"
   ]
  },
  {
   "cell_type": "markdown",
   "id": "338fd6a0",
   "metadata": {},
   "source": [
    "Excelente!, no existen registros en nuestras variables categóricas de observaciones imputadas como 0 o con alguna denominación que nos haga sospechar valores perdidos."
   ]
  },
  {
   "cell_type": "markdown",
   "id": "d7eab0af",
   "metadata": {},
   "source": [
    "El siguiente paso en nuestro análisis es el análisis de correlaciones. Recordemos que con el ejemplo teórico fue sencillo dado que derivamos variables a partir de otra. El presente caso, es una base real por lo que es muy probable que las correlaciones sean menos intensas."
   ]
  },
  {
   "cell_type": "markdown",
   "id": "edf5df44",
   "metadata": {},
   "source": [
    "#### Correlaciones entre las variables"
   ]
  },
  {
   "cell_type": "code",
   "execution_count": 17,
   "id": "4cf06a7c",
   "metadata": {},
   "outputs": [
    {
     "data": {
      "text/html": [
       "<div>\n",
       "<style scoped>\n",
       "    .dataframe tbody tr th:only-of-type {\n",
       "        vertical-align: middle;\n",
       "    }\n",
       "\n",
       "    .dataframe tbody tr th {\n",
       "        vertical-align: top;\n",
       "    }\n",
       "\n",
       "    .dataframe thead th {\n",
       "        text-align: right;\n",
       "    }\n",
       "</style>\n",
       "<table border=\"1\" class=\"dataframe\">\n",
       "  <thead>\n",
       "    <tr style=\"text-align: right;\">\n",
       "      <th></th>\n",
       "      <th>precio</th>\n",
       "      <th>area</th>\n",
       "      <th>cuartos</th>\n",
       "      <th>banios</th>\n",
       "      <th>pisos</th>\n",
       "      <th>parqueadero</th>\n",
       "    </tr>\n",
       "  </thead>\n",
       "  <tbody>\n",
       "    <tr>\n",
       "      <th>precio</th>\n",
       "      <td>1.000000</td>\n",
       "      <td>0.535997</td>\n",
       "      <td>0.366494</td>\n",
       "      <td>0.517545</td>\n",
       "      <td>0.420712</td>\n",
       "      <td>0.384394</td>\n",
       "    </tr>\n",
       "    <tr>\n",
       "      <th>area</th>\n",
       "      <td>0.535997</td>\n",
       "      <td>1.000000</td>\n",
       "      <td>0.151858</td>\n",
       "      <td>0.193820</td>\n",
       "      <td>0.083996</td>\n",
       "      <td>0.352980</td>\n",
       "    </tr>\n",
       "    <tr>\n",
       "      <th>cuartos</th>\n",
       "      <td>0.366494</td>\n",
       "      <td>0.151858</td>\n",
       "      <td>1.000000</td>\n",
       "      <td>0.373930</td>\n",
       "      <td>0.408564</td>\n",
       "      <td>0.139270</td>\n",
       "    </tr>\n",
       "    <tr>\n",
       "      <th>banios</th>\n",
       "      <td>0.517545</td>\n",
       "      <td>0.193820</td>\n",
       "      <td>0.373930</td>\n",
       "      <td>1.000000</td>\n",
       "      <td>0.326165</td>\n",
       "      <td>0.177496</td>\n",
       "    </tr>\n",
       "    <tr>\n",
       "      <th>pisos</th>\n",
       "      <td>0.420712</td>\n",
       "      <td>0.083996</td>\n",
       "      <td>0.408564</td>\n",
       "      <td>0.326165</td>\n",
       "      <td>1.000000</td>\n",
       "      <td>0.045547</td>\n",
       "    </tr>\n",
       "    <tr>\n",
       "      <th>parqueadero</th>\n",
       "      <td>0.384394</td>\n",
       "      <td>0.352980</td>\n",
       "      <td>0.139270</td>\n",
       "      <td>0.177496</td>\n",
       "      <td>0.045547</td>\n",
       "      <td>1.000000</td>\n",
       "    </tr>\n",
       "  </tbody>\n",
       "</table>\n",
       "</div>"
      ],
      "text/plain": [
       "               precio      area   cuartos    banios     pisos  parqueadero\n",
       "precio       1.000000  0.535997  0.366494  0.517545  0.420712     0.384394\n",
       "area         0.535997  1.000000  0.151858  0.193820  0.083996     0.352980\n",
       "cuartos      0.366494  0.151858  1.000000  0.373930  0.408564     0.139270\n",
       "banios       0.517545  0.193820  0.373930  1.000000  0.326165     0.177496\n",
       "pisos        0.420712  0.083996  0.408564  0.326165  1.000000     0.045547\n",
       "parqueadero  0.384394  0.352980  0.139270  0.177496  0.045547     1.000000"
      ]
     },
     "execution_count": 17,
     "metadata": {},
     "output_type": "execute_result"
    }
   ],
   "source": [
    "df.corr()"
   ]
  },
  {
   "cell_type": "code",
   "execution_count": 18,
   "id": "6c0f7686",
   "metadata": {},
   "outputs": [
    {
     "data": {
      "text/html": [
       "<style type=\"text/css\">\n",
       "#T_f270d_row0_col0, #T_f270d_row1_col1, #T_f270d_row2_col2, #T_f270d_row3_col3, #T_f270d_row4_col4, #T_f270d_row5_col5 {\n",
       "  background-color: #b40426;\n",
       "  color: #f1f1f1;\n",
       "}\n",
       "#T_f270d_row0_col1 {\n",
       "  background-color: #dbdcde;\n",
       "  color: #000000;\n",
       "}\n",
       "#T_f270d_row0_col2 {\n",
       "  background-color: #92b4fe;\n",
       "  color: #000000;\n",
       "}\n",
       "#T_f270d_row0_col3 {\n",
       "  background-color: #c4d5f3;\n",
       "  color: #000000;\n",
       "}\n",
       "#T_f270d_row0_col4 {\n",
       "  background-color: #bed2f6;\n",
       "  color: #000000;\n",
       "}\n",
       "#T_f270d_row0_col5 {\n",
       "  background-color: #b1cbfc;\n",
       "  color: #000000;\n",
       "}\n",
       "#T_f270d_row1_col0 {\n",
       "  background-color: #93b5fe;\n",
       "  color: #000000;\n",
       "}\n",
       "#T_f270d_row1_col2 {\n",
       "  background-color: #3e51c5;\n",
       "  color: #f1f1f1;\n",
       "}\n",
       "#T_f270d_row1_col3 {\n",
       "  background-color: #4055c8;\n",
       "  color: #f1f1f1;\n",
       "}\n",
       "#T_f270d_row1_col4 {\n",
       "  background-color: #465ecf;\n",
       "  color: #f1f1f1;\n",
       "}\n",
       "#T_f270d_row1_col5 {\n",
       "  background-color: #a6c4fe;\n",
       "  color: #000000;\n",
       "}\n",
       "#T_f270d_row2_col0, #T_f270d_row4_col1, #T_f270d_row4_col5, #T_f270d_row5_col2, #T_f270d_row5_col3, #T_f270d_row5_col4 {\n",
       "  background-color: #3b4cc0;\n",
       "  color: #f1f1f1;\n",
       "}\n",
       "#T_f270d_row2_col1 {\n",
       "  background-color: #506bda;\n",
       "  color: #f1f1f1;\n",
       "}\n",
       "#T_f270d_row2_col3, #T_f270d_row3_col0 {\n",
       "  background-color: #89acfd;\n",
       "  color: #000000;\n",
       "}\n",
       "#T_f270d_row2_col4 {\n",
       "  background-color: #bad0f8;\n",
       "  color: #000000;\n",
       "}\n",
       "#T_f270d_row2_col5 {\n",
       "  background-color: #5977e3;\n",
       "  color: #f1f1f1;\n",
       "}\n",
       "#T_f270d_row3_col1 {\n",
       "  background-color: #5f7fe8;\n",
       "  color: #f1f1f1;\n",
       "}\n",
       "#T_f270d_row3_col2 {\n",
       "  background-color: #94b6ff;\n",
       "  color: #000000;\n",
       "}\n",
       "#T_f270d_row3_col4, #T_f270d_row5_col1 {\n",
       "  background-color: #9dbdff;\n",
       "  color: #000000;\n",
       "}\n",
       "#T_f270d_row3_col5 {\n",
       "  background-color: #6687ed;\n",
       "  color: #f1f1f1;\n",
       "}\n",
       "#T_f270d_row4_col0 {\n",
       "  background-color: #5470de;\n",
       "  color: #f1f1f1;\n",
       "}\n",
       "#T_f270d_row4_col2 {\n",
       "  background-color: #a3c2fe;\n",
       "  color: #000000;\n",
       "}\n",
       "#T_f270d_row4_col3 {\n",
       "  background-color: #7597f6;\n",
       "  color: #f1f1f1;\n",
       "}\n",
       "#T_f270d_row5_col0 {\n",
       "  background-color: #4358cb;\n",
       "  color: #f1f1f1;\n",
       "}\n",
       "</style>\n",
       "<table id=\"T_f270d_\">\n",
       "  <thead>\n",
       "    <tr>\n",
       "      <th class=\"blank level0\" >&nbsp;</th>\n",
       "      <th class=\"col_heading level0 col0\" >precio</th>\n",
       "      <th class=\"col_heading level0 col1\" >area</th>\n",
       "      <th class=\"col_heading level0 col2\" >cuartos</th>\n",
       "      <th class=\"col_heading level0 col3\" >banios</th>\n",
       "      <th class=\"col_heading level0 col4\" >pisos</th>\n",
       "      <th class=\"col_heading level0 col5\" >parqueadero</th>\n",
       "    </tr>\n",
       "  </thead>\n",
       "  <tbody>\n",
       "    <tr>\n",
       "      <th id=\"T_f270d_level0_row0\" class=\"row_heading level0 row0\" >precio</th>\n",
       "      <td id=\"T_f270d_row0_col0\" class=\"data row0 col0\" >1.000000</td>\n",
       "      <td id=\"T_f270d_row0_col1\" class=\"data row0 col1\" >0.535997</td>\n",
       "      <td id=\"T_f270d_row0_col2\" class=\"data row0 col2\" >0.366494</td>\n",
       "      <td id=\"T_f270d_row0_col3\" class=\"data row0 col3\" >0.517545</td>\n",
       "      <td id=\"T_f270d_row0_col4\" class=\"data row0 col4\" >0.420712</td>\n",
       "      <td id=\"T_f270d_row0_col5\" class=\"data row0 col5\" >0.384394</td>\n",
       "    </tr>\n",
       "    <tr>\n",
       "      <th id=\"T_f270d_level0_row1\" class=\"row_heading level0 row1\" >area</th>\n",
       "      <td id=\"T_f270d_row1_col0\" class=\"data row1 col0\" >0.535997</td>\n",
       "      <td id=\"T_f270d_row1_col1\" class=\"data row1 col1\" >1.000000</td>\n",
       "      <td id=\"T_f270d_row1_col2\" class=\"data row1 col2\" >0.151858</td>\n",
       "      <td id=\"T_f270d_row1_col3\" class=\"data row1 col3\" >0.193820</td>\n",
       "      <td id=\"T_f270d_row1_col4\" class=\"data row1 col4\" >0.083996</td>\n",
       "      <td id=\"T_f270d_row1_col5\" class=\"data row1 col5\" >0.352980</td>\n",
       "    </tr>\n",
       "    <tr>\n",
       "      <th id=\"T_f270d_level0_row2\" class=\"row_heading level0 row2\" >cuartos</th>\n",
       "      <td id=\"T_f270d_row2_col0\" class=\"data row2 col0\" >0.366494</td>\n",
       "      <td id=\"T_f270d_row2_col1\" class=\"data row2 col1\" >0.151858</td>\n",
       "      <td id=\"T_f270d_row2_col2\" class=\"data row2 col2\" >1.000000</td>\n",
       "      <td id=\"T_f270d_row2_col3\" class=\"data row2 col3\" >0.373930</td>\n",
       "      <td id=\"T_f270d_row2_col4\" class=\"data row2 col4\" >0.408564</td>\n",
       "      <td id=\"T_f270d_row2_col5\" class=\"data row2 col5\" >0.139270</td>\n",
       "    </tr>\n",
       "    <tr>\n",
       "      <th id=\"T_f270d_level0_row3\" class=\"row_heading level0 row3\" >banios</th>\n",
       "      <td id=\"T_f270d_row3_col0\" class=\"data row3 col0\" >0.517545</td>\n",
       "      <td id=\"T_f270d_row3_col1\" class=\"data row3 col1\" >0.193820</td>\n",
       "      <td id=\"T_f270d_row3_col2\" class=\"data row3 col2\" >0.373930</td>\n",
       "      <td id=\"T_f270d_row3_col3\" class=\"data row3 col3\" >1.000000</td>\n",
       "      <td id=\"T_f270d_row3_col4\" class=\"data row3 col4\" >0.326165</td>\n",
       "      <td id=\"T_f270d_row3_col5\" class=\"data row3 col5\" >0.177496</td>\n",
       "    </tr>\n",
       "    <tr>\n",
       "      <th id=\"T_f270d_level0_row4\" class=\"row_heading level0 row4\" >pisos</th>\n",
       "      <td id=\"T_f270d_row4_col0\" class=\"data row4 col0\" >0.420712</td>\n",
       "      <td id=\"T_f270d_row4_col1\" class=\"data row4 col1\" >0.083996</td>\n",
       "      <td id=\"T_f270d_row4_col2\" class=\"data row4 col2\" >0.408564</td>\n",
       "      <td id=\"T_f270d_row4_col3\" class=\"data row4 col3\" >0.326165</td>\n",
       "      <td id=\"T_f270d_row4_col4\" class=\"data row4 col4\" >1.000000</td>\n",
       "      <td id=\"T_f270d_row4_col5\" class=\"data row4 col5\" >0.045547</td>\n",
       "    </tr>\n",
       "    <tr>\n",
       "      <th id=\"T_f270d_level0_row5\" class=\"row_heading level0 row5\" >parqueadero</th>\n",
       "      <td id=\"T_f270d_row5_col0\" class=\"data row5 col0\" >0.384394</td>\n",
       "      <td id=\"T_f270d_row5_col1\" class=\"data row5 col1\" >0.352980</td>\n",
       "      <td id=\"T_f270d_row5_col2\" class=\"data row5 col2\" >0.139270</td>\n",
       "      <td id=\"T_f270d_row5_col3\" class=\"data row5 col3\" >0.177496</td>\n",
       "      <td id=\"T_f270d_row5_col4\" class=\"data row5 col4\" >0.045547</td>\n",
       "      <td id=\"T_f270d_row5_col5\" class=\"data row5 col5\" >1.000000</td>\n",
       "    </tr>\n",
       "  </tbody>\n",
       "</table>\n"
      ],
      "text/plain": [
       "<pandas.io.formats.style.Styler at 0x23411127880>"
      ]
     },
     "execution_count": 18,
     "metadata": {},
     "output_type": "execute_result"
    }
   ],
   "source": [
    "df.corr().style.background_gradient(cmap='coolwarm')"
   ]
  },
  {
   "cell_type": "markdown",
   "id": "75bd49fd",
   "metadata": {},
   "source": [
    "#### Interpretación"
   ]
  },
  {
   "cell_type": "markdown",
   "id": "8b5857d7",
   "metadata": {},
   "source": [
    "Para la interpretación de la matriz de correlaciones, que es una herramienta que cuantifica el grado de asociación lineal entre dos variables, escogeré la más alta positiva y la más alta negativa para que puedan replicar la interpretación con las demás variables."
   ]
  },
  {
   "cell_type": "markdown",
   "id": "06fa260e",
   "metadata": {},
   "source": [
    "En el caso de correlación positiva, el mayor valor se encuentra entre las variables: precio y area. Y su interpretación sería de la siguiente forma:\n",
    "\n",
    "        \"A medida que area incrementa, también lo hace el precio del inmueble\""
   ]
  },
  {
   "cell_type": "markdown",
   "id": "cf3a20f4",
   "metadata": {},
   "source": [
    "Aunque no existen correlaciones negativas, de existir lo que nos indicarían es que si una variable disminuye la otra aumentaría y viceversa. En otras palabras, indica que las variables analizadas se mueven en direcciones opuestas."
   ]
  },
  {
   "cell_type": "markdown",
   "id": "c5aec7bc",
   "metadata": {},
   "source": [
    "A seguir, procederemos a visualizar las variables en pares por medio de la función de seaborn pairplot. En general, la visualización de las variables es un paso importante antes de la aplicación de la herramienta de regresión."
   ]
  },
  {
   "cell_type": "code",
   "execution_count": 13,
   "id": "98d4c7af",
   "metadata": {},
   "outputs": [],
   "source": [
    "var_cuantitativas = df.select_dtypes('number').columns\n",
    "var_cualitativas  =df.select_dtypes('object').columns"
   ]
  },
  {
   "cell_type": "code",
   "execution_count": 14,
   "id": "7f7b57c5",
   "metadata": {},
   "outputs": [
    {
     "data": {
      "image/png": "[encoded data removed]",
      "text/plain": [
       "<Figure size 864x864 with 5 Axes>"
      ]
     },
     "metadata": {
      "needs_background": "light"
     },
     "output_type": "display_data"
    }
   ],
   "source": [
    "# Número de las variables\n",
    "n = 6\n",
    "fig = plt.figure(figsize=(12,12))\n",
    "# Correlaciones en pares\n",
    "corr = df.corr()\n",
    "#\n",
    "cols = corr.nlargest(6, \"precio\")[\"precio\"].index\n",
    "# Calculate correlation\n",
    "for i in np.arange(1,6):\n",
    "    regline = df[cols[i]]\n",
    "    ax = fig.add_subplot(3,2,i)\n",
    "    sns.regplot(x=regline, y=df['precio'], scatter_kws={\"color\": \"royalblue\", \"s\": 3},\n",
    "                line_kws={\"color\": \"turquoise\"})\n",
    "plt.tight_layout()\n",
    "plt.show()"
   ]
  },
  {
   "cell_type": "markdown",
   "id": "a86fd159",
   "metadata": {},
   "source": [
    "Del pairplot, se puede observar que nuestra variable \"Y\" tiene algunos valores muy altos que podrían ser outliers, por lo que se procede a verificar si la variable objetivo tiene una distribución aproximadamente normal. Para ello tenemos dos opciones gráficas:\n",
    "- el Q-Q plot del script anterior\n",
    "- y un gráfico de dspersión dentro del module seaborn"
   ]
  },
  {
   "cell_type": "markdown",
   "id": "fd62ddab",
   "metadata": {},
   "source": [
    "Como aplicamos el Q-Q plot en el script anterior, corramos esta vez un displot a nuestra variable objetivo"
   ]
  },
  {
   "cell_type": "code",
   "execution_count": 15,
   "id": "dd64f5c3",
   "metadata": {},
   "outputs": [
    {
     "data": {
      "text/plain": [
       "<AxesSubplot:xlabel='precio', ylabel='Density'>"
      ]
     },
     "execution_count": 15,
     "metadata": {},
     "output_type": "execute_result"
    },
    {
     "data": {
      "image/png": "[encoded data removed]",
      "text/plain": [
       "<Figure size 432x288 with 1 Axes>"
      ]
     },
     "metadata": {
      "needs_background": "light"
     },
     "output_type": "display_data"
    }
   ],
   "source": [
    "sns.distplot(df['precio'],color=\"blue\")"
   ]
  },
  {
   "cell_type": "markdown",
   "id": "6ee31f9c",
   "metadata": {},
   "source": [
    "Como podemos observar la distribución de nuestra variable objetivo tiene una cola derecha muy larga, lo que se conoce como que la distribución está sesgada a la derecha. Para corregir este particular, procedemos a dejar por fuera del análisis a las observaciones que son outliers o datos atípicos."
   ]
  },
  {
   "cell_type": "markdown",
   "id": "327752cd",
   "metadata": {},
   "source": [
    "Recordemos que existen dos métodos puntuales para identificar a los datos atípicos o outliers:\n",
    "\n",
    "- El primero es el gráfico por boxplot que trabaja tras cámaras con la diferencia de los rangos intercuartiles. IQR y \n",
    "- El segundo que toma 3 desviaciones estándar de esa variable cuando esta es normalmente distribuída.\n",
    "\n",
    "Como nuestra variable no lo es, procedemos al método del rango intercuartil."
   ]
  },
  {
   "attachments": {},
   "cell_type": "markdown",
   "id": "4b20d662",
   "metadata": {},
   "source": [
    "![image-4.png](https://raw.githubusercontent.com/marcecevallos/UDLA_Analitica_predictiva/main/Regresi%C3%B3n%20Linear%20simple%20aplicada/iqr_plot.png)"
   ]
  },
  {
   "cell_type": "markdown",
   "id": "f07d9eb3",
   "metadata": {},
   "source": [
    "_Fuente: Research Gate: Improving the Accuracy of Convolutional Neural Networks by Identifying and Removing Outlier Images in Datasets Using t-SNE_"
   ]
  },
  {
   "cell_type": "code",
   "execution_count": 16,
   "id": "ebb752af",
   "metadata": {},
   "outputs": [
    {
     "name": "stdout",
     "output_type": "stream",
     "text": [
      "2310000.0\n"
     ]
    }
   ],
   "source": [
    "# Calculamos el Quartil 1 y Quartil 3 que son aquellos que nos permiten estimar los límites de los datos atípicos\n",
    "Q1 = df.precio.quantile(0.25)\n",
    "Q3 = df.precio.quantile(0.75)\n",
    "IQR = Q3 - Q1  #rango intercuartil\n",
    "print(IQR)"
   ]
  },
  {
   "cell_type": "code",
   "execution_count": 17,
   "id": "17077d8e",
   "metadata": {},
   "outputs": [
    {
     "data": {
      "text/plain": [
       "(530, 13)"
      ]
     },
     "execution_count": 17,
     "metadata": {},
     "output_type": "execute_result"
    }
   ],
   "source": [
    "# Ahora removemos aquellas observaciones que se encuentran por fuera del rango: 1.5 x IOR\n",
    "df = df[~((df['precio'] < (Q1 - 1.5 * IQR)) |(df['precio'] > (Q3 + 1.5 * IQR)))]\n",
    "df.shape"
   ]
  },
  {
   "cell_type": "code",
   "execution_count": 18,
   "id": "7dbfb5c4",
   "metadata": {},
   "outputs": [
    {
     "data": {
      "text/plain": [
       "<AxesSubplot:xlabel='precio', ylabel='Density'>"
      ]
     },
     "execution_count": 18,
     "metadata": {},
     "output_type": "execute_result"
    },
    {
     "data": {
      "image/png": "[encoded data removed]",
      "text/plain": [
       "<Figure size 432x288 with 1 Axes>"
      ]
     },
     "metadata": {
      "needs_background": "light"
     },
     "output_type": "display_data"
    }
   ],
   "source": [
    "sns.distplot(df['precio'],color=\"blue\")"
   ]
  },
  {
   "cell_type": "markdown",
   "id": "87d837b6",
   "metadata": {},
   "source": [
    "Mucho mejor!"
   ]
  },
  {
   "cell_type": "markdown",
   "id": "b975218f",
   "metadata": {},
   "source": [
    "Nuestra variable dependiente se encuentra en un estado aceptable para introducirla a nuestro análisis de regresión"
   ]
  },
  {
   "cell_type": "markdown",
   "id": "fecfb42f",
   "metadata": {},
   "source": [
    "## La Regresión Lineal en nuestra base de datos"
   ]
  },
  {
   "cell_type": "markdown",
   "id": "066fd7a0",
   "metadata": {},
   "source": [
    "Habíamos dicho previamente que la Regresión era una herramienta estadística que nos permitía explorar la relación entre una variable explicativa y una variable de respuesta. En nuestra base de datos, la variable respuesta que seleccionaremos será el precio del vehículo usado, y las demás variables fungirán como variables para explicar la relación entre ellas y nuestra variable \"Y\"."
   ]
  },
  {
   "cell_type": "markdown",
   "id": "f33502bc",
   "metadata": {},
   "source": [
    "Como la variable respuesta es numérica y existe una correlación lineal moderada, podemos iniciar con un análisis gráfico de las variables seleccionadas para luego continuar con el análisis de Regresión Lineal simple en la cual, sólo consideraremos una variable explicativa o \"X\"."
   ]
  },
  {
   "cell_type": "markdown",
   "id": "6fe2942f",
   "metadata": {},
   "source": [
    "Una adición interesante a este gráfico es una línea de tendencia calculada por Regresión lineal para observar que tanto se ajusta la recta a la nube de puntos.\n"
   ]
  },
  {
   "cell_type": "code",
   "execution_count": 19,
   "id": "5241de74",
   "metadata": {},
   "outputs": [
    {
     "data": {
      "image/png": "[encoded data removed]",
      "text/plain": [
       "<Figure size 432x288 with 1 Axes>"
      ]
     },
     "metadata": {
      "needs_background": "light"
     },
     "output_type": "display_data"
    }
   ],
   "source": [
    "sns.regplot(y='precio', \n",
    "            x= 'area',\n",
    "            data=df, \n",
    "            line_kws={'color': 'turquoise'})\n",
    "plt.show()"
   ]
  },
  {
   "cell_type": "markdown",
   "id": "eb16ba68",
   "metadata": {},
   "source": [
    "Apriori, vemos que la nube de puntos está distribuída no uniformemente a lo largo de la recta de Regresión por lo que antes de obtener los resultados del modelo, y a pesar de que la fuerza de asociación lineal entre las dos variables sea de 54%, la variabilidad expresada por la variable explicativa será menor en términos de R^2 y R^2 ajustado."
   ]
  },
  {
   "cell_type": "markdown",
   "id": "8d34c104",
   "metadata": {},
   "source": [
    "Esta medida es de especial interés al obtener resultados en modelos puesto que representa la bondad de ajuste de un modelo. En el contexto de la regresión, esto se traduce a una medida estadística de qué tan bien la línea de regresión se aproxima a los datos reales. Por lo tanto, es importante cuando se usa un modelo estadístico para predecir resultados futuros o en la prueba de hipótesis. Su fórmula se define como:"
   ]
  },
  {
   "cell_type": "markdown",
   "id": "084d237e",
   "metadata": {},
   "source": [
    "\\begin{align} R^2&=1-\\frac{\\text{suma de los residuos al cuadrado (SSR)}}{\\text{la suma de la distancia de los datos de la media, al cuadrado (SST)}},\\\\\\ R^2&=1-\\frac{\\sum({y_i}-\\hat{y_i})^2}{\\sum(y_i-\\bar{y})^2}. \\end{align}\n"
   ]
  },
  {
   "cell_type": "markdown",
   "id": "c7b02965",
   "metadata": {},
   "source": [
    "#### Corramos el modelo de Regresión Lineal"
   ]
  },
  {
   "cell_type": "markdown",
   "id": "2f72f059",
   "metadata": {},
   "source": [
    "Recordemos que nuestra variable dependiente \"Y\" será el precio y su valor dependerá de la variable cilindraje, lo cual representado matemáticamente equivaldría a:"
   ]
  },
  {
   "cell_type": "markdown",
   "id": "cc17dfaa",
   "metadata": {},
   "source": [
    "$$\\hat precio=\\underbrace{\\hat  \\beta_0+\\hat  \\beta_{1}area}_{modelo}+\\underbrace{\\epsilon}_{error} $$"
   ]
  },
  {
   "cell_type": "code",
   "execution_count": 20,
   "id": "29729d8a",
   "metadata": {},
   "outputs": [],
   "source": [
    "regresion = ols(\"precio~area\", data=df)\n",
    "results = regresion.fit()"
   ]
  },
  {
   "cell_type": "code",
   "execution_count": 21,
   "id": "776b9275",
   "metadata": {},
   "outputs": [
    {
     "name": "stdout",
     "output_type": "stream",
     "text": [
      "                            OLS Regression Results                            \n",
      "==============================================================================\n",
      "Dep. Variable:                 precio   R-squared:                       0.260\n",
      "Model:                            OLS   Adj. R-squared:                  0.259\n",
      "Method:                 Least Squares   F-statistic:                     185.5\n",
      "Date:                Wed, 26 Oct 2022   Prob (F-statistic):           2.07e-36\n",
      "Time:                        07:32:10   Log-Likelihood:                -8241.8\n",
      "No. Observations:                 530   AIC:                         1.649e+04\n",
      "Df Residuals:                     528   BIC:                         1.650e+04\n",
      "Df Model:                           1                                         \n",
      "Covariance Type:            nonrobust                                         \n",
      "==============================================================================\n",
      "                 coef    std err          t      P>|t|      [0.025      0.975]\n",
      "------------------------------------------------------------------------------\n",
      "Intercept   2.616e+06   1.57e+05     16.611      0.000    2.31e+06    2.93e+06\n",
      "area         392.1034     28.792     13.619      0.000     335.543     448.664\n",
      "==============================================================================\n",
      "Omnibus:                       29.016   Durbin-Watson:                   0.509\n",
      "Prob(Omnibus):                  0.000   Jarque-Bera (JB):               32.439\n",
      "Skew:                           0.567   Prob(JB):                     9.04e-08\n",
      "Kurtosis:                       3.426   Cond. No.                     1.44e+04\n",
      "==============================================================================\n",
      "\n",
      "Notes:\n",
      "[1] Standard Errors assume that the covariance matrix of the errors is correctly specified.\n",
      "[2] The condition number is large, 1.44e+04. This might indicate that there are\n",
      "strong multicollinearity or other numerical problems.\n"
     ]
    }
   ],
   "source": [
    "print(results.summary())"
   ]
  },
  {
   "cell_type": "markdown",
   "id": "ba60e92c",
   "metadata": {},
   "source": [
    "Qué diferencia verdad?"
   ]
  },
  {
   "cell_type": "markdown",
   "id": "0ef5dfa1",
   "metadata": {},
   "source": [
    "Los resultados del modelo sugieren que el modelo de regresión simple alcanza a explicar únicamente en un 26% la variabilidad de \"Y\" con nuestra variable \"X\""
   ]
  },
  {
   "cell_type": "markdown",
   "id": "b3197b48",
   "metadata": {},
   "source": [
    "## Verificación de los supuestos de la Regresión Lineal"
   ]
  },
  {
   "cell_type": "markdown",
   "id": "c7a6d366",
   "metadata": {},
   "source": [
    "Dado que contamos con una sola variable explicativa en este modelo de Regresión Lineal, los supuestos a verificar se centrarán en:\n",
    "\n",
    "- Linealidad en los parámetros\n",
    "    \n",
    "- Normalidad en los residuos\n",
    "    \n",
    "- Homocedasticidad en los residuos"
   ]
  },
  {
   "cell_type": "markdown",
   "id": "f5e980f3",
   "metadata": {},
   "source": [
    "### 1. Linealidad en los parametros"
   ]
  },
  {
   "cell_type": "markdown",
   "id": "0612103d",
   "metadata": {},
   "source": [
    "Para comprobar este supuesto podemos utilizar las primeras gráficas generadas en este script o generar un pairplot que va a realizar el mismo proceso pero de forma más automática."
   ]
  },
  {
   "cell_type": "code",
   "execution_count": 22,
   "id": "0038d489",
   "metadata": {},
   "outputs": [
    {
     "data": {
      "text/plain": [
       "<seaborn.axisgrid.PairGrid at 0x1f68c19c850>"
      ]
     },
     "execution_count": 22,
     "metadata": {},
     "output_type": "execute_result"
    },
    {
     "data": {
      "image/png": "[encoded data removed]",
      "text/plain": [
       "<Figure size 288x288 with 1 Axes>"
      ]
     },
     "metadata": {
      "needs_background": "light"
     },
     "output_type": "display_data"
    }
   ],
   "source": [
    "sns.pairplot(x_vars='area', y_vars='precio' , data=df, size=4)"
   ]
  },
  {
   "cell_type": "markdown",
   "id": "d8ea52f3",
   "metadata": {},
   "source": [
    "Como la nube de puntos podría caer a lo largo de una línea recta, entonces existe algún tipo de relación lineal entre las dos variables, pero gráficamente no podemos estar seguros si esta suposición se cumpliría.\n",
    "Pero como ningún parámetro aparece como exponente, ni multiplicado o dividido por otro parámetro, podemos avanzar hacia los otros dos supuestos.\n"
   ]
  },
  {
   "cell_type": "markdown",
   "id": "07b4a7cc",
   "metadata": {},
   "source": [
    "### 2. Normalidad en los residuos"
   ]
  },
  {
   "cell_type": "markdown",
   "id": "20ee04d3",
   "metadata": {},
   "source": [
    "Para la normalidad en los residuos del modelo, compararemos mediantelos gráficos QQ (o gráfico de cuantiles-cuantiles)si los puntos del gráfico forman aproximadamente una línea diagonal recta."
   ]
  },
  {
   "cell_type": "code",
   "execution_count": 23,
   "id": "97dc88da",
   "metadata": {},
   "outputs": [
    {
     "data": {
      "image/png": "[encoded data removed]",
      "text/plain": [
       "<Figure size 432x288 with 1 Axes>"
      ]
     },
     "execution_count": 23,
     "metadata": {},
     "output_type": "execute_result"
    },
    {
     "data": {
      "image/png": "[encoded data removed]",
      "text/plain": [
       "<Figure size 432x288 with 1 Axes>"
      ]
     },
     "metadata": {
      "needs_background": "light"
     },
     "output_type": "display_data"
    }
   ],
   "source": [
    "sm.qqplot(results.resid, line='q')"
   ]
  },
  {
   "cell_type": "markdown",
   "id": "69c5c6f9",
   "metadata": {},
   "source": [
    "Como podemos ver, las líneas azules que representan a los residuos caen cerca de la línea recta sobretodo en la posición central, pero también existen varios puntos que caen muy por fuera de la línea, por lo que un anális de valores extremos podría ser conveniente.\n",
    "Si quisiésemos validar la prueba gráfica con la estadística, podríamos recurrir a una de las pruebas detalladas en la secciónde supuestos.\n",
    "En este caso, aplicaremos la prueba de Jarque-Bera para validar la hipótesis de normalidad en residuos."
   ]
  },
  {
   "cell_type": "markdown",
   "id": "29b43215",
   "metadata": {},
   "source": [
    "Para aplicar una prueba estadística como la de Jarque Bera, recordemos que debemos importar un submódulo de statsmodels que son las estadísticas \"stats\""
   ]
  },
  {
   "cell_type": "markdown",
   "id": "f5456c3b",
   "metadata": {},
   "source": [
    "La hipótesis nula de este test es:\n",
    "\n",
    "- H0: Los datos se distribuyen normalmente\n",
    "- H1: Los datos no se distribuyen normalmente"
   ]
  },
  {
   "cell_type": "code",
   "execution_count": 24,
   "id": "70d90435",
   "metadata": {},
   "outputs": [
    {
     "data": {
      "text/plain": [
       "[('Jarque-Bera', 32.438910278057804),\n",
       " ('Chi^2 two-tail prob.', 9.036081381453262e-08),\n",
       " ('Skew', 0.5672610938197274),\n",
       " ('Kurtosis', 3.4263697830873903)]"
      ]
     },
     "execution_count": 24,
     "metadata": {},
     "output_type": "execute_result"
    }
   ],
   "source": [
    "nombres = [\"Jarque-Bera\", \"Chi^2 two-tail prob.\", \"Skew\", \"Kurtosis\"]\n",
    "jarque_bera = sms.jarque_bera(results.resid)\n",
    "lzip(nombres, jarque_bera)"
   ]
  },
  {
   "cell_type": "markdown",
   "id": "f2850643",
   "metadata": {},
   "source": [
    "El estadístico de Jarque Bera es grande, lo cual en conjunto con la probabilidad del chi^2 el cual es menor que .05, nos indica que podemos rechazar la hipótesis nula, por lo que tenemos suficiente evidencia para decir que estos datos tienen asimetría y curtosis que es significativamente diferente de una distribución normal."
   ]
  },
  {
   "cell_type": "markdown",
   "id": "2333ddd7",
   "metadata": {},
   "source": [
    "Recordemos que en el script anterior vimos que de violarse este supuesto tenemos las siguientes opciones:\n",
    "\n",
    "- Verificar que los valores atípicos no tengan un gran impacto en la distribución. De existir, debemos asegurarnos que sean valores reales y que no sean errores de imputación de datos.\n",
    "\n",
    "- Otro recurso también es aplicar una transformación no lineal a la variable independiente y / o dependiente."
   ]
  },
  {
   "cell_type": "markdown",
   "id": "43045ce6",
   "metadata": {},
   "source": [
    "Finalmemte, podemos contrastar si la media de los residuos de este modelo es 0, o muy cercano a este. Para esto podemos extrar los residuos del modelo y calcular la media directamente:"
   ]
  },
  {
   "cell_type": "code",
   "execution_count": 25,
   "id": "dabc533a",
   "metadata": {},
   "outputs": [
    {
     "data": {
      "text/plain": [
       "-3.4230497648131173e-09"
      ]
     },
     "execution_count": 25,
     "metadata": {},
     "output_type": "execute_result"
    }
   ],
   "source": [
    "results.resid.mean()"
   ]
  },
  {
   "cell_type": "markdown",
   "id": "bc2063d0",
   "metadata": {},
   "source": [
    "La media de los residuos tiende a cero y es muy pequeña por lo que no se estaría violando este supuesto."
   ]
  },
  {
   "cell_type": "markdown",
   "id": "cb8bdc6d",
   "metadata": {},
   "source": [
    "### 3. Homocedasticidad en los residuos"
   ]
  },
  {
   "cell_type": "markdown",
   "id": "a112cd31",
   "metadata": {},
   "source": [
    "Para comprobar este supuesto podemos graficar los valores ajustados frente a una gráfica de residuos. De existir heterocedasticidad, los residuos se dispersarán mucho más a medida que los valores ajustados aumenten creando una imagen de cono.\n",
    "\n",
    "Aplicando a Python este gráfico se obtendría por medio del comando residplot dentro de seaborn."
   ]
  },
  {
   "cell_type": "code",
   "execution_count": 26,
   "id": "495c5af0",
   "metadata": {},
   "outputs": [],
   "source": [
    "y_pred=results.predict()"
   ]
  },
  {
   "cell_type": "code",
   "execution_count": 27,
   "id": "7a8324bf",
   "metadata": {},
   "outputs": [
    {
     "data": {
      "text/plain": [
       "Text(0.5, 1.0, 'Gráfica de residuos')"
      ]
     },
     "execution_count": 27,
     "metadata": {},
     "output_type": "execute_result"
    },
    {
     "data": {
      "image/png": "[encoded data removed]",
      "text/plain": [
       "<Figure size 432x288 with 1 Axes>"
      ]
     },
     "metadata": {
      "needs_background": "light"
     },
     "output_type": "display_data"
    }
   ],
   "source": [
    "sns.residplot(y_pred, results.resid)\n",
    "plt.xlabel(\"y_pred\")\n",
    "plt.ylabel(\"residuos\")\n",
    "plt.title(\"Gráfica de residuos\")"
   ]
  },
  {
   "cell_type": "markdown",
   "id": "c0d167a1",
   "metadata": {},
   "source": [
    "Interesante! Tenemos la imagen en la cual los residuos tienen una tendencia decreciente y que carecen de varianza constante ya que esta aumenta constantemente con el valor y_pred.\n",
    "\n",
    "Las opciones que tenemos para mejorar el modelo son:"
   ]
  },
  {
   "cell_type": "markdown",
   "id": "31566bb3",
   "metadata": {},
   "source": [
    "- En algunas ocasiones, para corregir la heterocedasticidad se puede recurrir a transformaciones logarírmicas en las variables. Una transformación común es simplemente tomar el logaritmo de la variable dependiente, lo que a menudo hace que desaparezca la heterocedasticidad \n",
    "\n",
    "- Otra técinica es redefinir a la variable dependiente creando una tasa, así, en lugar de medir la cantidad de una variable podemos estimar la cantidad de bienes por persona o por otro criterio\n",
    "\n"
   ]
  },
  {
   "cell_type": "markdown",
   "id": "474379b3",
   "metadata": {},
   "source": [
    "Probemos una trasnformación logarítmica a la variable dependiente para ver cómo cambiaría la relación entre las variables:"
   ]
  },
  {
   "cell_type": "markdown",
   "id": "b723dd2e",
   "metadata": {},
   "source": [
    "### El modelo de regresión log-lin"
   ]
  },
  {
   "cell_type": "markdown",
   "id": "c8008ed0",
   "metadata": {},
   "source": [
    "Una de las ventajas de aplicar logaritmos sobre Y, es su habilidad para acotar el rango de la variable en una cantidad más pequeña que la original. Este efecto generalmente reduce la sensibilidad de las estimaciones a las observaciones extremas o atípicas, tanto de las variables independientes como las dependientes, por lo que en este caso y al violar 2 de 3 supuestos podría ser de bastante ayuda. \n",
    "\n"
   ]
  },
  {
   "cell_type": "markdown",
   "id": "88d8d69a",
   "metadata": {},
   "source": [
    "Existen así mismo varias modificaciones al modelo estándar de Regresión Lineal dependiendo de dónde la transformación logarítmica se aplique. En esta línea, tenemos a continuación de un resumen de la familia de los modelos logarítmicos y cómo cambiaría su interpretación dependiendo de la forma de β1"
   ]
  },
  {
   "attachments": {},
   "cell_type": "markdown",
   "id": "07881cbe",
   "metadata": {},
   "source": [
    "![image-4.png](https://raw.githubusercontent.com/marcecevallos/UDLA_Analitica_predictiva/main/Regresi%C3%B3n%20Linear%20simple%20aplicada/types_linear_models.png)"
   ]
  },
  {
   "cell_type": "markdown",
   "id": "3b4e9f59",
   "metadata": {},
   "source": [
    "_Fuente: KDnuggets: Learn Generalized Linear Models (GLM) using R_"
   ]
  },
  {
   "cell_type": "markdown",
   "id": "b8a89ffc",
   "metadata": {},
   "source": [
    "Antes de aplicar logaritmos a nuestra variable dependiente repliquemos el análisis de datos extremos realizado a la variable dependiente \"Y\""
   ]
  },
  {
   "cell_type": "markdown",
   "id": "695070d8",
   "metadata": {},
   "source": [
    "Como ejemplo de la tabla, y siguiendo las recomendaciones de los supuestos violados, probemos aplicando logaritmos a nuestra variable dependiente precio con la ayuda del module numpy."
   ]
  },
  {
   "cell_type": "code",
   "execution_count": 28,
   "id": "cc139ba4",
   "metadata": {},
   "outputs": [],
   "source": [
    "log_precio=np.log(df.precio)"
   ]
  },
  {
   "cell_type": "markdown",
   "id": "32a232ac",
   "metadata": {},
   "source": [
    "Ahora, adicionemos esta columna a nuestro dataframe para fácil acceso dentro del análisis:"
   ]
  },
  {
   "cell_type": "code",
   "execution_count": 29,
   "id": "bafc01f3",
   "metadata": {},
   "outputs": [],
   "source": [
    "df['log_precio']=log_precio"
   ]
  },
  {
   "cell_type": "markdown",
   "id": "e0781842",
   "metadata": {},
   "source": [
    "Listo,  procedamos a replicar el gráfico con la función regplot del module seaborn con una línea de tendencia calculada por Regresión lineal para observar que tanto se ajusta la recta a la nueva nube de puntos.\n"
   ]
  },
  {
   "cell_type": "code",
   "execution_count": 30,
   "id": "107c617d",
   "metadata": {},
   "outputs": [
    {
     "data": {
      "image/png": "[encoded data removed]",
      "text/plain": [
       "<Figure size 432x288 with 1 Axes>"
      ]
     },
     "metadata": {
      "needs_background": "light"
     },
     "output_type": "display_data"
    }
   ],
   "source": [
    "sns.regplot(y='log_precio',\n",
    "            x= 'area',\n",
    "            data=df, \n",
    "            line_kws={'color': 'turquoise'})\n",
    "plt.show()"
   ]
  },
  {
   "cell_type": "markdown",
   "id": "e6ac0a39",
   "metadata": {},
   "source": [
    "Cuando se aplica la transformación logarítmica a las variables en un modelo de regresión lineal, los coeficientes estimados del modelo cambiarán, pero el valor de R-cuadrado permanecerá sin cambios.\n",
    "\n",
    "La razón de esto es que la transformación logarítmica afecta a los valores de las variables, pero no a la relación lineal entre las variables. Por lo tanto, la relación entre las variables sigue siendo la misma después de la transformación logarítmica."
   ]
  },
  {
   "cell_type": "markdown",
   "id": "cc204d75",
   "metadata": {},
   "source": [
    "Por otro lado, los coeficientes estimados cambiarán después de aplicar la transformación logarítmica debido a la naturaleza logarítmica de la transformación. En particular, la transformación logarítmica puede \"aplanar\" la relación entre las variables, lo que significa que la relación puede parecer más lineal en una escala logarítmica que en una escala lineal."
   ]
  },
  {
   "cell_type": "markdown",
   "id": "86c36a00",
   "metadata": {},
   "source": [
    "Corramos el nuevo modelo:"
   ]
  },
  {
   "cell_type": "code",
   "execution_count": 31,
   "id": "d16761c0",
   "metadata": {},
   "outputs": [],
   "source": [
    "regresion_2 = ols(\"log_precio ~ area\", data=df)\n",
    "results_2 = regresion_2.fit()"
   ]
  },
  {
   "cell_type": "code",
   "execution_count": 32,
   "id": "6f06c98e",
   "metadata": {},
   "outputs": [
    {
     "name": "stdout",
     "output_type": "stream",
     "text": [
      "                            OLS Regression Results                            \n",
      "==============================================================================\n",
      "Dep. Variable:             log_precio   R-squared:                       0.265\n",
      "Model:                            OLS   Adj. R-squared:                  0.264\n",
      "Method:                 Least Squares   F-statistic:                     190.8\n",
      "Date:                Wed, 26 Oct 2022   Prob (F-statistic):           2.90e-37\n",
      "Time:                        07:32:10   Log-Likelihood:                -108.37\n",
      "No. Observations:                 530   AIC:                             220.7\n",
      "Df Residuals:                     528   BIC:                             229.3\n",
      "Df Model:                           1                                         \n",
      "Covariance Type:            nonrobust                                         \n",
      "==============================================================================\n",
      "                 coef    std err          t      P>|t|      [0.025      0.975]\n",
      "------------------------------------------------------------------------------\n",
      "Intercept     14.8469      0.034    435.636      0.000      14.780      14.914\n",
      "area        8.606e-05   6.23e-06     13.812      0.000    7.38e-05    9.83e-05\n",
      "==============================================================================\n",
      "Omnibus:                        2.972   Durbin-Watson:                   0.523\n",
      "Prob(Omnibus):                  0.226   Jarque-Bera (JB):                3.035\n",
      "Skew:                          -0.163   Prob(JB):                        0.219\n",
      "Kurtosis:                       2.824   Cond. No.                     1.44e+04\n",
      "==============================================================================\n",
      "\n",
      "Notes:\n",
      "[1] Standard Errors assume that the covariance matrix of the errors is correctly specified.\n",
      "[2] The condition number is large, 1.44e+04. This might indicate that there are\n",
      "strong multicollinearity or other numerical problems.\n"
     ]
    }
   ],
   "source": [
    "print(results_2.summary())"
   ]
  },
  {
   "cell_type": "markdown",
   "id": "ddbfb620",
   "metadata": {},
   "source": [
    "## Verificación de los supuestos de la Regresión Lineal"
   ]
  },
  {
   "cell_type": "markdown",
   "id": "80950c1c",
   "metadata": {},
   "source": [
    "### 1. Linealidad en los parametros"
   ]
  },
  {
   "cell_type": "code",
   "execution_count": 33,
   "id": "e4dab0a0",
   "metadata": {},
   "outputs": [
    {
     "data": {
      "text/plain": [
       "<seaborn.axisgrid.PairGrid at 0x1f688abc370>"
      ]
     },
     "execution_count": 33,
     "metadata": {},
     "output_type": "execute_result"
    },
    {
     "data": {
      "image/png": "[encoded data removed]",
      "text/plain": [
       "<Figure size 288x288 with 1 Axes>"
      ]
     },
     "metadata": {
      "needs_background": "light"
     },
     "output_type": "display_data"
    }
   ],
   "source": [
    "sns.pairplot(x_vars='area', y_vars='log_precio' , data=df, size=4)"
   ]
  },
  {
   "cell_type": "markdown",
   "id": "c058c4c1",
   "metadata": {},
   "source": [
    "### 2. Normalidad en los residuos"
   ]
  },
  {
   "cell_type": "markdown",
   "id": "0bc67fa1",
   "metadata": {},
   "source": [
    "Para la normalidad en los residuos del modelo, compararemos mediantelos gráficos QQ (o gráfico de cuantiles-cuantiles)si los puntos del gráfico forman aproximadamente una línea diagonal recta."
   ]
  },
  {
   "cell_type": "code",
   "execution_count": 34,
   "id": "c57f71f0",
   "metadata": {},
   "outputs": [
    {
     "data": {
      "image/png": "[encoded data removed]",
      "text/plain": [
       "<Figure size 432x288 with 1 Axes>"
      ]
     },
     "execution_count": 34,
     "metadata": {},
     "output_type": "execute_result"
    },
    {
     "data": {
      "image/png": "[encoded data removed]",
      "text/plain": [
       "<Figure size 432x288 with 1 Axes>"
      ]
     },
     "metadata": {
      "needs_background": "light"
     },
     "output_type": "display_data"
    }
   ],
   "source": [
    "sm.qqplot(results_2.resid, line='q')"
   ]
  },
  {
   "cell_type": "markdown",
   "id": "4aa45e68",
   "metadata": {},
   "source": [
    "Qué diferencia!"
   ]
  },
  {
   "cell_type": "markdown",
   "id": "703d0803",
   "metadata": {},
   "source": [
    "Como podemos ver, las líneas azules que representan a los residuos caen cerca de la línea recta sobretodo en la posición central, \n",
    "Si quisiésemos validar la prueba gráfica con la estadística, podríamos recurrir a una de las pruebas detalladas en la secciónde supuestos.\n",
    "En este caso, aplicaremos la prueba de Jarque-Bera para validar la hipótesis de normalidad en residuos."
   ]
  },
  {
   "cell_type": "markdown",
   "id": "38ed25ad",
   "metadata": {},
   "source": [
    "Para aplicar una prueba estadística como la de Jarque Bera, recordemos que debemos importar un submódulo de statsmodels que son las estadísticas \"stats\""
   ]
  },
  {
   "cell_type": "markdown",
   "id": "da44ceba",
   "metadata": {},
   "source": [
    "La hipótesis nula de este test es:\n",
    "\n",
    "- H0: Los datos se distribuyen normalmente\n",
    "- H1: Los datos no se distribuyen normalmente"
   ]
  },
  {
   "cell_type": "code",
   "execution_count": 35,
   "id": "70b20f76",
   "metadata": {},
   "outputs": [
    {
     "data": {
      "text/plain": [
       "[('Jarque-Bera', 3.034562183387434),\n",
       " ('Chi^2 two-tail prob.', 0.21930735366119203),\n",
       " ('Skew', -0.16325448998935957),\n",
       " ('Kurtosis', 2.8244835546181504)]"
      ]
     },
     "execution_count": 35,
     "metadata": {},
     "output_type": "execute_result"
    }
   ],
   "source": [
    "nombres = [\"Jarque-Bera\", \"Chi^2 two-tail prob.\", \"Skew\", \"Kurtosis\"]\n",
    "jarque_bera = sms.jarque_bera(results_2.resid)\n",
    "lzip(nombres, jarque_bera)"
   ]
  },
  {
   "cell_type": "markdown",
   "id": "844d84c1",
   "metadata": {},
   "source": [
    "El estadístico de Jarque Bera disminuyó su tamaño lo cual es una my buena señal. Además, la probabilidad del chi^2 el cual es mayor que .05, por lo que no podemos rechazar la hipótesis nula, y se concluye que no tenemos suficiente evidencia para decir que estos datos tienen asimetría y curtosis que es significativamente diferente de una distribución normal."
   ]
  },
  {
   "cell_type": "markdown",
   "id": "4fa8d547",
   "metadata": {},
   "source": [
    "Finalmemte, podemos contrastar si la media de los residuos de este modelo es 0, o muy cercano a este. Para esto podemos extrar los residuos del modelo y calcular la media directamente:"
   ]
  },
  {
   "cell_type": "code",
   "execution_count": 36,
   "id": "c7638f5c",
   "metadata": {},
   "outputs": [
    {
     "data": {
      "text/plain": [
       "-3.4230497648131173e-09"
      ]
     },
     "execution_count": 36,
     "metadata": {},
     "output_type": "execute_result"
    }
   ],
   "source": [
    "results.resid.mean()"
   ]
  },
  {
   "cell_type": "markdown",
   "id": "82210919",
   "metadata": {},
   "source": [
    "La media de los residuos tiende a cero y es muy pequeña por lo que no se estaría violando este supuesto."
   ]
  },
  {
   "cell_type": "markdown",
   "id": "5272fc82",
   "metadata": {},
   "source": [
    "### 3. Homocedasticidad en los residuos"
   ]
  },
  {
   "cell_type": "markdown",
   "id": "88822bb2",
   "metadata": {},
   "source": [
    "Para comprobar este supuesto podemos graficar los valores ajustados frente a una gráfica de residuos. De existir heterocedasticidad, los residuos se dispersarán mucho más a medida que los valores ajustados aumenten creando una imagen de cono.\n",
    "\n",
    "Aplicando a Python este gráfico se obtendría por medio del comando residplot dentro de seaborn."
   ]
  },
  {
   "cell_type": "code",
   "execution_count": 37,
   "id": "78d8ddb7",
   "metadata": {},
   "outputs": [],
   "source": [
    "y_pred2=results_2.predict()"
   ]
  },
  {
   "cell_type": "code",
   "execution_count": 38,
   "id": "846427c6",
   "metadata": {},
   "outputs": [
    {
     "data": {
      "text/plain": [
       "Text(0.5, 1.0, 'Gráfica de residuos')"
      ]
     },
     "execution_count": 38,
     "metadata": {},
     "output_type": "execute_result"
    },
    {
     "data": {
      "image/png": "[encoded data removed]",
      "text/plain": [
       "<Figure size 432x288 with 1 Axes>"
      ]
     },
     "metadata": {
      "needs_background": "light"
     },
     "output_type": "display_data"
    }
   ],
   "source": [
    "sns.residplot(y_pred2, results_2.resid)\n",
    "plt.xlabel(\"y_pred\")\n",
    "plt.ylabel(\"residuos\")\n",
    "plt.title(\"Gráfica de residuos\")"
   ]
  },
  {
   "cell_type": "markdown",
   "id": "aa138f23",
   "metadata": {},
   "source": [
    "Interesante! Aunque corregimos el problema de normalidad en los residuos vemos que aún tenemos problemas para pasar el supuesto de heterocedasticidad. Las opciones que nos quedan son:\n",
    "- Redefinir a la variable dependiente creando una tasa\n",
    "- Aplicar el tratamiento de valores extremos a la variable independiente"
   ]
  },
  {
   "cell_type": "markdown",
   "id": "0e9a2514",
   "metadata": {},
   "source": [
    "Comencemos con el tratamiento de valores extremos a la varaible dependiente ya que la gráfica de normalidad se ajustó muchísimo, pero aún se pueden ver algunos puntos qe caen fuera de la línea del Q-Q plot."
   ]
  },
  {
   "cell_type": "code",
   "execution_count": 39,
   "id": "f1b34c7d",
   "metadata": {},
   "outputs": [
    {
     "data": {
      "text/plain": [
       "<AxesSubplot:xlabel='area', ylabel='Density'>"
      ]
     },
     "execution_count": 39,
     "metadata": {},
     "output_type": "execute_result"
    },
    {
     "data": {
      "image/png": "[encoded data removed]",
      "text/plain": [
       "<Figure size 432x288 with 1 Axes>"
      ]
     },
     "metadata": {
      "needs_background": "light"
     },
     "output_type": "display_data"
    }
   ],
   "source": [
    "sns.distplot(df['area'],color=\"blue\")"
   ]
  },
  {
   "cell_type": "markdown",
   "id": "59d2b9ad",
   "metadata": {},
   "source": [
    "Del gráfico podríamos intuir que la distribución se trata de una distribución bimodal, por lo que retirar valores extremos no va a cambiar su distribución, pero sí puede ajustar los resultados de la regresión."
   ]
  },
  {
   "cell_type": "code",
   "execution_count": 40,
   "id": "64f31c70",
   "metadata": {},
   "outputs": [
    {
     "name": "stdout",
     "output_type": "stream",
     "text": [
      "2768.25\n"
     ]
    }
   ],
   "source": [
    "# Calculamos el Quartil 1 y Quartil 3 que son aquellos que nos permiten estimar los límites de los datos atípicos\n",
    "Q1_area = df.area.quantile(0.25)\n",
    "Q3_area = df.area.quantile(0.75)\n",
    "IQR_area = Q3_area - Q1_area  #rango intercuartil\n",
    "print(IQR_area)"
   ]
  },
  {
   "cell_type": "code",
   "execution_count": 41,
   "id": "b06fc1da",
   "metadata": {},
   "outputs": [
    {
     "data": {
      "text/plain": [
       "(517, 14)"
      ]
     },
     "execution_count": 41,
     "metadata": {},
     "output_type": "execute_result"
    }
   ],
   "source": [
    "# Ahora removemos aquellas observaciones que se encuentran por fuera del rango: 1.5 x IOR\n",
    "df = df[~((df['area'] < (Q1_area - 1.5 * IQR_area)) |(df['area'] > (Q3_area + 1.5 * IQR_area)))]\n",
    "df.shape"
   ]
  },
  {
   "cell_type": "code",
   "execution_count": 42,
   "id": "572c963f",
   "metadata": {},
   "outputs": [
    {
     "data": {
      "text/plain": [
       "<AxesSubplot:xlabel='area', ylabel='Density'>"
      ]
     },
     "execution_count": 42,
     "metadata": {},
     "output_type": "execute_result"
    },
    {
     "data": {
      "image/png": "[encoded data removed]",
      "text/plain": [
       "<Figure size 432x288 with 1 Axes>"
      ]
     },
     "metadata": {
      "needs_background": "light"
     },
     "output_type": "display_data"
    }
   ],
   "source": [
    "sns.distplot(df['area'],color=\"blue\")"
   ]
  },
  {
   "cell_type": "code",
   "execution_count": 43,
   "id": "b6b84d9d",
   "metadata": {},
   "outputs": [],
   "source": [
    "regresion_3 = ols(\"log_precio ~ area\", data=df)\n",
    "results_3 = regresion_3.fit()"
   ]
  },
  {
   "cell_type": "code",
   "execution_count": 44,
   "id": "9f009179",
   "metadata": {},
   "outputs": [
    {
     "name": "stdout",
     "output_type": "stream",
     "text": [
      "                            OLS Regression Results                            \n",
      "==============================================================================\n",
      "Dep. Variable:             log_precio   R-squared:                       0.288\n",
      "Model:                            OLS   Adj. R-squared:                  0.286\n",
      "Method:                 Least Squares   F-statistic:                     208.0\n",
      "Date:                Wed, 26 Oct 2022   Prob (F-statistic):           7.62e-40\n",
      "Time:                        07:32:13   Log-Likelihood:                -97.736\n",
      "No. Observations:                 517   AIC:                             199.5\n",
      "Df Residuals:                     515   BIC:                             208.0\n",
      "Df Model:                           1                                         \n",
      "Covariance Type:            nonrobust                                         \n",
      "==============================================================================\n",
      "                 coef    std err          t      P>|t|      [0.025      0.975]\n",
      "------------------------------------------------------------------------------\n",
      "Intercept     14.7643      0.038    391.549      0.000      14.690      14.838\n",
      "area           0.0001   7.25e-06     14.421      0.000    9.03e-05       0.000\n",
      "==============================================================================\n",
      "Omnibus:                        4.093   Durbin-Watson:                   0.577\n",
      "Prob(Omnibus):                  0.129   Jarque-Bera (JB):                4.172\n",
      "Skew:                          -0.204   Prob(JB):                        0.124\n",
      "Kurtosis:                       2.837   Cond. No.                     1.52e+04\n",
      "==============================================================================\n",
      "\n",
      "Notes:\n",
      "[1] Standard Errors assume that the covariance matrix of the errors is correctly specified.\n",
      "[2] The condition number is large, 1.52e+04. This might indicate that there are\n",
      "strong multicollinearity or other numerical problems.\n"
     ]
    }
   ],
   "source": [
    "print(results_3.summary())"
   ]
  },
  {
   "cell_type": "markdown",
   "id": "f74fa604",
   "metadata": {},
   "source": [
    "Los resultados del modelo sugieren que el modelo de regresión simple alcanza a explicar ahora 30% la variabilidad de \"Y\" con nuestra variable \"X\", lo cual ya es considerable. Recuerden que estamos explicando la variabilidad de \"Y\" en función de una sola variable por lo que la variabilidad explicada siempre será menor que cuando incluyamos más variables."
   ]
  },
  {
   "cell_type": "markdown",
   "id": "21254cd0",
   "metadata": {},
   "source": [
    "Listo!, verifiquemos si con este procedimiento logramos tener algún impacto en la heterocedasticidad de los residuos de nuestro modelo de regresión 2."
   ]
  },
  {
   "cell_type": "code",
   "execution_count": 45,
   "id": "dad2e554",
   "metadata": {},
   "outputs": [],
   "source": [
    "y_pred3=results_3.predict()"
   ]
  },
  {
   "cell_type": "code",
   "execution_count": 46,
   "id": "de9175eb",
   "metadata": {},
   "outputs": [
    {
     "data": {
      "text/plain": [
       "Text(0.5, 1.0, 'Gráfica de residuos')"
      ]
     },
     "execution_count": 46,
     "metadata": {},
     "output_type": "execute_result"
    },
    {
     "data": {
      "image/png": "[encoded data removed]",
      "text/plain": [
       "<Figure size 432x288 with 1 Axes>"
      ]
     },
     "metadata": {
      "needs_background": "light"
     },
     "output_type": "display_data"
    }
   ],
   "source": [
    "sns.residplot(y_pred3, results_3.resid)\n",
    "plt.xlabel(\"y_pred\")\n",
    "plt.ylabel(\"residuos\")\n",
    "plt.title(\"Gráfica de residuos\")"
   ]
  },
  {
   "cell_type": "markdown",
   "id": "c31bb939",
   "metadata": {},
   "source": [
    "Perfecto! \n",
    "De la gráfica de residuos anterior, podríamos inferir que los residuos no formaron ningún patrón fuerte (aunque seguimos viendo ese decremento en las y predichas pero es mucho menos evidente que en los residuos de los modelos 1 y 2).\n",
    "\n",
    "Adicionalmente, los residuos tienden a tener varianza constante, ya que esta no parece aumentar/disminuir constantemente con el valor y_pred."
   ]
  },
  {
   "cell_type": "markdown",
   "id": "6e311454",
   "metadata": {},
   "source": [
    "_Nota No.1: Es posible que al aplicar la prueba estadística, la probabilidad sea inferior a 0.05 y no se pueda aceptar la hipótesis nula, se podría relajar el supuesto si para uno de los niveles de significancia la prueba estadística pasa, de interesarles apliquen la prueba y coméntenme en la sesión sincrónica qué descubrieron_"
   ]
  },
  {
   "cell_type": "markdown",
   "id": "66162415",
   "metadata": {},
   "source": [
    "### Importante"
   ]
  },
  {
   "cell_type": "markdown",
   "id": "45bd7dd9",
   "metadata": {
    "scrolled": true
   },
   "source": [
    "Debido a que los resultados del modelo 3 corresponden a uno típicamente log-lin, hay que tener cuidado en la interpretación de los resultados porque la relación entre los estimadores ha cambiado. Es así que si seguimos la tabla incluída previamente en este script, podemos interpretar los resultados del modelo de la siguiente forma:"
   ]
  },
  {
   "cell_type": "markdown",
   "id": "d569397a",
   "metadata": {},
   "source": [
    "El modelo Log-Nivel se conoce también como la semielasticidad de \"Y\" respecto a \"X\", y se interpreta como un incremento de 1 unidad en \"X\" o en el área del inmueble, se asocia a un cambio en \"Y\" de (100·β1 )%, ( 0.1%)"
   ]
  }
 ],
 "metadata": {
  "kernelspec": {
   "display_name": "Python 3 (ipykernel)",
   "language": "python",
   "name": "python3"
  },
  "language_info": {
   "codemirror_mode": {
    "name": "ipython",
    "version": 3
   },
   "file_extension": ".py",
   "mimetype": "text/x-python",
   "name": "python",
   "nbconvert_exporter": "python",
   "pygments_lexer": "ipython3",
   "version": "3.9.7"
  }
 },
 "nbformat": 4,
 "nbformat_minor": 5
}
