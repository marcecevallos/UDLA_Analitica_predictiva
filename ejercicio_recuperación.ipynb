{
 "cells": [
  {
   "cell_type": "markdown",
   "id": "98c645fc",
   "metadata": {},
   "source": [
    "## Ejercio de recuperación"
   ]
  },
  {
   "cell_type": "markdown",
   "id": "3b325fd0",
   "metadata": {},
   "source": [
    "Queridos estudiantes, a continuación podrán encontrar una base de datos que contiene información acerca de automóviles Ford.\n",
    "\n"
   ]
  },
  {
   "cell_type": "markdown",
   "id": "2bb4f9c6",
   "metadata": {},
   "source": [
    "# Descripción de los puntos a realizar:"
   ]
  },
  {
   "cell_type": "markdown",
   "id": "5c3023dc",
   "metadata": {},
   "source": [
    "### 1. Importe la base de datos una base al Jupyter Notebook con pandas"
   ]
  },
  {
   "cell_type": "markdown",
   "id": "d51979ef",
   "metadata": {},
   "source": [
    "### 2. Obtenga los descriptivos resumen de la base de datos e identifique a las variables numéricas y categóricas. ¿Hay algo que les llame la atención?"
   ]
  },
  {
   "cell_type": "markdown",
   "id": "db7e1e31",
   "metadata": {},
   "source": [
    "### 3. Evalúe si la base contiene datos perdidos"
   ]
  },
  {
   "cell_type": "markdown",
   "id": "3f4fda66",
   "metadata": {},
   "source": [
    "### 4. Evalúe si alguna de las variables contiene datos atípicos (outliers). \n",
    "- De ser el caso detalle cuáles y qué método estadístico aplicarán para corregir"
   ]
  },
  {
   "cell_type": "markdown",
   "id": "3baff816",
   "metadata": {},
   "source": [
    "### 5. Grafique las distribuciones de las variables y a priori comente sobre ellas"
   ]
  },
  {
   "cell_type": "markdown",
   "id": "ecd4d74b",
   "metadata": {},
   "source": [
    "### 6. Obtenga las correlaciones entre los datos de corte numérico"
   ]
  },
  {
   "cell_type": "markdown",
   "id": "dfd74d3c",
   "metadata": {},
   "source": [
    "### 7. Separe a los datos categóricos de los numéricos"
   ]
  },
  {
   "cell_type": "markdown",
   "id": "52f67326",
   "metadata": {},
   "source": [
    "### 8. ¿Estandarizó a alguna de las variables?, justifique su respuesta"
   ]
  },
  {
   "cell_type": "markdown",
   "id": "bdaabe06",
   "metadata": {},
   "source": [
    "### 9. Aplique el enfoque econométrico y explique en qué se diferencia del enfoque de ML."
   ]
  },
  {
   "cell_type": "markdown",
   "id": "3f162454",
   "metadata": {},
   "source": [
    "### 10. Comente qué  tipo de modelo aplicará a la base y qué variable escogerán como variable dependiente Y. Indique de igual forma, qué variables introducirán a su modelo de como variables explicativas. Justifique su respuesta"
   ]
  },
  {
   "cell_type": "markdown",
   "id": "f08ff87c",
   "metadata": {},
   "source": [
    "### 11. Grabe el  modelo  y otórguele el alias de su preferencia."
   ]
  },
  {
   "cell_type": "markdown",
   "id": "d1780127",
   "metadata": {},
   "source": [
    "### 12. Evalúe su modelo. ¿Es este aceptable?, para ello escoja las métricas correspondientes\n",
    "\n",
    "- ¿Bajo cuántos datos fue obtenido el modelo? \n",
    "- ¿Cuál es su grado de ajuste?, \n",
    "- ¿Hay variables significativas? \n"
   ]
  },
  {
   "cell_type": "markdown",
   "id": "5bde7736",
   "metadata": {},
   "source": [
    "### 13. Verifique los supuestos . Comente cada uno de ellos"
   ]
  },
  {
   "cell_type": "markdown",
   "id": "f02e172d",
   "metadata": {},
   "source": [
    "### 14. ¿Cuáles son las variables no- significativas? Para esta última pregunta por favor aplique un contraste de hipótesis sobre los estimadores"
   ]
  },
  {
   "cell_type": "markdown",
   "id": "a186d803",
   "metadata": {},
   "source": [
    "### 15. Grafique a los valores predicho del modelo vs los valores reales\n",
    "- ¿Cómo se ven una vez graficados frente a los valores reales? Argumente su respusta."
   ]
  },
  {
   "cell_type": "markdown",
   "id": "64b6a86f",
   "metadata": {},
   "source": [
    "### 16. Aplique el enfoque de ML a la base de datos"
   ]
  },
  {
   "cell_type": "markdown",
   "id": "747a16e1",
   "metadata": {},
   "source": [
    "### 17. Evalúe supuestos, justifique su respuesta"
   ]
  },
  {
   "cell_type": "markdown",
   "id": "c35c0c20",
   "metadata": {},
   "source": [
    "### 18. ¿Estandarizó a alguna de las variables?, justifique su respuesta"
   ]
  },
  {
   "cell_type": "markdown",
   "id": "80effb20",
   "metadata": {},
   "source": [
    "### 19. Realice un train/test split, separando un 90% de los datos para la submuestra de entrenamiento y 10% para la submuestra de prueba"
   ]
  },
  {
   "cell_type": "markdown",
   "id": "9dd93eba",
   "metadata": {},
   "source": [
    "### 20. Identifique a las dos variables con mayor poder explicativo en el modelo. ¿Cómo las identificó?"
   ]
  },
  {
   "cell_type": "markdown",
   "id": "d1f6c17d",
   "metadata": {},
   "source": [
    " "
   ]
  },
  {
   "cell_type": "markdown",
   "id": "cb7f5ae6",
   "metadata": {},
   "source": [
    " "
   ]
  }
 ],
 "metadata": {
  "kernelspec": {
   "display_name": "Python 3 (ipykernel)",
   "language": "python",
   "name": "python3"
  },
  "language_info": {
   "codemirror_mode": {
    "name": "ipython",
    "version": 3
   },
   "file_extension": ".py",
   "mimetype": "text/x-python",
   "name": "python",
   "nbconvert_exporter": "python",
   "pygments_lexer": "ipython3",
   "version": "3.9.7"
  }
 },
 "nbformat": 4,
 "nbformat_minor": 5
}
