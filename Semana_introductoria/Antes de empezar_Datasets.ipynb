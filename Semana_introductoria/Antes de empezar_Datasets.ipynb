{
 "cells": [
  {
   "cell_type": "markdown",
   "id": "3ab82d70",
   "metadata": {},
   "source": [
    "# Los datasets o bases de datos"
   ]
  },
  {
   "cell_type": "markdown",
   "id": "a9b3499d",
   "metadata": {},
   "source": [
    "A lo largo del presesente curso trabajaremos con distintas bases de datos, orientadas al tipo de problema en el que nos enfoquemos, pero como línea general trabajaremos con bases de datos Open Source o de acceso libre, principalmente encontrados en Kaggle en el siguiente link:\n"
   ]
  },
  {
   "cell_type": "markdown",
   "id": "39390dee",
   "metadata": {},
   "source": [
    "https://www.kaggle.com/"
   ]
  },
  {
   "cell_type": "markdown",
   "id": "bd00e70e",
   "metadata": {},
   "source": [
    "**Pero, ¿qué es Kaggle, y cuál es su importancia desde el análisis econométrico y la Ciencia de Datos?**"
   ]
  },
  {
   "cell_type": "markdown",
   "id": "61b01e56",
   "metadata": {},
   "source": [
    "Kaggle es primero que nada una subsidiaria de **Google** que funge como una plataforma web que permite a sus usuarios disponer de bases de datos, códigos, tutoriales y competencias para que el viaje por la Ciencia de Datos sea satisfactorio.\n",
    "Es así que en Kaggle hay un aproximado de 50,000 bases de datos públicas y 400,000 notebooks como este que están leyendo que ayudan a estudiantes y profesionales a aprender o expandir conocimientos."
   ]
  },
  {
   "cell_type": "markdown",
   "id": "bd58346a",
   "metadata": {},
   "source": [
    "Un poco de historia:\n",
    "\n",
    "Kaggle es relativamente nuevo, dado que inició sus operaciones en el 2010 ofreciendo concursos de aprendizaje automático.\n",
    "\n",
    "Nicholas Gruen fue su presidente fundador, el cual impulsó a Kaggle y lo posicionó en el mercado para que en marzo de 2017, Google lo adquiera."
   ]
  },
  {
   "cell_type": "markdown",
   "id": "dd0fbd8a",
   "metadata": {},
   "source": [
    "Al igual que en el presente curso Kaggle trabaja con el GUI o interfaz de los Python notebooks distribuídos por Anaconda, por lo que les va a resultar muy familiar explorar sus contenidos :)"
   ]
  },
  {
   "cell_type": "markdown",
   "id": "a68a9def",
   "metadata": {},
   "source": [
    "## 1. Recomendación No.1: Creen una cuenta en Kaggle y exploren sus contenidos!"
   ]
  },
  {
   "cell_type": "markdown",
   "id": "7aac9fa1",
   "metadata": {},
   "source": [
    "_Nota No.1:Si tienen más curiosidad acerca de los contenidos de Kaggle y sus competencias les sugiero leer el siguiente artículo de la página DataScientest:\n",
    "https://datascientest.com/es/kaggle-todo-lo-que-hay-que-saber-sobre-esta-plataforma_"
   ]
  },
  {
   "cell_type": "markdown",
   "id": "22143b97",
   "metadata": {},
   "source": [
    "## 2. Pasos para crear una cuenta en Kaggle"
   ]
  },
  {
   "cell_type": "markdown",
   "id": "e83c23e4",
   "metadata": {},
   "source": [
    "Kaggle funciona como cualquier otra plataforma online. Para su registo basta con dirigirse al link y dar click en \"Register\""
   ]
  },
  {
   "cell_type": "markdown",
   "id": "d9ed213b",
   "metadata": {},
   "source": [
    "![screenshot1](https://raw.githubusercontent.com/marcecevallos/UDLA_Analitica_predictiva/659e1c33619f15a8867858ee47167da78a0b8845/Semana_introductoria/step_1_register.png\n",
    ")"
   ]
  },
  {
   "cell_type": "markdown",
   "id": "16ef3e24",
   "metadata": {},
   "source": [
    "Una vez dado click en \"Register\" se desplegará la siguiente ventana en donde podrán escoger la forma en la que desean registrarse: con su email, o con su gmail:"
   ]
  },
  {
   "attachments": {},
   "cell_type": "markdown",
   "id": "b8040d1c",
   "metadata": {},
   "source": [
    "![image.png](https://raw.githubusercontent.com/marcecevallos/UDLA_Analitica_predictiva/main/Semana_introductoria/step_2_register.png)"
   ]
  },
  {
   "cell_type": "markdown",
   "id": "96762ff2",
   "metadata": {},
   "source": [
    "En la siguiente ventana deberán ingresar el correo con el cual desean registrarse, una contraseña de acceso, y su nombre.\n"
   ]
  },
  {
   "cell_type": "markdown",
   "id": "35ad2188",
   "metadata": {},
   "source": [
    "_Nota No. 2: Para su nombre de usuario escojan un nombre que tenga por lo menos 6 caracteres_"
   ]
  },
  {
   "attachments": {},
   "cell_type": "markdown",
   "id": "20269b10",
   "metadata": {},
   "source": [
    "![image.png](https://raw.githubusercontent.com/marcecevallos/UDLA_Analitica_predictiva/main/Semana_introductoria/step_3_register.png)"
   ]
  },
  {
   "cell_type": "markdown",
   "id": "631d42af",
   "metadata": {},
   "source": [
    "En la siguiente ventana deberán aceptar las normas de privacidad y términos y... listo!"
   ]
  },
  {
   "cell_type": "markdown",
   "id": "a4cf9023",
   "metadata": {},
   "source": [
    "Kaggle les enviará un código de 6 dígitos para verificar su cuenta e email."
   ]
  },
  {
   "attachments": {},
   "cell_type": "markdown",
   "id": "d27c0e83",
   "metadata": {},
   "source": [
    "![image.png](https://raw.githubusercontent.com/marcecevallos/UDLA_Analitica_predictiva/main/Semana_introductoria/step_4_register.png)"
   ]
  },
  {
   "cell_type": "markdown",
   "id": "326204a2",
   "metadata": {},
   "source": [
    "## 3. Los datasets"
   ]
  },
  {
   "cell_type": "markdown",
   "id": "ed24a5b5",
   "metadata": {},
   "source": [
    "Una vez se hayan registrado, e inicien sesión podrán acceder a la página de inicio donde pueden crear Jupyter Notebooks donde analicen y resuelvan problemas, visualicen y descarguen las bases de datos, ver códigos tanto en Python como en R (y otros lenguajes utilizados en la Ciencia de Datos) y aprender mediante la exploración o el ingreso a foros."
   ]
  },
  {
   "attachments": {},
   "cell_type": "markdown",
   "id": "71e3079e",
   "metadata": {},
   "source": [
    "![image.png](https://raw.githubusercontent.com/marcecevallos/UDLA_Analitica_predictiva/main/Semana_introductoria/step_5_datasets.png)"
   ]
  },
  {
   "cell_type": "markdown",
   "id": "abf1e0ed",
   "metadata": {},
   "source": [
    "Para nuestras clases, yo proporcionaré el link directo a las bases de datos, por lo que no tendrán que buscar manualmente las mismas, pero es importante que sepan la estructura de Kaggle para proyectos o en sí su viaje dentro de la Ciencia de Datos."
   ]
  },
  {
   "cell_type": "markdown",
   "id": "5fb04c86",
   "metadata": {},
   "source": [
    "### Actividad No.1: Mandar un screenshot de su cuenta de Kaggle "
   ]
  },
  {
   "cell_type": "markdown",
   "id": "4b268bf6",
   "metadata": {},
   "source": [
    " "
   ]
  }
 ],
 "metadata": {
  "kernelspec": {
   "display_name": "Python 3 (ipykernel)",
   "language": "python",
   "name": "python3"
  },
  "language_info": {
   "codemirror_mode": {
    "name": "ipython",
    "version": 3
   },
   "file_extension": ".py",
   "mimetype": "text/x-python",
   "name": "python",
   "nbconvert_exporter": "python",
   "pygments_lexer": "ipython3",
   "version": "3.9.7"
  }
 },
 "nbformat": 4,
 "nbformat_minor": 5
}
